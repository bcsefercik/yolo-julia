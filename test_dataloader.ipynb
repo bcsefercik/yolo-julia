{
 "cells": [
  {
   "cell_type": "code",
   "execution_count": 12,
   "metadata": {},
   "outputs": [
    {
     "name": "stderr",
     "output_type": "stream",
     "text": [
      "\u001b[32m\u001b[1m Activating\u001b[22m\u001b[39m environment at `~/Desktop/MSc/repos/yolo-julia/Project.toml`\n"
     ]
    }
   ],
   "source": [
    "using Pkg\n",
    "\n",
    "Pkg.activate(\"Project.toml\")\n",
    "\n",
    "using Knet\n",
    "using Random"
   ]
  },
  {
   "cell_type": "code",
   "execution_count": 10,
   "metadata": {},
   "outputs": [],
   "source": [
    "include(\"coco2014.jl\")\n",
    "x, y = load_data(\n",
    "    \"/home/bcs/Desktop/MSc/repos/yolo-julia/dataset/images/overfit\",\n",
    "    \"val_labels.json\",\n",
    "    class_file=\"class_mappings.json\"\n",
    ");\n",
    "\n",
    "dtrn = minibatch(x, y, 3; xsize = (416,416,3,:), xtype=Knet.atype(), shuffle=true);\n",
    "xx, yy = first(dtrn);"
   ]
  },
  {
   "cell_type": "code",
   "execution_count": 17,
   "metadata": {},
   "outputs": [
    {
     "name": "stderr",
     "output_type": "stream",
     "text": [
      "WARNING: replacing module NN.\n"
     ]
    }
   ],
   "source": [
    "\n",
    "include(\"utils/parse_config.jl\")\n",
    "include(\"models.jl\")\n",
    "Random.seed!(1)\n",
    "\n",
    "darknet = Darknet(\"yolov3.cfg\"; verbose=false);\n",
    "yolo_out = darknet(xx);"
   ]
  },
  {
   "cell_type": "code",
   "execution_count": 72,
   "metadata": {},
   "outputs": [
    {
     "data": {
      "text/plain": [
       "([1.0 2.0 … 3.0 3.0; 75.0 60.0 … 1.0 1.0; … ; 0.023625 0.978141 … 0.026697 0.018498; 0.025969 0.872188 … 0.02848 0.012], Float32[1.0, 1.0, 13.0, 13.0, 13.0, 13.0])"
      ]
     },
     "execution_count": 72,
     "metadata": {},
     "output_type": "execute_result"
    }
   ],
   "source": [
    "include(\"utils/utils.jl\")\n",
    "\n",
    "# tcls, tbox, indices, anch = build_targets(yolo_out, yy, darknet)\n",
    "r, g = build_targets(yolo_out, yy, darknet)\n",
    "\n",
    "# size(yolo_out[1])[[3, 2, 3, 2]]"
   ]
  },
  {
   "cell_type": "code",
   "execution_count": 76,
   "metadata": {},
   "outputs": [
    {
     "data": {
      "text/plain": [
       "6×8 Array{Float64,2}:\n",
       "  1.0        2.0        2.0       3.0       …  3.0       3.0       3.0\n",
       " 75.0       60.0       78.0       1.0          1.0       1.0       1.0\n",
       "  0.308267   0.51093    0.858305  0.62012      0.872072  0.180826  0.776426\n",
       "  0.446859   0.442073   0.073521  0.3825       0.53897   0.52664   0.52202\n",
       "  0.023625   0.978141   0.074922  0.404384     0.022643  0.026697  0.018498\n",
       "  0.025969   0.872188   0.059833  0.31468   …  0.04018   0.02848   0.012"
      ]
     },
     "execution_count": 76,
     "metadata": {},
     "output_type": "execute_result"
    }
   ],
   "source": [
    "r[:, 1:6] .* g\n",
    "r"
   ]
  },
  {
   "cell_type": "code",
   "execution_count": 50,
   "metadata": {},
   "outputs": [
    {
     "name": "stdout",
     "output_type": "stream",
     "text": [
      "1\n",
      "2\n"
     ]
    },
    {
     "data": {
      "text/plain": [
       "5×2 Array{Float64,2}:\n",
       " 60.0       78.0\n",
       "  0.51093    0.858305\n",
       "  0.442073   0.073521\n",
       "  0.978141   0.074922\n",
       "  0.872188   0.059833"
      ]
     },
     "execution_count": 50,
     "metadata": {},
     "output_type": "execute_result"
    }
   ],
   "source": [
    "targets = nothing \n",
    "\n",
    "for (i, t) in enumerate(yy[2:end])\n",
    "    println(i)\n",
    "\n",
    "end\n",
    "gg = hcat(yy[2]...)\n",
    "# gg = vcat(ones(1, 2), gg)"
   ]
  },
  {
   "cell_type": "code",
   "execution_count": 48,
   "metadata": {},
   "outputs": [
    {
     "data": {
      "text/plain": [
       "2"
      ]
     },
     "execution_count": 48,
     "metadata": {},
     "output_type": "execute_result"
    }
   ],
   "source": [
    "length(yy[2])\n"
   ]
  },
  {
   "cell_type": "code",
   "execution_count": 6,
   "metadata": {},
   "outputs": [
    {
     "data": {
      "text/plain": [
       "build_targets (generic function with 1 method)"
      ]
     },
     "execution_count": 6,
     "metadata": {},
     "output_type": "execute_result"
    }
   ],
   "source": [
    "include(\"utils/utils.jl\")\n",
    "\n"
   ]
  }
 ],
 "metadata": {
  "kernelspec": {
   "display_name": "Julia 1.5.2",
   "language": "julia",
   "name": "julia-1.5"
  },
  "language_info": {
   "file_extension": ".jl",
   "mimetype": "application/julia",
   "name": "julia",
   "version": "1.5.2"
  }
 },
 "nbformat": 4,
 "nbformat_minor": 4
}
