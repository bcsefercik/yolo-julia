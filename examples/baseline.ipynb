{
 "cells": [
  {
   "cell_type": "markdown",
   "metadata": {},
   "source": [
    "# Baseline"
   ]
  },
  {
   "cell_type": "code",
   "execution_count": 1,
   "metadata": {},
   "outputs": [
    {
     "name": "stderr",
     "output_type": "stream",
     "text": [
      "┌ Warning: Your Tesla K80 GPU does not meet the minimal required compute capability (3.7.0 < 5.0).\n",
      "│ Some functionality might not work. For a fully-supported set-up, please use an older version of CUDA.jl\n",
      "└ @ CUDA /home/ec2-user/.julia/packages/CUDA/YeS8q/src/state.jl:251\n"
     ]
    }
   ],
   "source": [
    "using Knet\n",
    "\n",
    "include(\"../coco2014.jl\");\n",
    "include(\"../models.jl\");\n",
    "include(\"../utils/map.jl\");"
   ]
  },
  {
   "cell_type": "markdown",
   "metadata": {},
   "source": [
    "## Load Data"
   ]
  },
  {
   "cell_type": "code",
   "execution_count": 2,
   "metadata": {},
   "outputs": [
    {
     "name": "stderr",
     "output_type": "stream",
     "text": [
      "┌ Info: Loaded: ../dataset/overfit_data.jld2.\n",
      "└ @ Main /home/ec2-user/yolo-julia/coco2014.jl:43\n"
     ]
    }
   ],
   "source": [
    "data = load_data(\"../dataset/overfit_data.jld2\");  # 100 randomly selected images from training set\n",
    "\n",
    "data_min = minibatch(data.x, data.y, 8; xsize = (416,416,3,:), xtype=Knet.atype());\n",
    "\n",
    "xx, yy = first(data_min);"
   ]
  },
  {
   "cell_type": "markdown",
   "metadata": {},
   "source": [
    "## Init model"
   ]
  },
  {
   "cell_type": "code",
   "execution_count": 3,
   "metadata": {},
   "outputs": [],
   "source": [
    "darknet = Darknet(\"../cfg/yolov3.cfg\"; verbose=false);  # Generates model corresponding to a given config"
   ]
  },
  {
   "cell_type": "markdown",
   "metadata": {},
   "source": [
    "## Loss"
   ]
  },
  {
   "cell_type": "code",
   "execution_count": 4,
   "metadata": {},
   "outputs": [
    {
     "data": {
      "text/plain": [
       "T(731.7557525372505)"
      ]
     },
     "execution_count": 4,
     "metadata": {},
     "output_type": "execute_result"
    }
   ],
   "source": [
    "lss = @diff darknet(xx, yy)"
   ]
  },
  {
   "cell_type": "markdown",
   "metadata": {},
   "source": [
    "## Prediction"
   ]
  },
  {
   "cell_type": "code",
   "execution_count": 12,
   "metadata": {},
   "outputs": [
    {
     "data": {
      "text/plain": [
       "8-element Array{Any,1}:\n",
       " Any[]\n",
       " Any[]\n",
       " Any[Float32[9.0, 244.4768, 170.98517, 360.7179, 245.81738, 0.5596061], Float32[9.0, 245.54878, 234.54309, 359.53467, 309.92096, 0.55721945], Float32[9.0, 246.48685, 297.82745, 359.13614, 374.56213, 0.55015683], Float32[9.0, 180.9957, 204.14828, 295.60184, 276.5126, 0.5492268], Float32[9.0, 184.09692, 266.06158, 293.44812, 342.23096, 0.5490959], Float32[9.0, 181.2324, 139.45816, 296.5184, 213.44028, 0.5384607], Float32[47.0, 244.4768, 170.98517, 360.7179, 245.81738, 0.5596061], Float32[47.0, 245.54878, 234.54309, 359.53467, 309.92096, 0.55721945], Float32[47.0, 246.48685, 297.82745, 359.13614, 374.56213, 0.55015683], Float32[47.0, 180.9957, 204.14828, 295.60184, 276.5126, 0.5492268]  …  Float32[20.0, 244.4768, 170.98517, 360.7179, 245.81738, 0.5596061], Float32[20.0, 245.54878, 234.54309, 359.53467, 309.92096, 0.55721945], Float32[20.0, 246.48685, 297.82745, 359.13614, 374.56213, 0.55015683], Float32[20.0, 180.9957, 204.14828, 295.60184, 276.5126, 0.5492268], Float32[20.0, 184.09692, 266.06158, 293.44812, 342.23096, 0.5490959], Float32[20.0, 183.63104, 327.4569, 294.75922, 409.02582, 0.54566026], Float32[20.0, 181.2324, 139.45816, 296.5184, 213.44028, 0.5384607], Float32[20.0, 117.81858, 297.2845, 232.2265, 375.50983, 0.53756124], Float32[20.0, 116.63953, 234.62738, 232.98267, 310.37134, 0.53216255], Float32[20.0, 119.192505, 171.64758, 230.60214, 244.85306, 0.52865]]\n",
       " Any[]\n",
       " Any[]\n",
       " Any[]\n",
       " Any[Float32[47.0, 246.09537, 43.261177, 357.74594, 117.689476, 0.5702387], Float32[47.0, 150.10098, 43.216087, 261.97763, 117.60514, 0.5684485], Float32[47.0, 245.5718, 107.642654, 359.63766, 181.20189, 0.5589001], Float32[47.0, 22.990376, 326.66867, 135.44008, 410.8741, 0.55679876], Float32[47.0, 313.05853, 74.2079, 419.8911, 150.41237, 0.54974496], Float32[47.0, 22.3196, 266.5296, 134.99245, 343.0467, 0.5496386], Float32[47.0, 84.88565, 169.96243, 200.26044, 245.99118, 0.5463248], Float32[47.0, 22.770031, 203.05257, 134.74286, 279.02487, 0.5434717], Float32[47.0, 246.82843, 170.73473, 358.4627, 245.90886, 0.53875536], Float32[32.0, 246.09537, 43.261177, 357.74594, 117.689476, 0.5702387]  …  Float32[56.0, 24.12604, 170.99274, 86.703476, 294.13016, 0.53122157], Float32[56.0, 104.445755, -5.234501, 166.68263, 118.208786, 0.5308723], Float32[56.0, 215.87642, -6.8987465, 278.80765, 120.180664, 0.53043467], Float32[56.0, 152.21, -7.3215675, 214.59554, 120.52243, 0.53043157], Float32[56.0, 327.47415, -6.3207016, 391.0557, 119.527885, 0.5266245], Float32[56.0, 171.22415, -64.93128, 500.86258, 288.3933, 0.5050711], Float32[76.0, 246.09537, 43.261177, 357.74594, 117.689476, 0.5702387], Float32[76.0, 150.10098, 43.216087, 261.97763, 117.60514, 0.5684485], Float32[18.0, 245.137, 75.9733, 359.28458, 148.8848, 0.56376725], Float32[18.0, 315.2278, 106.598335, 417.66037, 181.7428, 0.54655904]]\n",
       " Any[Float32[9.0, 56.005577, 106.211105, 165.78464, 182.76347, 0.54425406], Float32[47.0, 56.005577, 106.211105, 165.78464, 182.76347, 0.54425406], Float32[61.0, 85.97209, 106.173065, 199.41725, 182.68695, 0.5441991], Float32[56.0, 88.254944, 58.26268, 150.71727, 182.93863, 0.52881885], Float32[20.0, 56.005577, 106.211105, 165.78464, 182.76347, 0.54425406]]"
      ]
     },
     "execution_count": 12,
     "metadata": {},
     "output_type": "execute_result"
    }
   ],
   "source": [
    "result = darknet(xx, training=false, conf_thres=0.3)"
   ]
  },
  {
   "cell_type": "markdown",
   "metadata": {},
   "source": [
    "## mAP "
   ]
  },
  {
   "cell_type": "code",
   "execution_count": 13,
   "metadata": {},
   "outputs": [
    {
     "name": "stderr",
     "output_type": "stream",
     "text": [
      "\u001b[32mProgress: 100%|█████████████████████████████████████████| Time: 0:00:17\u001b[39m\n"
     ]
    },
    {
     "data": {
      "text/plain": [
       "0.0"
      ]
     },
     "execution_count": 13,
     "metadata": {},
     "output_type": "execute_result"
    }
   ],
   "source": [
    "mAP = compute_mAP(darknet, data, conf_thres=0.3)"
   ]
  }
 ],
 "metadata": {
  "kernelspec": {
   "display_name": "Julia 1.5.2",
   "language": "julia",
   "name": "julia-1.5"
  },
  "language_info": {
   "file_extension": ".jl",
   "mimetype": "application/julia",
   "name": "julia",
   "version": "1.5.2"
  }
 },
 "nbformat": 4,
 "nbformat_minor": 4
}
