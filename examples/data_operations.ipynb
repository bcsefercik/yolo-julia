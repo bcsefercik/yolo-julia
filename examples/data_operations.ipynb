{
 "cells": [
  {
   "cell_type": "markdown",
   "metadata": {},
   "source": [
    "# Example Data Operations\n",
    "## Pre-requisetes\n",
    "You should download the dataset from the internet by running the terminal commands below:\n",
    "\n",
    "`\n",
    "cd ..  # To main folder of this repo.\n",
    "mkdir dataset\n",
    "cd dataset\n",
    "sh ../scripts/get_coco_dataset.sh\n",
    "`"
   ]
  },
  {
   "cell_type": "markdown",
   "metadata": {},
   "source": [
    "## Example Usages"
   ]
  },
  {
   "cell_type": "markdown",
   "metadata": {},
   "source": [
    "### Include required files"
   ]
  },
  {
   "cell_type": "code",
   "execution_count": 1,
   "metadata": {},
   "outputs": [
    {
     "name": "stderr",
     "output_type": "stream",
     "text": [
      "\u001b[32m\u001b[1m Activating\u001b[22m\u001b[39m environment at `~/Desktop/MSc/repos/yolo-julia/Project.toml`\n"
     ]
    },
    {
     "data": {
      "text/plain": [
       "load_data (generic function with 1 method)"
      ]
     },
     "execution_count": 1,
     "metadata": {},
     "output_type": "execute_result"
    }
   ],
   "source": [
    "import Pkg\n",
    "using Knet\n",
    "\n",
    "Pkg.activate(\"../Project.toml\")\n",
    "\n",
    "include(\"../coco2014.jl\")"
   ]
  },
  {
   "cell_type": "markdown",
   "metadata": {},
   "source": [
    "### Generate custom label files"
   ]
  },
  {
   "cell_type": "code",
   "execution_count": 2,
   "metadata": {},
   "outputs": [
    {
     "name": "stderr",
     "output_type": "stream",
     "text": [
      "\u001b[32mProgress:  92%|█████████████████████████████████████▋   |  ETA: 0:00:00\u001b[39m┌ Info: Saved to: Base.Iterators.Pairs(:out => \"../train_labels.json\",:class_mappings => \"../class_mappings.json\")[:out]\n",
      "└ @ Main /home/bcs/Desktop/MSc/repos/yolo-julia/coco2014_utils.jl:178\n",
      "\u001b[32mProgress: 100%|█████████████████████████████████████████| Time: 0:00:10\u001b[39m\n",
      "┌ Info: Loaded customized labels.\n",
      "└ @ Main /home/bcs/Desktop/MSc/repos/yolo-julia/coco2014_utils.jl:183\n"
     ]
    }
   ],
   "source": [
    "labels = convert_annotations_to_labels(\n",
    "    \"../dataset/annotations/instances_train2014.json\";\n",
    "    out=\"../train_labels.json\",\n",
    "    class_mappings=\"../class_mappings.json\"\n",
    ");\n"
   ]
  },
  {
   "cell_type": "markdown",
   "metadata": {},
   "source": [
    "### Load customized data from raw images"
   ]
  },
  {
   "cell_type": "code",
   "execution_count": 3,
   "metadata": {},
   "outputs": [
    {
     "name": "stderr",
     "output_type": "stream",
     "text": [
      "\u001b[32mProgress: 100%|█████████████████████████████████████████| Time: 0:00:17\u001b[39m\n"
     ]
    }
   ],
   "source": [
    "overfit_data = COCO14Data(\n",
    "    \"../dataset/images/overfit\",  # Created subset of validation images\n",
    "    \"../val_labels.json\",\n",
    "    class_file=\"../class_mappings.json\"\n",
    ");\n",
    "\n",
    "# Create Knet minibatches\n",
    "dmin = minibatch(\n",
    "    overfit_data.x, \n",
    "    overfit_data.y, 2; \n",
    "    xsize = (416,416,3,:), \n",
    "    xtype=Knet.atype(), \n",
    "    shuffle=true\n",
    ");\n",
    "\n",
    "x, y = first(dmin);"
   ]
  },
  {
   "cell_type": "markdown",
   "metadata": {},
   "source": [
    "### Save COCO2014Data to blob file for future use"
   ]
  },
  {
   "cell_type": "code",
   "execution_count": 4,
   "metadata": {},
   "outputs": [
    {
     "name": "stderr",
     "output_type": "stream",
     "text": [
      "┌ Info: Saved to: ../overfit_data.jld2.\n",
      "└ @ Main /home/bcs/Desktop/MSc/repos/yolo-julia/coco2014.jl:37\n"
     ]
    }
   ],
   "source": [
    "save_data(overfit_data, \"../overfit_data.jld2\");"
   ]
  },
  {
   "cell_type": "markdown",
   "metadata": {},
   "source": [
    "### Load COCO2014Data from blob file (Much faster than loading raw images)"
   ]
  },
  {
   "cell_type": "code",
   "execution_count": 6,
   "metadata": {},
   "outputs": [
    {
     "name": "stderr",
     "output_type": "stream",
     "text": [
      "┌ Info: Loaded: ../overfit_data.jld2.\n",
      "└ @ Main /home/bcs/Desktop/MSc/repos/yolo-julia/coco2014.jl:43\n"
     ]
    }
   ],
   "source": [
    "overfit_data_loaded = load_data(\"../overfit_data.jld2\");\n",
    "\n",
    "# Create Knet minibatches\n",
    "dmin_loaded = minibatch(\n",
    "    overfit_data_loaded.x, \n",
    "    overfit_data_loaded.y, 2; \n",
    "    xsize = (416,416,3,:), \n",
    "    xtype=Knet.atype(), \n",
    "    shuffle=true\n",
    ");\n",
    "\n",
    "xl, yl = first(dmin_loaded);"
   ]
  }
 ],
 "metadata": {
  "kernelspec": {
   "display_name": "Julia 1.5.2",
   "language": "julia",
   "name": "julia-1.5"
  },
  "language_info": {
   "file_extension": ".jl",
   "mimetype": "application/julia",
   "name": "julia",
   "version": "1.5.2"
  }
 },
 "nbformat": 4,
 "nbformat_minor": 4
}
