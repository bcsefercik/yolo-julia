{
 "cells": [
  {
   "cell_type": "code",
   "execution_count": 1,
   "metadata": {},
   "outputs": [
    {
     "name": "stderr",
     "output_type": "stream",
     "text": [
      "\u001b[32m\u001b[1m Activating\u001b[22m\u001b[39m environment at `~/Desktop/MSc/repos/yolo-julia/Project.toml`\n",
      "┌ Info: Precompiling Knet [1902f260-5fb4-5aff-8c31-6271790ab950]\n",
      "└ @ Base loading.jl:1278\n"
     ]
    }
   ],
   "source": [
    "import Pkg\n",
    "\n",
    "Pkg.activate(\"../Project.toml\")\n",
    "\n",
    "using CUDA\n",
    "using Statistics\n",
    "using Random\n",
    "using Test\n",
    "import Base: length, size, iterate, eltype, IteratorSize, IteratorEltype, haslength, @propagate_inbounds, repeat, rand, tail\n",
    "import .Iterators: cycle, Cycle, take\n",
    "using Plots; default(fmt=:png,ls=:auto)\n",
    "\n",
    "import Knet\n",
    "using Knet: deconv4, conv4, unpool, pool, mat, sigm, KnetArray, nll, zeroone, progress, adam!, sgd!, param, param0, dropout, relu, minibatch, Data\n",
    "import Knet: train!\n",
    "\n",
    "using MLDatasets: MNIST"
   ]
  },
  {
   "cell_type": "code",
   "execution_count": 2,
   "metadata": {},
   "outputs": [
    {
     "data": {
      "text/plain": [
       "train! (generic function with 2 methods)"
      ]
     },
     "execution_count": 2,
     "metadata": {},
     "output_type": "execute_result"
    }
   ],
   "source": [
    "include(\"../nn.jl\")\n",
    "\n",
    "import .NN\n",
    "\n",
    "function train!(model, train_data::Data, test_data::Data;\n",
    "                  period::Int=4, iters::Int=100, lr=0.15, optimizer=sgd!)  # or optimizer=adam!\n",
    "    \n",
    "    train_loss = []\n",
    "    test_loss = []\n",
    "    train_acc = []\n",
    "    test_acc = []\n",
    "    \n",
    "    for i in 0:period:iters\n",
    "        push!(train_loss, model(train_data))\n",
    "        push!(test_loss, model(test_data))\n",
    "        \n",
    "        optimizer(model, take(cycle(train_data), period); lr=lr)\n",
    "        \n",
    "        \n",
    "        println(\"Iter: \", i, \" \", train_loss[end])\n",
    "    end\n",
    "    \n",
    "    return 0:period:iters, train_loss, train_acc, test_loss, test_acc\n",
    "end"
   ]
  },
  {
   "cell_type": "code",
   "execution_count": null,
   "metadata": {},
   "outputs": [],
   "source": [
    "\n",
    "xtrn, ytrn = MNIST.traindata(Float32); ytrn[ytrn.==0] .= 10;\n",
    "xtst, ytst = MNIST.testdata(Float32);  ytst[ytst.==0] .= 10;"
   ]
  },
  {
   "cell_type": "code",
   "execution_count": 4,
   "metadata": {},
   "outputs": [
    {
     "name": "stderr",
     "output_type": "stream",
     "text": [
      "WARNING: replacing module NN.\n"
     ]
    },
    {
     "ename": "LoadError",
     "evalue": "DimensionMismatch(\"arrays could not be broadcast to a common size; got a dimension with lengths 2 and 6\")",
     "output_type": "error",
     "traceback": [
      "DimensionMismatch(\"arrays could not be broadcast to a common size; got a dimension with lengths 2 and 6\")",
      "",
      "Stacktrace:",
      " [1] _bcs1 at ./broadcast.jl:501 [inlined]",
      " [2] _bcs at ./broadcast.jl:495 [inlined] (repeats 2 times)",
      " [3] broadcast_shape at ./broadcast.jl:489 [inlined]",
      " [4] combine_axes at ./broadcast.jl:484 [inlined]",
      " [5] instantiate at ./broadcast.jl:266 [inlined]",
      " [6] materialize(::Base.Broadcast.Broadcasted{Base.Broadcast.DefaultArrayStyle{2},Nothing,typeof(*),Tuple{LinearAlgebra.Transpose{Float64,Array{Float64,2}},Array{Float32,2}}}) at ./broadcast.jl:837",
      " [7] build_targets(::Array{Any,1}, ::Array{Int64,1}, ::Darknet; atype::Type) at /home/bcs/Desktop/MSc/repos/yolo-julia/utils/utils.jl:33",
      " [8] build_targets(::Array{Any,1}, ::Array{Int64,1}, ::Darknet) at /home/bcs/Desktop/MSc/repos/yolo-julia/utils/utils.jl:6",
      " [9] (::Darknet)(::Array{Float32,4}, ::Array{Int64,1}; training::Bool) at /home/bcs/Desktop/MSc/repos/yolo-julia/models.jl:191",
      " [10] (::Darknet)(::Array{Float32,4}, ::Array{Int64,1}) at /home/bcs/Desktop/MSc/repos/yolo-julia/models.jl:189",
      " [11] (::Darknet)(::Data{Tuple{Array{Float32,N} where N,Array{Int64,N} where N}}) at /home/bcs/Desktop/MSc/repos/yolo-julia/models.jl:231",
      " [12] #train!#1 at ./In[2]:14 [inlined]",
      " [13] top-level scope at In[4]:28",
      " [14] include_string(::Function, ::Module, ::String, ::String) at ./loading.jl:1091"
     ]
    }
   ],
   "source": [
    "\n",
    "include(\"../utils/parse_config.jl\")\n",
    "include(\"../models.jl\")\n",
    "Random.seed!(1)\n",
    "\n",
    "darknet = Darknet(\"../mnist.cfg\"; verbose=false);\n",
    "\n",
    "\n",
    "model = darknet\n",
    "\n",
    "xtrn, ytrn = MNIST.traindata(Float32); ytrn[ytrn.==0] .= 10;\n",
    "xtst, ytst = MNIST.testdata(Float32);  ytst[ytst.==0] .= 10;\n",
    "xtrn = reshape(xtrn, (28, 28, 1, :))\n",
    "xtrn = xtrn[:,:,:,1:6]\n",
    "xtrn = unpool(xtrn; window=15)\n",
    "xtrn = xtrn[3:418, 3:418, :, :]\n",
    "xtst = reshape(xtst, (28, 28, 1, :))\n",
    "xtst = xtst[:,:,:,1:4]\n",
    "xtst = unpool(xtst; window=15)\n",
    "xtst = xtst[3:418, 3:418, :, :]\n",
    "# ytrn = rand(1:85, (1, size(yolo_re)[2:end]...))\n",
    "\n",
    "\n",
    "dtrn = minibatch(xtrn, ytrn[1:6], 2; xsize = (416,416,1,:), xtype=Knet.atype(), shuffle=true);\n",
    "dtst = minibatch(xtst, ytst[1:4], 2; xsize = (416,416,1,:), xtype=Knet.atype());\n",
    "\n",
    "\n",
    "iters, trnloss, trnacc, tstloss, tstacc = train!(\n",
    "    model, dtrn, dtst; \n",
    "    period=1, iters=52, lr=1e-5, optimizer=sgd!);\n",
    "\n",
    "# @time train!(\n",
    "#     model, dtrn, dtst; \n",
    "#     period=1, iters=10, lr=0.15, optimizer=sgd!);\n",
    "\n",
    "\n",
    "plot(iters, trnloss, label=\"train\", xlabel=\"Iterations\", ylabel=\"Loss\")\n",
    "display(plot!(iters, tstloss, label=\"test\"))\n",
    "\n",
    "plot(iters, round.(1 .- trnacc, digits=2), label=\"train\", xlabel=\"Iterations\", ylabel=\"Misclassification error\")\n",
    "display(plot!(iters, round.(1 .- tstacc, digits=2), label=\"test\"))"
   ]
  },
  {
   "cell_type": "code",
   "execution_count": 60,
   "metadata": {},
   "outputs": [
    {
     "name": "stderr",
     "output_type": "stream",
     "text": [
      "WARNING: replacing module NN.\n"
     ]
    },
    {
     "data": {
      "text/plain": [
       "4-element Array{Int64,1}:\n",
       "  2\n",
       "  1\n",
       " 10\n",
       "  4"
      ]
     },
     "execution_count": 60,
     "metadata": {},
     "output_type": "execute_result"
    }
   ],
   "source": [
    "\n",
    "include(\"utils/parse_config.jl\")\n",
    "include(\"models.jl\")\n",
    "\n",
    "darknet = Darknet(\"mnist.cfg\"; verbose=false);\n",
    "\n",
    "x,y = first(dtrn);\n",
    "\n",
    "yolo_out = darknet(x);"
   ]
  },
  {
   "cell_type": "code",
   "execution_count": 61,
   "metadata": {},
   "outputs": [
    {
     "data": {
      "text/plain": [
       "4.44875f0"
      ]
     },
     "execution_count": 61,
     "metadata": {},
     "output_type": "execute_result"
    }
   ],
   "source": [
    "darknet(x, y)"
   ]
  },
  {
   "cell_type": "code",
   "execution_count": 6,
   "metadata": {},
   "outputs": [
    {
     "name": "stdout",
     "output_type": "stream",
     "text": [
      "Array{Float32,4}Array{Int64,1}\n"
     ]
    }
   ],
   "source": [
    "\n",
    "\n",
    "xtrn, ytrn = MNIST.traindata(Float32); ytrn[ytrn.==0] .= 10;\n",
    "xtst, ytst = MNIST.testdata(Float32);  ytst[ytst.==0] .= 10;\n",
    "dtrn = minibatch(xtrn, ytrn, 100; xsize = (28,28,1,:), xtype=Knet.atype(), shuffle=true);\n",
    "dtst = minibatch(xtst, ytst, 100; xsize = (28,28,1,:), xtype=Knet.atype());\n",
    "x,y = first(dtrn)\n",
    "size(x)\n",
    "model(reshape(xtrn[:,:, 1:20], (28, 28, 1, :)), ytrn[1:20])"
   ]
  },
  {
   "cell_type": "code",
   "execution_count": 7,
   "metadata": {},
   "outputs": [],
   "source": [
    "xtrn, ytrn = MNIST.traindata(Float32); ytrn[ytrn.==0] .= 10;\n",
    "xtst, ytst = MNIST.testdata(Float32);  ytst[ytst.==0] .= 10;\n",
    "xtrn = reshape(xtrn, (28, 28, 1, :))\n",
    "xtrn = xtrn[:,:,:,1:20]\n",
    "xtrn = unpool(xtrn; window=15)\n",
    "xtrn = xtrn[3:418, 3:418, :, :]\n",
    "xtst = reshape(xtst, (28, 28, 1, :))\n",
    "xtst = xtst[:,:,:,1:8]\n",
    "xtst = unpool(xtst; window=15)\n",
    "xtst = xtst[3:418, 3:418, :, :]\n",
    "dtrn = minibatch(xtrn, ytrn[1:20], 4; xsize = (416,416,1,:), xtype=Knet.atype(), shuffle=true);\n",
    "dtst = minibatch(xtst, ytst[1:8], 4; xsize = (416,416,1,:), xtype=Knet.atype());\n"
   ]
  },
  {
   "cell_type": "code",
   "execution_count": 8,
   "metadata": {
    "scrolled": true
   },
   "outputs": [
    {
     "name": "stdout",
     "output_type": "stream",
     "text": [
      "(416, 416)\n"
     ]
    },
    {
     "name": "stderr",
     "output_type": "stream",
     "text": [
      "WARNING: replacing module NN.\n"
     ]
    }
   ],
   "source": [
    "include(\"utils/parse_config.jl\")\n",
    "include(\"models.jl\")\n",
    "\n",
    "darknet = Darknet(\"mnist.cfg\"; verbose=false);\n",
    "\n",
    "\n",
    "\n",
    "x, y = first(dtst)\n",
    "yolo_out = darknet(x);"
   ]
  },
  {
   "cell_type": "code",
   "execution_count": null,
   "metadata": {},
   "outputs": [],
   "source": [
    "Pkg.add(\"JLD2\")"
   ]
  },
  {
   "cell_type": "code",
   "execution_count": 36,
   "metadata": {},
   "outputs": [
    {
     "name": "stderr",
     "output_type": "stream",
     "text": [
      "WARNING: replacing module NN.\n"
     ]
    },
    {
     "data": {
      "text/plain": [
       "train! (generic function with 2 methods)"
      ]
     },
     "execution_count": 36,
     "metadata": {},
     "output_type": "execute_result"
    }
   ],
   "source": [
    "include(\"nn.jl\")\n",
    "\n",
    "import .NN\n",
    "\n",
    "function train!(model, train_data::Data, test_data::Data;\n",
    "                  period::Int=4, iters::Int=100, lr=0.15, optimizer=sgd!)  # or optimizer=adam!\n",
    "    \n",
    "    train_loss = []\n",
    "    test_loss = []\n",
    "    train_acc = []\n",
    "    test_acc = []\n",
    "    \n",
    "    for i in 0:period:iters\n",
    "        push!(train_loss, model(train_data))\n",
    "        push!(test_loss, model(test_data))\n",
    "    \n",
    "        push!(train_acc, model(train_data; accuracy=true))\n",
    "        push!(test_acc, model(test_data; accuracy=true))\n",
    "        \n",
    "        optimizer(model, take(cycle(train_data), period); lr=lr)\n",
    "        \n",
    "        \n",
    "        println(\"Iter: \", i, \" \", train_loss)\n",
    "    end\n",
    "    \n",
    "    return 0:period:iters, train_loss, train_acc, test_loss, test_acc\n",
    "end"
   ]
  }
 ],
 "metadata": {
  "kernelspec": {
   "display_name": "Julia 1.5.2",
   "language": "julia",
   "name": "julia-1.5"
  },
  "language_info": {
   "file_extension": ".jl",
   "mimetype": "application/julia",
   "name": "julia",
   "version": "1.5.2"
  }
 },
 "nbformat": 4,
 "nbformat_minor": 4
}
