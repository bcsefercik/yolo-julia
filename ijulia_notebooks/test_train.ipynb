{
 "cells": [
  {
   "cell_type": "code",
   "execution_count": 1,
   "metadata": {},
   "outputs": [
    {
     "name": "stderr",
     "output_type": "stream",
     "text": [
      "\u001b[32m\u001b[1m Activating\u001b[22m\u001b[39m environment at `~/yolo-julia/Project.toml`\n"
     ]
    }
   ],
   "source": [
    "using Pkg\n",
    "\n",
    "Pkg.activate(\"../Project.toml\")\n",
    "\n",
    "using Random\n",
    "import .Iterators: cycle, Cycle, take\n",
    "\n",
    "using JLD2\n",
    "using CUDA\n",
    "using Statistics\n",
    "using Random\n",
    "\n",
    "import Base: length, size, iterate, eltype, IteratorSize, IteratorEltype, haslength, @propagate_inbounds, repeat, rand, tail\n",
    "using Plots; default(fmt=:png,ls=:auto)\n",
    "\n",
    "import Knet\n",
    "using Knet: deconv4, conv4, unpool, pool, mat, sigm, KnetArray, nll, zeroone, progress, adam!, sgd!, param, param0, dropout, relu, minibatch, Data\n",
    "import Knet: train!\n",
    "using Knet"
   ]
  },
  {
   "cell_type": "code",
   "execution_count": 2,
   "metadata": {},
   "outputs": [
    {
     "name": "stderr",
     "output_type": "stream",
     "text": [
      "┌ Info: Loaded: ../dataset/overfit_data.jld2.\n",
      "└ @ Main /home/ec2-user/yolo-julia/coco2014.jl:43\n"
     ]
    }
   ],
   "source": [
    "include(\"../coco2014.jl\")\n",
    "\n",
    "od = load_data(\"../dataset/overfit_data.jld2\");\n"
   ]
  },
  {
   "cell_type": "code",
   "execution_count": 3,
   "metadata": {},
   "outputs": [
    {
     "name": "stdout",
     "output_type": "stream",
     "text": [
      "\n",
      "Stacktrace:\n",
      " [1] \u001b[1m(::var\"#37#38\")\u001b[22m\u001b[1m(\u001b[22m\u001b[1m)\u001b[22m at \u001b[1m/home/ec2-user/.julia/packages/AutoGrad/TTpeo/src/core.jl:205\u001b[22m\n",
      " [2] \u001b[1mdifferentiate\u001b[22m\u001b[1m(\u001b[22m::Function; o::Base.Iterators.Pairs{Union{},Union{},Tuple{},NamedTuple{(),Tuple{}}}\u001b[1m)\u001b[22m at \u001b[1m/home/ec2-user/.julia/packages/AutoGrad/TTpeo/src/core.jl:144\u001b[22m\n",
      " [3] \u001b[1mdifferentiate\u001b[22m\u001b[1m(\u001b[22m::Function\u001b[1m)\u001b[22m at \u001b[1m/home/ec2-user/.julia/packages/AutoGrad/TTpeo/src/core.jl:135\u001b[22m\n",
      " [4] top-level scope at \u001b[1mIn[3]:7\u001b[22m\n",
      " [5] \u001b[1minclude_string\u001b[22m\u001b[1m(\u001b[22m::Function, ::Module, ::String, ::String\u001b[1m)\u001b[22m at \u001b[1m./loading.jl:1091\u001b[22m\n",
      " [6] \u001b[1mexecute_code\u001b[22m\u001b[1m(\u001b[22m::String, ::String\u001b[1m)\u001b[22m at \u001b[1m/home/ec2-user/.julia/packages/IJulia/rWZ9e/src/execute_request.jl:27\u001b[22m\n",
      " [7] \u001b[1mexecute_request\u001b[22m\u001b[1m(\u001b[22m::ZMQ.Socket, ::IJulia.Msg\u001b[1m)\u001b[22m at \u001b[1m/home/ec2-user/.julia/packages/IJulia/rWZ9e/src/execute_request.jl:86\u001b[22m\n",
      " [8] \u001b[1m#invokelatest#1\u001b[22m at \u001b[1m./essentials.jl:710\u001b[22m [inlined]\n",
      " [9] \u001b[1minvokelatest\u001b[22m at \u001b[1m./essentials.jl:709\u001b[22m [inlined]\n",
      " [10] \u001b[1meventloop\u001b[22m\u001b[1m(\u001b[22m::ZMQ.Socket\u001b[1m)\u001b[22m at \u001b[1m/home/ec2-user/.julia/packages/IJulia/rWZ9e/src/eventloop.jl:8\u001b[22m\n",
      " [11] \u001b[1m(::IJulia.var\"#15#18\")\u001b[22m\u001b[1m(\u001b[22m\u001b[1m)\u001b[22m at \u001b[1m./task.jl:356\u001b[22m\n"
     ]
    },
    {
     "ename": "LoadError",
     "evalue": "UndefVarError: xx not defined",
     "output_type": "error",
     "traceback": [
      "UndefVarError: xx not defined",
      "",
      "Stacktrace:",
      " [1] differentiate(::Function; o::Base.Iterators.Pairs{Union{},Union{},Tuple{},NamedTuple{(),Tuple{}}}) at /home/ec2-user/.julia/packages/AutoGrad/TTpeo/src/core.jl:148",
      " [2] differentiate(::Function) at /home/ec2-user/.julia/packages/AutoGrad/TTpeo/src/core.jl:135",
      " [3] top-level scope at In[3]:7",
      " [4] include_string(::Function, ::Module, ::String, ::String) at ./loading.jl:1091",
      " [5] execute_code(::String, ::String) at /home/ec2-user/.julia/packages/IJulia/rWZ9e/src/execute_request.jl:27",
      " [6] execute_request(::ZMQ.Socket, ::IJulia.Msg) at /home/ec2-user/.julia/packages/IJulia/rWZ9e/src/execute_request.jl:86",
      " [7] #invokelatest#1 at ./essentials.jl:710 [inlined]",
      " [8] invokelatest at ./essentials.jl:709 [inlined]",
      " [9] eventloop(::ZMQ.Socket) at /home/ec2-user/.julia/packages/IJulia/rWZ9e/src/eventloop.jl:8",
      " [10] (::IJulia.var\"#15#18\")() at ./task.jl:356"
     ]
    }
   ],
   "source": [
    "include(\"../models.jl\")\n",
    "\n",
    "Random.seed!(1)\n",
    "darknet = Darknet(\"../yolov3.cfg\"; verbose=false);\n",
    "\n",
    "\n",
    "@diff a = darknet(xx, yy)\n",
    "\n",
    "# a = darknet(xx, yy)"
   ]
  },
  {
   "cell_type": "code",
   "execution_count": 8,
   "metadata": {},
   "outputs": [],
   "source": [
    "dtrn = minibatch(od.x[:, :, :, 1:90], od.y[1:90], 8; xsize = (416,416,3,:), xtype=Knet.atype(), shuffle=true);\n",
    "dtst = minibatch(od.x[:, :, :, 90:end], od.y[90:end], 2; xsize = (416,416,3,:), xtype=Knet.atype());\n"
   ]
  },
  {
   "cell_type": "code",
   "execution_count": 6,
   "metadata": {},
   "outputs": [
    {
     "data": {
      "text/plain": [
       "train! (generic function with 2 methods)"
      ]
     },
     "execution_count": 6,
     "metadata": {},
     "output_type": "execute_result"
    }
   ],
   "source": [
    "function train!(model, train_data::Data, test_data::Data;\n",
    "                  period::Int=4, iters::Int=100, lr=0.15, optimizer=sgd!)  # or optimizer=adam!\n",
    "    \n",
    "    train_loss = []\n",
    "    test_loss = []\n",
    "    train_acc = []\n",
    "    test_acc = []\n",
    "    \n",
    "    for i in 0:period:iters\n",
    "        push!(train_loss, model(train_data))\n",
    "        push!(test_loss, model(test_data))\n",
    "        \n",
    "        optimizer(model, take(cycle(train_data), period); lr=lr)\n",
    "        \n",
    "        \n",
    "        println(\"Iter: \", i, \" \", train_loss[end])\n",
    "    end\n",
    "    \n",
    "    return 0:period:iters, train_loss, train_acc, test_loss, test_acc\n",
    "end"
   ]
  },
  {
   "cell_type": "code",
   "execution_count": null,
   "metadata": {},
   "outputs": [
    {
     "name": "stdout",
     "output_type": "stream",
     "text": [
      "Iter: 0 673.1914366115224\n",
      "Iter: 1 1074.0528643629768\n",
      "Iter: 2 5649.146937303976\n",
      "Iter: 3 22841.72896956097\n",
      "Iter: 4 37453.229944393854\n",
      "Iter: 5 16170.971781398599\n",
      "Iter: 6 6183.348571458078\n",
      "Iter: 7 2258.7688457404483\n",
      "Iter: 8 1318.6386725850537\n",
      "Iter: 9 815.4784805620799\n",
      "Iter: 10 634.8519304119455\n",
      "Iter: 11 635.5430593911083\n",
      "Iter: 12 692.8783674764632\n",
      "Iter: 13 698.5651530428366\n",
      "Iter: 14 666.7315221316164\n",
      "Iter: 15 636.0161181607572\n",
      "Iter: 16 626.4178831904043\n",
      "Iter: 17 680.5378372743454\n",
      "Iter: 18 711.3665289189598\n",
      "Iter: 19 760.4369940945777\n",
      "Iter: 20 792.5189533760331\n",
      "Iter: 21 859.3620715011249\n",
      "Iter: 22 908.9523521178959\n",
      "Iter: 23 942.4543584319138\n",
      "Iter: 24 989.4704275010932\n",
      "Iter: 25 1042.8589840906316\n",
      "Iter: 26 1080.9012645453756\n",
      "Iter: 27 1082.4048702883179\n",
      "Iter: 28 1136.3681400031123\n",
      "Iter: 29 1130.7836581491342\n",
      "Iter: 30 1160.6329879360578\n",
      "Iter: 31 1126.5884729768743\n",
      "Iter: 32 1116.7944516864961\n",
      "Iter: 33 1086.9525245667317\n",
      "Iter: 34 1066.753478716368\n",
      "Iter: 35 1040.4395251400767\n",
      "Iter: 36 1011.5520443330973\n",
      "Iter: 37 967.9011964818293\n",
      "Iter: 38 944.1793858321821\n",
      "Iter: 39 941.3067978661238\n",
      "Iter: 40 943.9647531772133\n",
      "Iter: 41 949.3456862581589\n",
      "Iter: 42 950.8623228810388\n",
      "Iter: 43 940.657942275764\n",
      "Iter: 44 961.0171820584278\n",
      "Iter: 45 918.3180217217177\n",
      "Iter: 46 892.0813692342152\n",
      "Iter: 47 850.7747687093101\n",
      "Iter: 48 856.3613114412602\n",
      "Iter: 49 841.1566289836912\n",
      "Iter: 50 828.0670545432309\n",
      "Iter: 51 804.5950726039232\n",
      "Iter: 52 797.484679716839\n",
      "Iter: 53 771.4230708481778\n",
      "Iter: 54 772.9590503732047\n",
      "Iter: 55 760.3001200513405\n",
      "Iter: 56 743.3040850452403\n",
      "Iter: 57 728.1350468730791\n",
      "Iter: 58 726.5726957973974\n",
      "Iter: 59 717.7483616675437\n",
      "Iter: 60 720.9140942326052\n",
      "Iter: 61 731.0212724053588\n",
      "Iter: 62 703.2250518968838\n",
      "Iter: 63 682.3120775576343\n",
      "Iter: 64 664.8268878769196\n",
      "Iter: 65 684.6025074747814\n",
      "Iter: 66 696.5981360655549\n",
      "Iter: 67 702.9309610626982\n",
      "Iter: 68 699.9648417461054\n",
      "Iter: 69 710.0112765573305\n",
      "Iter: 70 702.8064399007302\n",
      "Iter: 71 697.3302873044665\n",
      "Iter: 72 699.7511165718871\n",
      "Iter: 73 696.1037369054285\n",
      "Iter: 74 697.4367282227292\n",
      "Iter: 75 693.0480394922264\n",
      "Iter: 76 669.1923525275696\n",
      "Iter: 77 635.2655526655235\n",
      "Iter: 78 617.2295839231462\n",
      "Iter: 79 598.7404219918291\n",
      "Iter: 80 587.6300858846645\n",
      "Iter: 81 560.636526866352\n",
      "Iter: 82 548.9448377052965\n",
      "Iter: 83 534.3607871926779\n",
      "Iter: 84 534.4820055640556\n",
      "Iter: 85 517.0287115394528\n",
      "Iter: 86 518.6345724465292\n",
      "Iter: 87 517.566713866781\n",
      "Iter: 88 513.6589234696668\n",
      "Iter: 89 516.9949119334871\n",
      "Iter: 90 511.87519697479894\n",
      "Iter: 91 507.83866940031675\n",
      "Iter: 92 509.9714084532179\n",
      "Iter: 93 505.6841252511063\n",
      "Iter: 94 517.1381525976956\n",
      "Iter: 95 524.0047808512571\n",
      "Iter: 96 529.4187422027506\n",
      "Iter: 97 531.4787775094671\n",
      "Iter: 98 535.5469195889478\n",
      "Iter: 99 537.8125446194952\n",
      "Iter: 100 549.3750007987902\n",
      "Iter: 101 549.6050288161229\n",
      "Iter: 102 547.8365971780636\n",
      "Iter: 103 549.211795147847\n",
      "Iter: 104 546.1153962137482\n",
      "Iter: 105 550.5226210942187\n"
     ]
    }
   ],
   "source": [
    "iters, trnloss, trnacc, tstloss, tstacc = train!(\n",
    "    darknet, dtrn, dtst; \n",
    "    period=1, iters=1000, lr=1e-3, optimizer=adam!);\n"
   ]
  },
  {
   "cell_type": "code",
   "execution_count": null,
   "metadata": {},
   "outputs": [],
   "source": [
    "plot(iters, log.(trnloss), label=\"train\", xlabel=\"Iterations\", ylabel=\"Loss\")\n",
    "display(plot!(iters, log.(tstloss), label=\"test\"))"
   ]
  },
  {
   "cell_type": "code",
   "execution_count": null,
   "metadata": {},
   "outputs": [],
   "source": []
  }
 ],
 "metadata": {
  "@webio": {
   "lastCommId": null,
   "lastKernelId": null
  },
  "kernelspec": {
   "display_name": "Julia 1.5.2",
   "language": "julia",
   "name": "julia-1.5"
  },
  "language_info": {
   "file_extension": ".jl",
   "mimetype": "application/julia",
   "name": "julia",
   "version": "1.5.2"
  }
 },
 "nbformat": 4,
 "nbformat_minor": 4
}
