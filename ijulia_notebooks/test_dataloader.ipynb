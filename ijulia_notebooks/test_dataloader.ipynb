{
 "cells": [
  {
   "cell_type": "code",
   "execution_count": 2,
   "metadata": {},
   "outputs": [
    {
     "name": "stderr",
     "output_type": "stream",
     "text": [
      "\u001b[32m\u001b[1m Activating\u001b[22m\u001b[39m environment at `~/Desktop/MSc/repos/yolo-julia/Project.toml`\n"
     ]
    }
   ],
   "source": [
    "using Pkg\n",
    "\n",
    "Pkg.activate(\"../Project.toml\")\n",
    "\n",
    "using Knet\n",
    "using Random\n",
    "using Debugger\n"
   ]
  },
  {
   "cell_type": "code",
   "execution_count": 222,
   "metadata": {},
   "outputs": [],
   "source": [
    "include(\"../coco2014.jl\")\n",
    "x, y = load_data(\n",
    "    \"/home/bcs/Desktop/MSc/repos/yolo-julia/dataset/images/overfit\",\n",
    "    \"../val_labels.json\",\n",
    "    class_file=\"../class_mappings.json\"\n",
    ");\n",
    "\n",
    "dtrn = minibatch(x, y, 3; xsize = (416,416,3,:), xtype=Knet.atype(), shuffle=true);\n",
    "xx, yy = first(dtrn);"
   ]
  },
  {
   "cell_type": "code",
   "execution_count": 4,
   "metadata": {},
   "outputs": [],
   "source": [
    "\n",
    "include(\"../utils/parse_config.jl\")\n",
    "include(\"../models.jl\")\n",
    "Random.seed!(1)\n",
    "\n",
    "darknet = Darknet(\"../yolov3.cfg\"; verbose=false);\n",
    "yolo_out = darknet(xx);"
   ]
  },
  {
   "cell_type": "code",
   "execution_count": 225,
   "metadata": {},
   "outputs": [
    {
     "ename": "LoadError",
     "evalue": "DimensionMismatch(\"new dimensions (3, 23) must be consistent with array size 39\")",
     "output_type": "error",
     "traceback": [
      "DimensionMismatch(\"new dimensions (3, 23) must be consistent with array size 39\")",
      "",
      "Stacktrace:",
      " [1] (::Base.var\"#throw_dmrsa#213\")(::Tuple{Int64,Int64}, ::Int64) at ./reshapedarray.jl:41",
      " [2] reshape(::Array{Float64,3}, ::Tuple{Int64,Int64}) at ./reshapedarray.jl:45",
      " [3] wh_iou(::Array{Float32,2}, ::Array{Float64,2}) at /home/bcs/Desktop/MSc/repos/yolo-julia/utils/utils.jl:81",
      " [4] build_targets(::Array{Any,1}, ::Array{Any,1}, ::Darknet; atype::Type) at /home/bcs/Desktop/MSc/repos/yolo-julia/utils/utils.jl:37",
      " [5] build_targets(::Array{Any,1}, ::Array{Any,1}, ::Darknet) at /home/bcs/Desktop/MSc/repos/yolo-julia/utils/utils.jl:6",
      " [6] top-level scope at In[225]:6",
      " [7] include_string(::Function, ::Module, ::String, ::String) at ./loading.jl:1091"
     ]
    }
   ],
   "source": [
    "include(\"../utils/utils.jl\")\n",
    "\n",
    "dtrn = minibatch(x, y, 3; xsize = (416,416,3,:), xtype=Knet.atype(), shuffle=true);\n",
    "xx, yy = first(dtrn);\n",
    "# tcls, tbox, indices, anch = build_targets(yolo_out, yy, darknet)\n",
    "tcls, tbox, indices, anch = build_targets(yolo_out, yy, darknet);"
   ]
  },
  {
   "cell_type": "code",
   "execution_count": 248,
   "metadata": {},
   "outputs": [
    {
     "data": {
      "text/plain": [
       "17-element Array{Int64,1}:\n",
       " 49\n",
       " 57\n",
       "  1\n",
       "  1\n",
       "  3\n",
       " 10\n",
       " 10\n",
       " 57\n",
       " 57\n",
       "  1\n",
       " 57\n",
       "  1\n",
       "  1\n",
       "  3\n",
       " 49\n",
       " 10\n",
       " 10"
      ]
     },
     "execution_count": 248,
     "metadata": {},
     "output_type": "execute_result"
    }
   ],
   "source": [
    "tcls[3]"
   ]
  },
  {
   "cell_type": "code",
   "execution_count": 207,
   "metadata": {},
   "outputs": [
    {
     "data": {
      "text/plain": [
       "22×2 Array{Float64,2}:\n",
       " 3.82099   12.7668\n",
       " 4.01639   11.2871\n",
       " 0.841347   3.27922\n",
       " 3.54392    0.611039\n",
       " 1.94553    7.04704\n",
       " 1.83747    7.30306\n",
       " 1.15599    6.0937\n",
       " 2.821      3.12597\n",
       " 9.86233   12.4429\n",
       " 8.34153    9.04732\n",
       " 3.82099   12.7668\n",
       " 4.01639   11.2871\n",
       " 7.38176    7.40737\n",
       " 1.94553    7.04704\n",
       " 1.83747    7.30306\n",
       " 1.15599    6.0937\n",
       " 2.821      3.12597\n",
       " 9.86233   12.4429\n",
       " 8.34153    9.04732\n",
       " 3.82099   12.7668\n",
       " 4.01639   11.2871\n",
       " 7.38176    7.40737"
      ]
     },
     "execution_count": 207,
     "metadata": {},
     "output_type": "execute_result"
    }
   ],
   "source": [
    "gwh"
   ]
  },
  {
   "cell_type": "code",
   "execution_count": 190,
   "metadata": {},
   "outputs": [
    {
     "data": {
      "text/plain": [
       "22-element Array{Int64,1}:\n",
       "  7\n",
       "  6\n",
       "  3\n",
       " 11\n",
       " 10\n",
       " 10\n",
       " 10\n",
       " 12\n",
       "  7\n",
       "  7\n",
       "  7\n",
       "  6\n",
       "  8\n",
       " 10\n",
       " 10\n",
       " 10\n",
       " 12\n",
       "  7\n",
       "  7\n",
       "  7\n",
       "  6\n",
       "  8"
      ]
     },
     "execution_count": 190,
     "metadata": {},
     "output_type": "execute_result"
    }
   ],
   "source": [
    "gij = ceil.(Integer, gxy .- offsets)\n",
    "gi = gij[:, 1]\n",
    "gj = gij[:, 2]"
   ]
  },
  {
   "cell_type": "code",
   "execution_count": 191,
   "metadata": {},
   "outputs": [
    {
     "data": {
      "text/plain": [
       "22×2 Array{Float64,2}:\n",
       " 3.82099   12.7668\n",
       " 4.01639   11.2871\n",
       " 0.841347   3.27922\n",
       " 3.54392    0.611039\n",
       " 1.94553    7.04704\n",
       " 1.83747    7.30306\n",
       " 1.15599    6.0937\n",
       " 2.821      3.12597\n",
       " 9.86233   12.4429\n",
       " 8.34153    9.04732\n",
       " 3.82099   12.7668\n",
       " 4.01639   11.2871\n",
       " 7.38176    7.40737\n",
       " 1.94553    7.04704\n",
       " 1.83747    7.30306\n",
       " 1.15599    6.0937\n",
       " 2.821      3.12597\n",
       " 9.86233   12.4429\n",
       " 8.34153    9.04732\n",
       " 3.82099   12.7668\n",
       " 4.01639   11.2871\n",
       " 7.38176    7.40737"
      ]
     },
     "execution_count": 191,
     "metadata": {},
     "output_type": "execute_result"
    }
   ],
   "source": [
    "\n",
    "b = Integer.(t[:, 1])\n",
    "c = Integer.(t[:, 2])\n",
    "gxy = t[:, 3:4]\n",
    "gwh = t[:, 5:6]"
   ]
  },
  {
   "cell_type": "code",
   "execution_count": 195,
   "metadata": {},
   "outputs": [
    {
     "data": {
      "text/plain": [
       "(85, 13, 13, 3, 3)"
      ]
     },
     "execution_count": 195,
     "metadata": {},
     "output_type": "execute_result"
    }
   ],
   "source": [
    "size(yolo_out[1])"
   ]
  },
  {
   "cell_type": "code",
   "execution_count": null,
   "metadata": {},
   "outputs": [],
   "source": []
  },
  {
   "cell_type": "code",
   "execution_count": 103,
   "metadata": {},
   "outputs": [
    {
     "data": {
      "text/plain": [
       "3×13 BitArray{2}:\n",
       " 0  0  1  1  0  1  1  1  0  1  1  1  0\n",
       " 1  1  1  1  1  0  0  1  0  1  1  1  0\n",
       " 1  1  1  1  1  0  0  0  0  0  0  0  0"
      ]
     },
     "execution_count": 103,
     "metadata": {},
     "output_type": "execute_result"
    }
   ],
   "source": [
    "j"
   ]
  },
  {
   "cell_type": "code",
   "execution_count": 147,
   "metadata": {},
   "outputs": [
    {
     "data": {
      "text/plain": [
       "13×3 LinearAlgebra.Adjoint{Bool,BitArray{2}}:\n",
       " 0  1  1\n",
       " 0  1  1\n",
       " 1  1  1\n",
       " 1  1  1\n",
       " 0  1  1\n",
       " 1  0  0\n",
       " 1  0  0\n",
       " 1  1  0\n",
       " 0  0  0\n",
       " 1  1  0\n",
       " 1  1  0\n",
       " 1  1  0\n",
       " 0  0  0"
      ]
     },
     "execution_count": 147,
     "metadata": {},
     "output_type": "execute_result"
    }
   ],
   "source": [
    "j'"
   ]
  },
  {
   "cell_type": "code",
   "execution_count": 141,
   "metadata": {},
   "outputs": [
    {
     "data": {
      "text/plain": [
       "22×6 Array{Float64,2}:\n",
       " 1.0  21.0   5.2451     6.11928  8.34153    9.04732\n",
       " 1.0  21.0  11.0895     6.41263  3.82099   12.7668\n",
       " 2.0   1.0   8.8661     7.4662   7.38176    7.40737\n",
       " 2.0  36.0   0.420667   2.62042  0.841347   3.27922\n",
       " 2.0  35.0   1.77197   10.2312   3.54392    0.611039\n",
       " 3.0  73.0   5.39256    9.47648  1.94553    7.04704\n",
       " 3.0  75.0   9.54261    4.01509  0.472056   0.97838\n",
       " 3.0   1.0   7.56092    9.29958  1.83747    7.30306\n",
       " 3.0   1.0   9.50228    9.95315  1.15599    6.0937\n",
       " 3.0  70.0   1.90308   11.2617   2.821      3.12597\n",
       " 1.0  21.0   7.01665    6.77858  9.86233   12.4429\n",
       " 1.0  21.0   5.2451     6.11928  8.34153    9.04732\n",
       " 1.0  21.0  11.0895     6.41263  3.82099   12.7668\n",
       " 2.0  36.0   0.420667   2.62042  0.841347   3.27922\n",
       " 3.0  75.0   9.54261    4.01509  0.472056   0.97838\n",
       " 3.0   1.0   7.56092    9.29958  1.83747    7.30306\n",
       " 1.0  21.0   5.2451     6.11928  8.34153    9.04732\n",
       " 1.0  21.0  11.0895     6.41263  3.82099   12.7668\n",
       " 2.0   1.0   8.8661     7.4662   7.38176    7.40737\n",
       " 2.0  36.0   0.420667   2.62042  0.841347   3.27922\n",
       " 3.0  73.0   5.39256    9.47648  1.94553    7.04704\n",
       " 3.0  75.0   9.54261    4.01509  0.472056   0.97838"
      ]
     },
     "execution_count": 141,
     "metadata": {},
     "output_type": "execute_result"
    }
   ],
   "source": [
    "tt[jj, :]"
   ]
  },
  {
   "cell_type": "code",
   "execution_count": 140,
   "metadata": {},
   "outputs": [
    {
     "data": {
      "text/plain": [
       "39×6 Array{Float64,2}:\n",
       " 1.0  21.0   7.01665    6.77858  9.86233   12.4429\n",
       " 1.0  21.0   5.2451     6.11928  8.34153    9.04732\n",
       " 1.0  21.0  11.0895     6.41263  3.82099   12.7668\n",
       " 2.0   1.0   2.0082     5.64357  4.01639   11.2871\n",
       " 2.0   1.0   8.8661     7.4662   7.38176    7.40737\n",
       " 2.0  36.0   0.420667   2.62042  0.841347   3.27922\n",
       " 2.0  35.0   1.77197   10.2312   3.54392    0.611039\n",
       " 3.0  73.0   5.39256    9.47648  1.94553    7.04704\n",
       " 3.0  75.0   9.54261    4.01509  0.472056   0.97838\n",
       " 3.0   1.0   7.56092    9.29958  1.83747    7.30306\n",
       " 3.0   1.0   9.50228    9.95315  1.15599    6.0937\n",
       " 3.0  70.0   1.90308   11.2617   2.821      3.12597\n",
       " 3.0  27.0   9.70897    9.99132  0.521222   1.56398\n",
       " ⋮                                          ⋮\n",
       " 1.0  21.0   5.2451     6.11928  8.34153    9.04732\n",
       " 1.0  21.0  11.0895     6.41263  3.82099   12.7668\n",
       " 2.0   1.0   2.0082     5.64357  4.01639   11.2871\n",
       " 2.0   1.0   8.8661     7.4662   7.38176    7.40737\n",
       " 2.0  36.0   0.420667   2.62042  0.841347   3.27922\n",
       " 2.0  35.0   1.77197   10.2312   3.54392    0.611039\n",
       " 3.0  73.0   5.39256    9.47648  1.94553    7.04704\n",
       " 3.0  75.0   9.54261    4.01509  0.472056   0.97838\n",
       " 3.0   1.0   7.56092    9.29958  1.83747    7.30306\n",
       " 3.0   1.0   9.50228    9.95315  1.15599    6.0937\n",
       " 3.0  70.0   1.90308   11.2617   2.821      3.12597\n",
       " 3.0  27.0   9.70897    9.99132  0.521222   1.56398"
      ]
     },
     "execution_count": 140,
     "metadata": {},
     "output_type": "execute_result"
    }
   ],
   "source": [
    "tt = repeat(t, 3)"
   ]
  },
  {
   "cell_type": "code",
   "execution_count": 117,
   "metadata": {},
   "outputs": [
    {
     "ename": "LoadError",
     "evalue": "BoundsError: attempt to access 13×6×3 Array{Float64,3} at index [Bool[0 0 1 1 0 1 1 1 0 1 1 1 0; 1 1 1 1 1 0 0 1 0 1 1 1 0; 1 1 1 1 1 0 0 0 0 0 0 0 0]]",
     "output_type": "error",
     "traceback": [
      "BoundsError: attempt to access 13×6×3 Array{Float64,3} at index [Bool[0 0 1 1 0 1 1 1 0 1 1 1 0; 1 1 1 1 1 0 0 1 0 1 1 1 0; 1 1 1 1 1 0 0 0 0 0 0 0 0]]",
      "",
      "Stacktrace:",
      " [1] throw_boundserror(::Array{Float64,3}, ::Tuple{Base.LogicalIndex{Int64,BitArray{2}}}) at ./abstractarray.jl:541",
      " [2] checkbounds at ./abstractarray.jl:506 [inlined]",
      " [3] _getindex at ./multidimensional.jl:742 [inlined]",
      " [4] getindex(::Array{Float64,3}, ::BitArray{2}) at ./abstractarray.jl:1060",
      " [5] top-level scope at In[117]:1",
      " [6] include_string(::Function, ::Module, ::String, ::String) at ./loading.jl:1091"
     ]
    }
   ],
   "source": [
    "tt[j]"
   ]
  },
  {
   "cell_type": "code",
   "execution_count": 196,
   "metadata": {},
   "outputs": [
    {
     "data": {
      "text/plain": [
       "22-element Array{Int64,1}:\n",
       " 1\n",
       " 1\n",
       " 1\n",
       " 1\n",
       " 1\n",
       " 1\n",
       " 1\n",
       " 1\n",
       " 1\n",
       " 1\n",
       " 2\n",
       " 2\n",
       " 2\n",
       " 2\n",
       " 2\n",
       " 2\n",
       " 3\n",
       " 3\n",
       " 3\n",
       " 3\n",
       " 3\n",
       " 3"
      ]
     },
     "execution_count": 196,
     "metadata": {},
     "output_type": "execute_result"
    }
   ],
   "source": [
    "at'[jj]"
   ]
  },
  {
   "cell_type": "code",
   "execution_count": 40,
   "metadata": {},
   "outputs": [
    {
     "data": {
      "text/plain": [
       "13×6 Array{Float64,2}:\n",
       " 1.0  21.0   7.01665    6.77858  9.86233   12.4429\n",
       " 1.0  21.0   5.2451     6.11928  8.34153    9.04732\n",
       " 1.0  21.0  11.0895     6.41263  3.82099   12.7668\n",
       " 2.0   1.0   2.0082     5.64357  4.01639   11.2871\n",
       " 2.0   1.0   8.8661     7.4662   7.38176    7.40737\n",
       " 2.0  36.0   0.420667   2.62042  0.841347   3.27922\n",
       " 2.0  35.0   1.77197   10.2312   3.54392    0.611039\n",
       " 3.0  73.0   5.39256    9.47648  1.94553    7.04704\n",
       " 3.0  75.0   9.54261    4.01509  0.472056   0.97838\n",
       " 3.0   1.0   7.56092    9.29958  1.83747    7.30306\n",
       " 3.0   1.0   9.50228    9.95315  1.15599    6.0937\n",
       " 3.0  70.0   1.90308   11.2617   2.821      3.12597\n",
       " 3.0  27.0   9.70897    9.99132  0.521222   1.56398"
      ]
     },
     "execution_count": 40,
     "metadata": {},
     "output_type": "execute_result"
    }
   ],
   "source": [
    "targets_reshaped .* gain"
   ]
  },
  {
   "cell_type": "code",
   "execution_count": 63,
   "metadata": {},
   "outputs": [
    {
     "data": {
      "text/plain": [
       "3×1×2 Array{Float32,3}:\n",
       "[:, :, 1] =\n",
       "  3.625\n",
       "  4.875\n",
       " 11.65625\n",
       "\n",
       "[:, :, 2] =\n",
       "  2.8125\n",
       "  6.1875\n",
       " 10.1875"
      ]
     },
     "execution_count": 63,
     "metadata": {},
     "output_type": "execute_result"
    }
   ],
   "source": [
    "wh1r = reshape(wh1, (:, 1, 2))"
   ]
  },
  {
   "cell_type": "code",
   "execution_count": 70,
   "metadata": {},
   "outputs": [
    {
     "data": {
      "text/plain": [
       "3×1 Array{Float32,2}:\n",
       "  10.1953125\n",
       "  30.164062\n",
       " 118.74805"
      ]
     },
     "execution_count": 70,
     "metadata": {},
     "output_type": "execute_result"
    }
   ],
   "source": [
    "wh12 = reshape(prod(wh1r, dims=3), (:, 1))"
   ]
  },
  {
   "cell_type": "code",
   "execution_count": 44,
   "metadata": {},
   "outputs": [
    {
     "data": {
      "text/plain": [
       "13×2 Array{Float64,2}:\n",
       " 9.86233   12.4429\n",
       " 8.34153    9.04732\n",
       " 3.82099   12.7668\n",
       " 4.01639   11.2871\n",
       " 7.38176    7.40737\n",
       " 0.841347   3.27922\n",
       " 3.54392    0.611039\n",
       " 1.94553    7.04704\n",
       " 0.472056   0.97838\n",
       " 1.83747    7.30306\n",
       " 1.15599    6.0937\n",
       " 2.821      3.12597\n",
       " 0.521222   1.56398"
      ]
     },
     "execution_count": 44,
     "metadata": {},
     "output_type": "execute_result"
    }
   ],
   "source": [
    "wh2"
   ]
  },
  {
   "cell_type": "code",
   "execution_count": 73,
   "metadata": {},
   "outputs": [
    {
     "data": {
      "text/plain": [
       "1×13×2 Array{Float64,3}:\n",
       "[:, :, 1] =\n",
       " 9.86233  8.34153  3.82099  4.01639  …  1.83747  1.15599  2.821  0.521222\n",
       "\n",
       "[:, :, 2] =\n",
       " 12.4429  9.04732  12.7668  11.2871  …  7.30306  6.0937  3.12597  1.56398"
      ]
     },
     "execution_count": 73,
     "metadata": {},
     "output_type": "execute_result"
    }
   ],
   "source": [
    "wh2r = reshape(wh2, (1, :, 2))"
   ]
  },
  {
   "cell_type": "code",
   "execution_count": 74,
   "metadata": {},
   "outputs": [
    {
     "data": {
      "text/plain": [
       "1×13 Array{Float64,2}:\n",
       " 122.716  75.4685  48.7817  45.3336  …  13.4192  7.04423  8.81835  0.81518"
      ]
     },
     "execution_count": 74,
     "metadata": {},
     "output_type": "execute_result"
    }
   ],
   "source": [
    "wh22 = reshape(prod(wh2r, dims=3), (1, :))"
   ]
  },
  {
   "cell_type": "code",
   "execution_count": 76,
   "metadata": {},
   "outputs": [
    {
     "data": {
      "text/plain": [
       "3×13 Array{Float64,2}:\n",
       " 132.911   85.6638   58.977    55.5289  …   17.2395   19.0137   11.0105\n",
       " 152.88   105.633    78.9458   75.4976      37.2083   38.9824   30.9792\n",
       " 241.464  194.217   167.53    164.082      125.792   127.566   119.563"
      ]
     },
     "execution_count": 76,
     "metadata": {},
     "output_type": "execute_result"
    }
   ],
   "source": [
    "wh12 .+ wh22"
   ]
  },
  {
   "cell_type": "code",
   "execution_count": 59,
   "metadata": {},
   "outputs": [
    {
     "data": {
      "text/plain": [
       "3×13 Array{Float64,2}:\n",
       "  10.1953  10.1953  10.1953  10.1953  …   5.16789  3.25121  7.93406  0.81518\n",
       "  30.1641  30.1641  23.6424  24.8514     11.3694   7.04423  8.81835  0.81518\n",
       " 100.473   75.4685  38.9263  40.917      13.4192   7.04423  8.81835  0.81518"
      ]
     },
     "execution_count": 59,
     "metadata": {},
     "output_type": "execute_result"
    }
   ],
   "source": [
    "reshape(prod(a, dims=3), (3, 13))"
   ]
  },
  {
   "cell_type": "code",
   "execution_count": 61,
   "metadata": {},
   "outputs": [
    {
     "data": {
      "text/plain": [
       "3×13 Array{Float64,2}:\n",
       "  10.1953  10.1953  10.1953  10.1953  …   5.16789  3.25121  7.93406  0.81518\n",
       "  30.1641  30.1641  23.6424  24.8514     11.3694   7.04423  8.81835  0.81518\n",
       " 100.473   75.4685  38.9263  40.917      13.4192   7.04423  8.81835  0.81518"
      ]
     },
     "execution_count": 61,
     "metadata": {},
     "output_type": "execute_result"
    }
   ],
   "source": [
    "inter = build_targets(yolo_out, yy, darknet)\n"
   ]
  },
  {
   "cell_type": "code",
   "execution_count": 50,
   "metadata": {},
   "outputs": [
    {
     "name": "stdout",
     "output_type": "stream",
     "text": [
      "1\n",
      "2\n"
     ]
    },
    {
     "data": {
      "text/plain": [
       "5×2 Array{Float64,2}:\n",
       " 60.0       78.0\n",
       "  0.51093    0.858305\n",
       "  0.442073   0.073521\n",
       "  0.978141   0.074922\n",
       "  0.872188   0.059833"
      ]
     },
     "execution_count": 50,
     "metadata": {},
     "output_type": "execute_result"
    }
   ],
   "source": [
    "targets = nothing \n",
    "\n",
    "for (i, t) in enumerate(yy[2:end])\n",
    "    println(i)\n",
    "\n",
    "end\n",
    "gg = hcat(yy[2]...)\n",
    "# gg = vcat(ones(1, 2), gg)"
   ]
  },
  {
   "cell_type": "code",
   "execution_count": 40,
   "metadata": {},
   "outputs": [
    {
     "data": {
      "text/plain": [
       "13×6 Array{Float64,2}:\n",
       " 1.0  21.0   7.01665    6.77858  9.86233   12.4429\n",
       " 1.0  21.0   5.2451     6.11928  8.34153    9.04732\n",
       " 1.0  21.0  11.0895     6.41263  3.82099   12.7668\n",
       " 2.0   1.0   2.0082     5.64357  4.01639   11.2871\n",
       " 2.0   1.0   8.8661     7.4662   7.38176    7.40737\n",
       " 2.0  36.0   0.420667   2.62042  0.841347   3.27922\n",
       " 2.0  35.0   1.77197   10.2312   3.54392    0.611039\n",
       " 3.0  73.0   5.39256    9.47648  1.94553    7.04704\n",
       " 3.0  75.0   9.54261    4.01509  0.472056   0.97838\n",
       " 3.0   1.0   7.56092    9.29958  1.83747    7.30306\n",
       " 3.0   1.0   9.50228    9.95315  1.15599    6.0937\n",
       " 3.0  70.0   1.90308   11.2617   2.821      3.12597\n",
       " 3.0  27.0   9.70897    9.99132  0.521222   1.56398"
      ]
     },
     "execution_count": 40,
     "metadata": {},
     "output_type": "execute_result"
    }
   ],
   "source": []
  },
  {
   "cell_type": "code",
   "execution_count": 48,
   "metadata": {},
   "outputs": [
    {
     "data": {
      "text/plain": [
       "2"
      ]
     },
     "execution_count": 48,
     "metadata": {},
     "output_type": "execute_result"
    }
   ],
   "source": [
    "length(yy[2])\n"
   ]
  },
  {
   "cell_type": "code",
   "execution_count": 6,
   "metadata": {},
   "outputs": [
    {
     "data": {
      "text/plain": [
       "build_targets (generic function with 1 method)"
      ]
     },
     "execution_count": 6,
     "metadata": {},
     "output_type": "execute_result"
    }
   ],
   "source": [
    "include(\"utils/utils.jl\")\n",
    "\n"
   ]
  }
 ],
 "metadata": {
  "kernelspec": {
   "display_name": "Julia 1.5.2",
   "language": "julia",
   "name": "julia-1.5"
  },
  "language_info": {
   "file_extension": ".jl",
   "mimetype": "application/julia",
   "name": "julia",
   "version": "1.5.2"
  }
 },
 "nbformat": 4,
 "nbformat_minor": 4
}
