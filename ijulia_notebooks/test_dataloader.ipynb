{
 "cells": [
  {
   "cell_type": "code",
   "execution_count": 1,
   "metadata": {},
   "outputs": [
    {
     "name": "stderr",
     "output_type": "stream",
     "text": [
      "\u001b[32m\u001b[1m Activating\u001b[22m\u001b[39m environment at `~/Desktop/MSc/repos/yolo-julia/Project.toml`\n"
     ]
    }
   ],
   "source": [
    "using Pkg\n",
    "\n",
    "Pkg.activate(\"../Project.toml\")\n",
    "\n",
    "using Random\n",
    "import .Iterators: cycle, Cycle, take\n",
    "\n",
    "using Knet\n",
    "using Knet: deconv4, conv4, unpool, pool, mat, sigm, KnetArray, nll, zeroone, progress, adam!, sgd!, param, param0, dropout, relu, minibatch, Data\n",
    "import Knet: train!\n",
    "using JLD2\n",
    "using CUDA"
   ]
  },
  {
   "cell_type": "code",
   "execution_count": 3,
   "metadata": {},
   "outputs": [],
   "source": [
    "function Knet.KnetArray(x::CuArray{T,N}) where {T,N}\n",
    "    p = Base.bitcast(Knet.Cptr, pointer(x))\n",
    "    k = Knet.KnetPtr(p, sizeof(x), Int(CUDA.device().handle), x)\n",
    "    KnetArray{T,N}(k, size(x))\n",
    "end"
   ]
  },
  {
   "cell_type": "code",
   "execution_count": 2,
   "metadata": {},
   "outputs": [],
   "source": [
    "include(\"../coco2014.jl\")\n",
    "x, y = load_data(\n",
    "    \"../dataset/images/overfit\",\n",
    "    \"../val_labels.json\",\n",
    "    class_file=\"../class_mappings.json\"\n",
    ");\n",
    "\n",
    "dtrn = minibatch(x[:, :, :, 1:6], y[1:6], 2; xsize = (416,416,3,:), xtype=Knet.atype(), shuffle=true);\n",
    "dtst = minibatch(x[:, :, :, 10:11], y[10:11], 2; xsize = (416,416,3,:), xtype=Knet.atype());\n",
    "\n",
    "# xx, yy = first(dtrn);"
   ]
  },
  {
   "cell_type": "code",
   "execution_count": 26,
   "metadata": {},
   "outputs": [
    {
     "name": "stderr",
     "output_type": "stream",
     "text": [
      "WARNING: replacing module NN.\n"
     ]
    },
    {
     "data": {
      "text/plain": [
       "T(572.3726812532891)"
      ]
     },
     "execution_count": 26,
     "metadata": {},
     "output_type": "execute_result"
    }
   ],
   "source": [
    "include(\"../models.jl\")\n",
    "\n",
    "Random.seed!(1)\n",
    "darknet = Darknet(\"../yolov3.cfg\"; verbose=false);\n",
    "\n",
    "\n",
    "@diff a = darknet(xx, yy)\n",
    "\n",
    "# a = darknet(xx, yy)"
   ]
  },
  {
   "cell_type": "code",
   "execution_count": null,
   "metadata": {},
   "outputs": [],
   "source": [
    "bce(scores, labels; average=true)"
   ]
  },
  {
   "cell_type": "code",
   "execution_count": 21,
   "metadata": {},
   "outputs": [
    {
     "data": {
      "text/plain": [
       "0.77960855f0"
      ]
     },
     "execution_count": 21,
     "metadata": {},
     "output_type": "execute_result"
    }
   ],
   "source": [
    "bce(out[5, :, :, :, :][:], convert(Array{Integer}, tobj)[:])"
   ]
  },
  {
   "cell_type": "code",
   "execution_count": null,
   "metadata": {},
   "outputs": [],
   "source": [
    "tobj"
   ]
  },
  {
   "cell_type": "code",
   "execution_count": null,
   "metadata": {},
   "outputs": [],
   "source": []
  },
  {
   "cell_type": "code",
   "execution_count": 56,
   "metadata": {},
   "outputs": [
    {
     "data": {
      "text/plain": [
       "2×11 KnetArray{Float32,2}:\n",
       " 0.894371  0.894262  0.628493  0.658711  …  1.00179   0.760402  0.781808\n",
       " 1.01587   1.02907   1.0577    1.04478      0.919599  0.973357  1.02486"
      ]
     },
     "execution_count": 56,
     "metadata": {},
     "output_type": "execute_result"
    }
   ],
   "source": [
    "min.(max.(exp.(ps[3:4, :]), 0), 1000)  # custom clamp"
   ]
  },
  {
   "cell_type": "code",
   "execution_count": 38,
   "metadata": {},
   "outputs": [
    {
     "data": {
      "text/plain": [
       "3×6 Array{Integer,2}:\n",
       " 0  0  1  1  1  1\n",
       " 1  0  1  1  1  1\n",
       " 1  0  0  0  1  0"
      ]
     },
     "execution_count": 38,
     "metadata": {},
     "output_type": "execute_result"
    }
   ],
   "source": []
  },
  {
   "cell_type": "code",
   "execution_count": 39,
   "metadata": {},
   "outputs": [
    {
     "data": {
      "text/plain": [
       "3×6 Array{Bool,2}:\n",
       " 0  0  1  1  1  1\n",
       " 1  0  1  1  1  1\n",
       " 1  0  0  0  1  0"
      ]
     },
     "execution_count": 39,
     "metadata": {},
     "output_type": "execute_result"
    }
   ],
   "source": [
    "an = convert(Array{Bool}, a)"
   ]
  },
  {
   "cell_type": "code",
   "execution_count": 19,
   "metadata": {},
   "outputs": [
    {
     "data": {
      "text/plain": [
       "18-element Array{Int64,1}:\n",
       " 0\n",
       " 0\n",
       " 1\n",
       " 1\n",
       " 1\n",
       " 1\n",
       " 1\n",
       " 0\n",
       " 1\n",
       " 1\n",
       " 1\n",
       " 1\n",
       " 1\n",
       " 0\n",
       " 0\n",
       " 0\n",
       " 1\n",
       " 0"
      ]
     },
     "execution_count": 19,
     "metadata": {},
     "output_type": "execute_result"
    }
   ],
   "source": [
    "vcat(an'...)"
   ]
  },
  {
   "cell_type": "code",
   "execution_count": 3,
   "metadata": {},
   "outputs": [
    {
     "data": {
      "text/plain": [
       "train! (generic function with 2 methods)"
      ]
     },
     "execution_count": 3,
     "metadata": {},
     "output_type": "execute_result"
    }
   ],
   "source": [
    "function train!(model, train_data::Data, test_data::Data;\n",
    "                  period::Int=4, iters::Int=100, lr=0.15, optimizer=sgd!)  # or optimizer=adam!\n",
    "    \n",
    "    train_loss = []\n",
    "    test_loss = []\n",
    "    train_acc = []\n",
    "    test_acc = []\n",
    "    \n",
    "    for i in 0:period:iters\n",
    "        push!(train_loss, model(train_data))\n",
    "        push!(test_loss, model(test_data))\n",
    "        \n",
    "        optimizer(model, take(cycle(train_data), period); lr=lr)\n",
    "        \n",
    "        \n",
    "        println(\"Iter: \", i, \" \", train_loss[end])\n",
    "    end\n",
    "    \n",
    "    return 0:period:iters, train_loss, train_acc, test_loss, test_acc\n",
    "end\n",
    "\n"
   ]
  },
  {
   "cell_type": "code",
   "execution_count": 4,
   "metadata": {},
   "outputs": [
    {
     "name": "stdout",
     "output_type": "stream",
     "text": [
      "Iter: 0 573.352769022327\n",
      "Iter: 1 3.475064706126181e13\n",
      "Iter: 2 8.643858860833297e19\n",
      "Iter: 3 2.130118982840143e21\n",
      "Iter: 4 4.51618392965065e21\n",
      "Iter: 5 2.46488088175084e21\n",
      "Iter: 6 3.048158987135386e20\n",
      "\n",
      "Stacktrace:\n",
      " [1] \u001b[1mArray\u001b[22m at \u001b[1m./boot.jl:418\u001b[22m [inlined]\n",
      " [2] \u001b[1mArray\u001b[22m at \u001b[1m./boot.jl:423\u001b[22m [inlined]\n",
      " [3] \u001b[1msimilar\u001b[22m at \u001b[1m./abstractarray.jl:675\u001b[22m [inlined]\n",
      " [4] \u001b[1msimilar\u001b[22m at \u001b[1m./abstractarray.jl:674\u001b[22m [inlined]\n",
      " [5] \u001b[1msimilar\u001b[22m at \u001b[1m./broadcast.jl:197\u001b[22m [inlined]\n",
      " [6] \u001b[1msimilar\u001b[22m at \u001b[1m./broadcast.jl:196\u001b[22m [inlined]\n",
      " [7] \u001b[1mcopy\u001b[22m\u001b[1m(\u001b[22m::Base.Broadcast.Broadcasted{Base.Broadcast.DefaultArrayStyle{4},Nothing,typeof(*),Tuple{Array{Float32,1},Array{Float32,4}}}\u001b[1m)\u001b[22m at \u001b[1m./broadcast.jl:862\u001b[22m\n",
      " [8] \u001b[1mforw\u001b[22m\u001b[1m(\u001b[22m::Function, ::Function, ::Vararg{Any,N} where N; kwargs::Base.Iterators.Pairs{Union{},Union{},Tuple{},NamedTuple{(),Tuple{}}}\u001b[1m)\u001b[22m at \u001b[1m/home/bcs/.julia/packages/AutoGrad/VFrAv/src/core.jl:69\u001b[22m\n",
      " [9] \u001b[1mforw\u001b[22m at \u001b[1m/home/bcs/.julia/packages/AutoGrad/VFrAv/src/core.jl:65\u001b[22m [inlined]\n",
      " [10] \u001b[1mbroadcasted\u001b[22m\u001b[1m(\u001b[22m::typeof(*), ::Array{Float32,1}, ::AutoGrad.Result{Array{Float32,4}}\u001b[1m)\u001b[22m at \u001b[1m./none:0\u001b[22m\n",
      " [11] \u001b[1m(::Main.NN.LeakyReLU)\u001b[22m\u001b[1m(\u001b[22m::AutoGrad.Result{Array{Float32,4}}\u001b[1m)\u001b[22m at \u001b[1m/home/bcs/Desktop/MSc/repos/yolo-julia/nn.jl:82\u001b[22m\n",
      " [12] \u001b[1m(::Main.NN.Chain)\u001b[22m\u001b[1m(\u001b[22m::AutoGrad.Result{Array{Float32,4}}\u001b[1m)\u001b[22m at \u001b[1m/home/bcs/Desktop/MSc/repos/yolo-julia/nn.jl:43\u001b[22m\n",
      " [13] \u001b[1m(::Darknet)\u001b[22m\u001b[1m(\u001b[22m::Array{Float32,4}; training::Bool\u001b[1m)\u001b[22m at \u001b[1m/home/bcs/Desktop/MSc/repos/yolo-julia/models.jl:170\u001b[22m\n",
      " [14] \u001b[1mDarknet\u001b[22m at \u001b[1m/home/bcs/Desktop/MSc/repos/yolo-julia/models.jl:156\u001b[22m [inlined]\n",
      " [15] \u001b[1m(::Darknet)\u001b[22m\u001b[1m(\u001b[22m::Array{Float32,4}, ::Array{Any,1}; training::Bool\u001b[1m)\u001b[22m at \u001b[1m/home/bcs/Desktop/MSc/repos/yolo-julia/models.jl:191\u001b[22m\n",
      " [16] \u001b[1m(::Darknet)\u001b[22m\u001b[1m(\u001b[22m::Array{Float32,4}, ::Array{Any,1}\u001b[1m)\u001b[22m at \u001b[1m/home/bcs/Desktop/MSc/repos/yolo-julia/models.jl:191\u001b[22m\n",
      " [17] \u001b[1m(::Knet.Train20.var\"#27#28\"{Knet.Train20.Minimize{Base.Iterators.Take{Cycle{Data{Tuple{Array{Float32,N} where N,Array{Any,N} where N}}}}},Tuple{Array{Float32,4},Array{Any,1}}})\u001b[22m\u001b[1m(\u001b[22m\u001b[1m)\u001b[22m at \u001b[1m/home/bcs/.julia/packages/AutoGrad/VFrAv/src/core.jl:205\u001b[22m\n",
      " [18] \u001b[1mdifferentiate\u001b[22m\u001b[1m(\u001b[22m::Function; o::Base.Iterators.Pairs{Union{},Union{},Tuple{},NamedTuple{(),Tuple{}}}\u001b[1m)\u001b[22m at \u001b[1m/home/bcs/.julia/packages/AutoGrad/VFrAv/src/core.jl:144\u001b[22m\n",
      " [19] \u001b[1mdifferentiate\u001b[22m at \u001b[1m/home/bcs/.julia/packages/AutoGrad/VFrAv/src/core.jl:135\u001b[22m [inlined]\n",
      " [20] \u001b[1miterate\u001b[22m\u001b[1m(\u001b[22m::Knet.Train20.Minimize{Base.Iterators.Take{Cycle{Data{Tuple{Array{Float32,N} where N,Array{Any,N} where N}}}}}\u001b[1m)\u001b[22m at \u001b[1m/home/bcs/.julia/packages/Knet/C0PoK/src/train20/train.jl:26\u001b[22m\n",
      " [21] \u001b[1madam!\u001b[22m\u001b[1m(\u001b[22m::Darknet, ::Vararg{Any,N} where N; o::Base.Iterators.Pairs{Symbol,Float64,Tuple{Symbol},NamedTuple{(:lr,),Tuple{Float64}}}\u001b[1m)\u001b[22m at \u001b[1m/home/bcs/.julia/packages/Knet/C0PoK/src/train20/update.jl:411\u001b[22m\n",
      " [22] \u001b[1m#train!#10\u001b[22m at \u001b[1m./In[3]:13\u001b[22m [inlined]\n",
      " [23] top-level scope at \u001b[1mIn[4]:11\u001b[22m\n",
      " [24] \u001b[1minclude_string\u001b[22m\u001b[1m(\u001b[22m::Function, ::Module, ::String, ::String\u001b[1m)\u001b[22m at \u001b[1m./loading.jl:1091\u001b[22m\n",
      " [25] \u001b[1msoftscope_include_string\u001b[22m\u001b[1m(\u001b[22m::Module, ::String, ::String\u001b[1m)\u001b[22m at \u001b[1m/home/bcs/.julia/packages/SoftGlobalScope/u4UzH/src/SoftGlobalScope.jl:65\u001b[22m\n",
      " [26] \u001b[1mexecute_request\u001b[22m\u001b[1m(\u001b[22m::ZMQ.Socket, ::IJulia.Msg\u001b[1m)\u001b[22m at \u001b[1m/home/bcs/.julia/packages/IJulia/IDNmS/src/execute_request.jl:67\u001b[22m\n",
      " [27] \u001b[1m#invokelatest#1\u001b[22m at \u001b[1m./essentials.jl:710\u001b[22m [inlined]\n",
      " [28] \u001b[1minvokelatest\u001b[22m at \u001b[1m./essentials.jl:709\u001b[22m [inlined]\n",
      " [29] \u001b[1meventloop\u001b[22m\u001b[1m(\u001b[22m::ZMQ.Socket\u001b[1m)\u001b[22m at \u001b[1m/home/bcs/.julia/packages/IJulia/IDNmS/src/eventloop.jl:8\u001b[22m\n",
      " [30] \u001b[1m(::IJulia.var\"#15#18\")\u001b[22m\u001b[1m(\u001b[22m\u001b[1m)\u001b[22m at \u001b[1m./task.jl:356\u001b[22m\n"
     ]
    },
    {
     "ename": "LoadError",
     "evalue": "InterruptException:",
     "output_type": "error",
     "traceback": [
      "InterruptException:",
      "",
      "Stacktrace:",
      " [1] differentiate(::Function; o::Base.Iterators.Pairs{Union{},Union{},Tuple{},NamedTuple{(),Tuple{}}}) at /home/bcs/.julia/packages/AutoGrad/VFrAv/src/core.jl:148",
      " [2] differentiate at /home/bcs/.julia/packages/AutoGrad/VFrAv/src/core.jl:135 [inlined]",
      " [3] iterate(::Knet.Train20.Minimize{Base.Iterators.Take{Cycle{Data{Tuple{Array{Float32,N} where N,Array{Any,N} where N}}}}}) at /home/bcs/.julia/packages/Knet/C0PoK/src/train20/train.jl:26",
      " [4] adam!(::Darknet, ::Vararg{Any,N} where N; o::Base.Iterators.Pairs{Symbol,Float64,Tuple{Symbol},NamedTuple{(:lr,),Tuple{Float64}}}) at /home/bcs/.julia/packages/Knet/C0PoK/src/train20/update.jl:411",
      " [5] #train!#10 at ./In[3]:13 [inlined]",
      " [6] top-level scope at In[4]:11",
      " [7] include_string(::Function, ::Module, ::String, ::String) at ./loading.jl:1091"
     ]
    }
   ],
   "source": [
    "\n",
    "dtrn = minibatch(x[:, :, :, 1:6], y[1:6], 1; xsize = (416,416,3,:), xtype=Knet.atype(), shuffle=true);\n",
    "dtst = minibatch(x[:, :, :, 10:11], y[10:11], 1; xsize = (416,416,3,:), xtype=Knet.atype());\n",
    "include(\"../models.jl\")\n",
    "Random.seed!(1)\n",
    "\n",
    "darknet = Darknet(\"../yolov3.cfg\"; verbose=false);\n",
    "\n",
    "model = darknet\n",
    "\n",
    "iters, trnloss, trnacc, tstloss, tstacc = train!(\n",
    "    model, dtrn, dtst; \n",
    "    period=1, iters=520, lr=1e-2, optimizer=adam!);"
   ]
  },
  {
   "cell_type": "code",
   "execution_count": 22,
   "metadata": {},
   "outputs": [
    {
     "data": {
      "text/plain": [
       "1-element Array{Symbol,1}:\n",
       " :darknet"
      ]
     },
     "execution_count": 22,
     "metadata": {},
     "output_type": "execute_result"
    }
   ],
   "source": [
    "@load \"first.jld2\" darknet"
   ]
  },
  {
   "cell_type": "code",
   "execution_count": 23,
   "metadata": {},
   "outputs": [
    {
     "data": {
      "text/plain": [
       "T(5.974961309897038)"
      ]
     },
     "execution_count": 23,
     "metadata": {},
     "output_type": "execute_result"
    }
   ],
   "source": [
    "@diff a = darknet(x[:, :, :, 1:2], y[1:2])"
   ]
  },
  {
   "cell_type": "code",
   "execution_count": null,
   "metadata": {},
   "outputs": [],
   "source": [
    "plot(iters, trnloss, label=\"train\", xlabel=\"Iterations\", ylabel=\"Loss\")\n",
    "display(plot!(iters, tstloss, label=\"test\"))\n",
    "\n",
    "plot(iters, round.(1 .- trnacc, digits=2), label=\"train\", xlabel=\"Iterations\", ylabel=\"Misclassification error\")\n",
    "display(plot!(iters, round.(1 .- tstacc, digits=2), label=\"test\"))"
   ]
  },
  {
   "cell_type": "code",
   "execution_count": null,
   "metadata": {},
   "outputs": [],
   "source": [
    "\n",
    "include(\"../models.jl\")\n",
    "Random.seed!(1)\n",
    "\n",
    "darknet = Darknet(\"../yolov3.cfg\"; verbose=false);\n",
    "\n",
    "l = darknet(xx, yy)\n"
   ]
  },
  {
   "cell_type": "code",
   "execution_count": null,
   "metadata": {},
   "outputs": [],
   "source": [
    "sum(1.0 .- giou)"
   ]
  },
  {
   "cell_type": "code",
   "execution_count": null,
   "metadata": {},
   "outputs": [],
   "source": [
    "inter = clamp.(min.(b1_x2, b2_x2) - max.(b1_x1, b2_x1), 0, 1e10) .* \n",
    "clamp.(min.(b1_y2, b2_y2) - max.(b1_y1, b2_y1), 0, 1e10);\n"
   ]
  },
  {
   "cell_type": "code",
   "execution_count": null,
   "metadata": {},
   "outputs": [],
   "source": [
    "pbox[1, :] .- pbox[3, :] ./ 2"
   ]
  },
  {
   "cell_type": "code",
   "execution_count": null,
   "metadata": {},
   "outputs": [],
   "source": [
    "clamp.(exp.(scores), 0, 1e3)"
   ]
  },
  {
   "cell_type": "code",
   "execution_count": null,
   "metadata": {},
   "outputs": [],
   "source": [
    "\n",
    "b = Integer.(t[:, 1])\n",
    "c = Integer.(t[:, 2])\n",
    "gxy = t[:, 3:4]\n",
    "gwh = t[:, 5:6]"
   ]
  },
  {
   "cell_type": "code",
   "execution_count": null,
   "metadata": {},
   "outputs": [],
   "source": [
    "size(yolo_out[1])"
   ]
  },
  {
   "cell_type": "code",
   "execution_count": null,
   "metadata": {},
   "outputs": [],
   "source": []
  },
  {
   "cell_type": "code",
   "execution_count": null,
   "metadata": {},
   "outputs": [],
   "source": [
    "j"
   ]
  },
  {
   "cell_type": "code",
   "execution_count": null,
   "metadata": {},
   "outputs": [],
   "source": [
    "j'"
   ]
  },
  {
   "cell_type": "code",
   "execution_count": null,
   "metadata": {},
   "outputs": [],
   "source": [
    "tt[jj, :]"
   ]
  },
  {
   "cell_type": "code",
   "execution_count": null,
   "metadata": {},
   "outputs": [],
   "source": [
    "tt = repeat(t, 3)"
   ]
  },
  {
   "cell_type": "code",
   "execution_count": null,
   "metadata": {},
   "outputs": [],
   "source": [
    "tt[j]"
   ]
  },
  {
   "cell_type": "code",
   "execution_count": null,
   "metadata": {},
   "outputs": [],
   "source": [
    "at'[jj]"
   ]
  },
  {
   "cell_type": "code",
   "execution_count": null,
   "metadata": {},
   "outputs": [],
   "source": [
    "targets_reshaped .* gain"
   ]
  },
  {
   "cell_type": "code",
   "execution_count": null,
   "metadata": {},
   "outputs": [],
   "source": [
    "wh1r = reshape(wh1, (:, 1, 2))"
   ]
  },
  {
   "cell_type": "code",
   "execution_count": null,
   "metadata": {},
   "outputs": [],
   "source": [
    "wh12 = reshape(prod(wh1r, dims=3), (:, 1))"
   ]
  },
  {
   "cell_type": "code",
   "execution_count": null,
   "metadata": {},
   "outputs": [],
   "source": [
    "wh2"
   ]
  },
  {
   "cell_type": "code",
   "execution_count": null,
   "metadata": {},
   "outputs": [],
   "source": [
    "wh2r = reshape(wh2, (1, :, 2))"
   ]
  },
  {
   "cell_type": "code",
   "execution_count": null,
   "metadata": {},
   "outputs": [],
   "source": [
    "wh22 = reshape(prod(wh2r, dims=3), (1, :))"
   ]
  },
  {
   "cell_type": "code",
   "execution_count": null,
   "metadata": {},
   "outputs": [],
   "source": [
    "wh12 .+ wh22"
   ]
  },
  {
   "cell_type": "code",
   "execution_count": null,
   "metadata": {},
   "outputs": [],
   "source": [
    "reshape(prod(a, dims=3), (3, 13))"
   ]
  },
  {
   "cell_type": "code",
   "execution_count": null,
   "metadata": {},
   "outputs": [],
   "source": [
    "inter = build_targets(yolo_out, yy, darknet)\n"
   ]
  },
  {
   "cell_type": "code",
   "execution_count": null,
   "metadata": {},
   "outputs": [],
   "source": [
    "targets = nothing \n",
    "\n",
    "for (i, t) in enumerate(yy[2:end])\n",
    "    println(i)\n",
    "\n",
    "end\n",
    "gg = hcat(yy[2]...)\n",
    "# gg = vcat(ones(1, 2), gg)"
   ]
  },
  {
   "cell_type": "code",
   "execution_count": null,
   "metadata": {},
   "outputs": [],
   "source": []
  },
  {
   "cell_type": "code",
   "execution_count": null,
   "metadata": {},
   "outputs": [],
   "source": [
    "length(yy[2])\n"
   ]
  },
  {
   "cell_type": "code",
   "execution_count": null,
   "metadata": {},
   "outputs": [],
   "source": [
    "include(\"utils/utils.jl\")\n",
    "\n"
   ]
  }
 ],
 "metadata": {
  "@webio": {
   "lastCommId": null,
   "lastKernelId": null
  },
  "kernelspec": {
   "display_name": "Julia 1.5.2",
   "language": "julia",
   "name": "julia-1.5"
  },
  "language_info": {
   "file_extension": ".jl",
   "mimetype": "application/julia",
   "name": "julia",
   "version": "1.5.2"
  }
 },
 "nbformat": 4,
 "nbformat_minor": 4
}
