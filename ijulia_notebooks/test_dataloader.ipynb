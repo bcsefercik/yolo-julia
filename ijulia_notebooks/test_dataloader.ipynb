{
 "cells": [
  {
   "cell_type": "code",
   "execution_count": 1,
   "metadata": {},
   "outputs": [
    {
     "name": "stderr",
     "output_type": "stream",
     "text": [
      "\u001b[32m\u001b[1m Activating\u001b[22m\u001b[39m environment at `~/yolo-julia/Project.toml`\n"
     ]
    }
   ],
   "source": [
    "using Pkg\n",
    "\n",
    "Pkg.activate(\"../Project.toml\")\n",
    "\n",
    "using Random\n",
    "import .Iterators: cycle, Cycle, take\n",
    "\n",
    "using Knet\n",
    "using Knet: deconv4, conv4, unpool, pool, mat, sigm, KnetArray, nll, zeroone, progress, adam!, sgd!, param, param0, dropout, relu, minibatch, Data\n",
    "import Knet: train!\n",
    "using JLD2\n",
    "using CUDA"
   ]
  },
  {
   "cell_type": "code",
   "execution_count": 2,
   "metadata": {},
   "outputs": [],
   "source": [
    "function Knet.KnetArray(x::CuArray{T,N}) where {T,N}\n",
    "    p = Base.bitcast(Knet.Cptr, pointer(x))\n",
    "    k = Knet.KnetPtr(p, sizeof(x), Int(CUDA.device().handle), x)\n",
    "    KnetArray{T,N}(k, size(x))\n",
    "end"
   ]
  },
  {
   "cell_type": "code",
   "execution_count": 3,
   "metadata": {},
   "outputs": [
    {
     "data": {
      "text/plain": [
       "(K32(416,416,3,1)[0.654902⋯], Any[Any[Any[4.0, 0.497327, 0.511852, 0.948637, 0.952609], Any[4.0, 0.240637, 0.217617, 0.475398, 0.424859]]])"
      ]
     },
     "execution_count": 3,
     "metadata": {},
     "output_type": "execute_result"
    }
   ],
   "source": [
    "include(\"../coco2014.jl\")\n",
    "x, y = load_data(\n",
    "    \"../dataset/images/overfit\",\n",
    "    \"../val_labels.json\",\n",
    "    class_file=\"../class_mappings.json\"\n",
    ");\n",
    "\n",
    "dtrn = minibatch(x[:, :, :, 1:6], y[1:6], 1; xsize = (416,416,3,:), xtype=Knet.atype(), shuffle=true);\n",
    "dtst = minibatch(x[:, :, :, 10:11], y[10:11], 1; xsize = (416,416,3,:), xtype=Knet.atype());\n",
    "\n",
    "xx, yy = first(dtrn)"
   ]
  },
  {
   "cell_type": "code",
   "execution_count": 65,
   "metadata": {},
   "outputs": [
    {
     "name": "stderr",
     "output_type": "stream",
     "text": [
      "WARNING: replacing module NN.\n"
     ]
    },
    {
     "data": {
      "text/plain": [
       "T(8.465776634216308)"
      ]
     },
     "execution_count": 65,
     "metadata": {},
     "output_type": "execute_result"
    }
   ],
   "source": [
    "include(\"../models.jl\")\n",
    "\n",
    "Random.seed!(1)\n",
    "darknet = Darknet(\"../yolov3.cfg\"; verbose=false);\n",
    "\n",
    "a = darknet(xx, yy)\n",
    "@diff a = darknet(xx, yy)\n"
   ]
  },
  {
   "cell_type": "code",
   "execution_count": 56,
   "metadata": {},
   "outputs": [
    {
     "data": {
      "text/plain": [
       "2×11 KnetArray{Float32,2}:\n",
       " 0.894371  0.894262  0.628493  0.658711  …  1.00179   0.760402  0.781808\n",
       " 1.01587   1.02907   1.0577    1.04478      0.919599  0.973357  1.02486"
      ]
     },
     "execution_count": 56,
     "metadata": {},
     "output_type": "execute_result"
    }
   ],
   "source": [
    "min.(max.(exp.(ps[3:4, :]), 0), 1000)"
   ]
  },
  {
   "cell_type": "code",
   "execution_count": 38,
   "metadata": {},
   "outputs": [
    {
     "data": {
      "text/plain": [
       "3×6 Array{Integer,2}:\n",
       " 0  0  1  1  1  1\n",
       " 1  0  1  1  1  1\n",
       " 1  0  0  0  1  0"
      ]
     },
     "execution_count": 38,
     "metadata": {},
     "output_type": "execute_result"
    }
   ],
   "source": [
    "j = convert(Array{Integer}, j)\n",
    "size(j)\n",
    "j = reshape(j, size(j))"
   ]
  },
  {
   "cell_type": "code",
   "execution_count": 39,
   "metadata": {},
   "outputs": [
    {
     "data": {
      "text/plain": [
       "3×6 Array{Bool,2}:\n",
       " 0  0  1  1  1  1\n",
       " 1  0  1  1  1  1\n",
       " 1  0  0  0  1  0"
      ]
     },
     "execution_count": 39,
     "metadata": {},
     "output_type": "execute_result"
    }
   ],
   "source": [
    "an = convert(Array{Bool}, a)"
   ]
  },
  {
   "cell_type": "code",
   "execution_count": 19,
   "metadata": {},
   "outputs": [
    {
     "data": {
      "text/plain": [
       "18-element Array{Int64,1}:\n",
       " 0\n",
       " 0\n",
       " 1\n",
       " 1\n",
       " 1\n",
       " 1\n",
       " 1\n",
       " 0\n",
       " 1\n",
       " 1\n",
       " 1\n",
       " 1\n",
       " 1\n",
       " 0\n",
       " 0\n",
       " 0\n",
       " 1\n",
       " 0"
      ]
     },
     "execution_count": 19,
     "metadata": {},
     "output_type": "execute_result"
    }
   ],
   "source": [
    "vcat(an'...)"
   ]
  },
  {
   "cell_type": "code",
   "execution_count": 4,
   "metadata": {},
   "outputs": [
    {
     "data": {
      "text/plain": [
       "train! (generic function with 2 methods)"
      ]
     },
     "execution_count": 4,
     "metadata": {},
     "output_type": "execute_result"
    }
   ],
   "source": [
    "function train!(model, train_data::Data, test_data::Data;\n",
    "                  period::Int=4, iters::Int=100, lr=0.15, optimizer=sgd!)  # or optimizer=adam!\n",
    "    \n",
    "    train_loss = []\n",
    "    test_loss = []\n",
    "    train_acc = []\n",
    "    test_acc = []\n",
    "    \n",
    "    for i in 0:period:iters\n",
    "        push!(train_loss, model(train_data))\n",
    "        push!(test_loss, model(test_data))\n",
    "        \n",
    "        optimizer(model, take(cycle(train_data), period); lr=lr)\n",
    "        \n",
    "        \n",
    "        println(\"Iter: \", i, \" \", train_loss[end])\n",
    "    end\n",
    "    \n",
    "    return 0:period:iters, train_loss, train_acc, test_loss, test_acc\n",
    "end\n",
    "\n"
   ]
  },
  {
   "cell_type": "code",
   "execution_count": 9,
   "metadata": {},
   "outputs": [
    {
     "name": "stdout",
     "output_type": "stream",
     "text": [
      "Iter: 0 5.566567887067795\n",
      "Iter: "
     ]
    },
    {
     "name": "stderr",
     "output_type": "stream",
     "text": [
      "WARNING: replacing module NN.\n"
     ]
    },
    {
     "name": "stdout",
     "output_type": "stream",
     "text": [
      "1 12.266344351172448\n",
      "Iter: 2 12.674455112218858\n",
      "Iter: 3 14.040614753961565\n",
      "Iter: 4 15.708545681238176\n",
      "Iter: 5 15.745373417139055\n",
      "Iter: 6 15.836422921419144\n",
      "Iter: 7 14.924522615671158\n",
      "Iter: 8 14.907230426073076\n",
      "Iter: 9 14.907230426073076\n",
      "Iter: 10 13.886420694589617\n",
      "Iter: 11 14.161012872457505\n",
      "Iter: 12 13.62393023610115\n",
      "Iter: 13 14.327960501909258\n",
      "Iter: 14 13.88627369761467\n",
      "Iter: 15 13.88627369761467\n",
      "Iter: 16 13.886273697614671\n",
      "Iter: 17 12.719603861570357\n",
      "Iter: 18 12.17590509533882\n",
      "Iter: 19 11.940695165395738\n",
      "Iter: 20 11.728097308874132\n",
      "Iter: 21 10.832674449682235\n",
      "Iter: 22 10.427667962312698\n",
      "Iter: 23 11.060097478628158\n",
      "Iter: 24 10.428792876005174\n",
      "Iter: 25 11.060283721685408\n",
      "Iter: 26 11.025889242887496\n",
      "Iter: 27 10.862514132261277\n",
      "Iter: 28 10.862514132261277\n",
      "Iter: 29 10.93624584555626\n",
      "Iter: 30 11.203868960142136\n",
      "Iter: 31 12.76885741353035\n",
      "Iter: 32 12.880781050920488\n",
      "Iter: 33 12.948065434694291\n",
      "Iter: 34 12.503555866479877\n",
      "Iter: 35 12.655064593553545\n",
      "Iter: 36 12.72042605996132\n",
      "Iter: 37 12.793934394121171\n",
      "Iter: 38 12.012870961427689\n",
      "Iter: 39 12.069366751909257\n",
      "Iter: 40 12.028893069028854\n",
      "Iter: 41 12.008575414419175\n",
      "Iter: 42 11.988245662450792\n",
      "Iter: 43 11.883654853105545\n",
      "Iter: 44 11.882494350671768\n",
      "Iter: 45 11.900597485303878\n",
      "Iter: 46 11.683898483514787\n",
      "Iter: 47 11.558403719663621\n",
      "Iter: 48 11.124354568719864\n",
      "Iter: 49 10.896667226552964\n",
      "Iter: 50 10.291358159780502\n",
      "Iter: 51 9.595063029527665\n",
      "Iter: 52 9.507521899938583\n",
      "Iter: 53 9.139097684621811\n",
      "Iter: 54 8.63362038254738\n",
      "Iter: 55 8.722669110298156\n",
      "Iter: 56 8.688537608385086\n",
      "Iter: 57 8.619995943307876\n",
      "Iter: 58 8.208077784776687\n",
      "Iter: 59 7.910388302803039\n",
      "Iter: 60 7.488504417538643\n",
      "Iter: 61 7.38224927186966\n",
      "Iter: 62 7.119039688706398\n",
      "Iter: 63 7.015475818514823\n",
      "Iter: 64 6.849347925782204\n",
      "Iter: 65 6.958667606711386\n",
      "Iter: 66 7.09481778740883\n",
      "Iter: 67 7.035062426924706\n",
      "Iter: 68 7.258820624351501\n",
      "Iter: 69 7.205001690983772\n",
      "Iter: 70 7.074842059016227\n",
      "Iter: 71 6.903163377642631\n",
      "Iter: 72 6.857503655552862\n",
      "Iter: 73 6.863610782027244\n",
      "Iter: 74 6.8784156632423405\n",
      "Iter: 75 6.943276249766349\n",
      "Iter: 76 6.977587418556214\n",
      "Iter: 77 7.149110873937608\n",
      "Iter: 78 8.449815576076508\n",
      "Iter: 79 9.140258468389511\n",
      "Iter: 80 9.389138554334641\n",
      "Iter: 81 10.417598317861557\n",
      "Iter: 82 10.634708489179612\n",
      "Iter: 83 10.91047664284706\n",
      "Iter: 84 10.918666554689409\n",
      "Iter: 85 10.493284035921098\n",
      "Iter: 86 10.503730527162551\n",
      "Iter: 87 10.564016588926316\n",
      "Iter: 88 10.94283145070076\n",
      "Iter: 89 11.022518721818924\n",
      "Iter: 90 10.71951097369194\n",
      "Iter: 91 10.733858652114868\n",
      "Iter: 92 10.025433528423308\n",
      "Iter: 93 9.815673205852509\n",
      "Iter: 94 9.766914801597595\n",
      "Iter: 95 9.599135830402373\n",
      "Iter: 96 9.555080766677856\n",
      "Iter: 97 9.597588282823564\n",
      "Iter: 98 9.20921285033226\n",
      "Iter: 99 9.05362710237503\n",
      "Iter: 100 9.032109558582306\n",
      "Iter: 101 8.979009187221527\n",
      "Iter: 102 8.547211833000183\n",
      "Iter: 103 8.46175707578659\n",
      "Iter: 104 8.482612359523772\n",
      "Iter: 105 8.287433222532274\n",
      "Iter: 106 7.68919745326042\n",
      "Iter: 107 7.718150511980057\n",
      "Iter: 108 7.3998789215087895\n",
      "Iter: 109 7.429580117464066\n",
      "Iter: 110 7.5568304753303535\n",
      "Iter: 111 7.506615113019944\n",
      "Iter: 112 7.506093625426293\n",
      "Iter: 113 7.498458926081658\n",
      "Iter: 114 7.542974885106087\n",
      "Iter: 115 7.477090172767639\n",
      "Iter: 116 7.433511020541192\n",
      "Iter: 117 7.3990223300457\n",
      "Iter: 118 7.357114230990409\n",
      "Iter: 119 7.305202389955521\n",
      "Iter: 120 7.314249631762504\n",
      "Iter: 121 7.344070289134979\n",
      "Iter: 122 7.345211449861527\n",
      "Iter: 123 7.347706600427628\n",
      "Iter: 124 7.295307031869889\n",
      "Iter: 125 7.117314232587815\n",
      "Iter: 126 6.816867431998253\n",
      "Iter: 127 6.597372182011604\n",
      "Iter: 128 6.452804771661758\n",
      "Iter: 129 6.350225007534028\n",
      "Iter: 130 6.346658642888069\n",
      "Iter: 131 6.330755047202111\n",
      "Iter: 132 6.407202828526497\n",
      "Iter: 133 6.645619226694106\n",
      "Iter: 134 6.772510918974876\n",
      "Iter: 135 6.717423064112663\n",
      "Iter: 136 6.604390795230866\n",
      "Iter: 137 6.469700667262077\n",
      "Iter: 138 6.544745823144912\n",
      "Iter: 139 6.557021864056587\n",
      "Iter: 140 6.98224447965622\n",
      "Iter: 141 7.32165771663189\n",
      "Iter: 142 7.474122240543366\n",
      "Iter: 143 7.610255435705184\n",
      "Iter: 144 7.6453734350204465\n",
      "Iter: 145 7.668809113502504\n",
      "Iter: 146 7.711199383735656\n",
      "Iter: 147 7.653090002536774\n",
      "Iter: 148 7.280785629749299\n",
      "Iter: 149 7.15819177031517\n",
      "Iter: 150 7.100407400131225\n",
      "Iter: 151 6.988217409849167\n",
      "Iter: 152 6.864951021671295\n",
      "Iter: 153 6.7080342829227435\n",
      "Iter: 154 6.620094432830811\n",
      "Iter: 155 6.556350073814393\n",
      "Iter: 156 6.506189430952072\n",
      "Iter: 157 6.449474833011628\n",
      "Iter: 158 6.394502254724503\n",
      "Iter: 159 6.296396754980087\n",
      "Iter: 160 6.216017261743545\n",
      "Iter: 161 6.214152052998543\n",
      "Iter: 162 5.977144153118133\n",
      "Iter: 163 5.778425800204277\n",
      "Iter: 164 5.688986053466798\n",
      "Iter: 165 5.674782629013062\n",
      "Iter: 166 5.773549826145172\n",
      "Iter: 167 5.803184099793435\n",
      "Iter: 168 5.776753410696983\n",
      "Iter: 169 5.8045255351066585\n",
      "Iter: 170 5.7277249258756635\n",
      "Iter: 171 5.640229513049126\n",
      "Iter: 172 5.683833809494971\n",
      "Iter: 173 5.826238605976105\n",
      "Iter: 174 6.048157477378845\n",
      "Iter: 175 6.045922842025757\n",
      "Iter: 176 6.071946370601655\n",
      "Iter: 177 6.021021800637246\n",
      "Iter: 178 6.05717025578022\n",
      "Iter: 179 6.225803216099739\n",
      "Iter: 180 6.321366160511971\n",
      "Iter: 181 6.242095509767533\n",
      "Iter: 182 6.060959542393685\n",
      "Iter: 183 5.729521805644036\n",
      "Iter: 184 6.0352199500799175\n",
      "Iter: 185 6.493123791217804\n",
      "Iter: 186 6.589538474082946\n",
      "Iter: 187 6.4809131956100465\n",
      "Iter: 188 6.455844690203667\n",
      "Iter: 189 6.481210389733314\n",
      "Iter: 190 6.428444559574127\n",
      "Iter: 191 6.582620894908906\n",
      "Iter: 192 6.654047569036483\n",
      "Iter: 193 8.781109340190888\n",
      "Iter: 194 9.553252377510072\n",
      "Iter: 195 10.474266917705537\n",
      "Iter: 196 10.844985270500182\n",
      "Iter: 197 10.777317147254942\n",
      "Iter: 198 10.372168164253234\n",
      "Iter: 199 10.594651110172272\n",
      "Iter: 200 10.183319251537323\n",
      "Iter: 201 10.256779055595398\n",
      "Iter: 202 10.089412238597872\n",
      "Iter: 203 10.03553426027298\n",
      "Iter: 204 10.071701564788818\n",
      "Iter: 205 10.560241861343384\n",
      "Iter: 206 11.244711964130403\n",
      "Iter: 207 12.006374328136445\n",
      "Iter: 208 11.943721931576727\n",
      "Iter: 209 11.79994190454483\n",
      "Iter: 210 11.194239814281465\n",
      "Iter: 211 10.937492225170134\n",
      "Iter: 212 10.921207633018492\n",
      "Iter: 213 10.766609437465666\n",
      "Iter: 214 10.226027921438217\n",
      "Iter: 215 10.31775902748108\n",
      "Iter: 216 10.378713960647582\n",
      "Iter: 217 10.363584244251252\n",
      "Iter: 218 10.341231560707092\n",
      "Iter: 219 10.097789237499237\n",
      "Iter: 220 10.051816179752349\n",
      "Iter: 221 9.251781837940216\n",
      "Iter: 222 8.89475783586502\n",
      "Iter: 223 9.011054598093034\n",
      "Iter: 224 9.035848486423495\n",
      "Iter: 225 8.789317538738251\n",
      "Iter: 226 8.568975684642792\n",
      "Iter: 227 8.478610384464266\n",
      "Iter: 228 8.329965636730194\n",
      "Iter: 229 8.358877058029174\n",
      "Iter: 230 8.432473168373107\n",
      "Iter: 231 8.41705058336258\n",
      "Iter: 232 8.427299156188964\n",
      "Iter: 233 8.333963391780854\n",
      "Iter: 234 8.210251652002334\n",
      "Iter: 235 7.715402231216431\n",
      "Iter: 236 7.600989140272141\n",
      "Iter: 237 7.52954038143158\n",
      "Iter: 238 7.2897556102275844\n",
      "Iter: 239 6.981705303192139\n",
      "Iter: 240 6.481896422505379\n",
      "Iter: 241 6.038510220646859\n",
      "Iter: 242 5.8970440948009495\n",
      "Iter: 243 5.865457856059074\n",
      "Iter: 244 5.957941495180131\n",
      "Iter: 245 5.8712432420253755\n",
      "Iter: 246 5.724481989741325\n",
      "Iter: 247 5.63223080277443\n",
      "Iter: 248 5.476737895011902\n",
      "Iter: 249 5.362293927669525\n",
      "Iter: 250 5.293204470276833\n",
      "Iter: 251 5.231754178404809\n",
      "Iter: 252 5.138824484348297\n",
      "Iter: 253 5.0546093547344215\n",
      "Iter: 254 5.1897130084037775\n",
      "Iter: 255 5.406598569750787\n",
      "Iter: 256 5.4142593979835505\n",
      "Iter: 257 5.404356197714805\n",
      "Iter: 258 5.388184385299684\n",
      "Iter: 259 5.558654350638389\n",
      "Iter: 260 5.648051791787148\n",
      "Iter: 261 5.7807162803411485\n",
      "Iter: 262 5.647286422848701\n",
      "Iter: 263 5.587305960059166\n",
      "Iter: 264 5.8091904735565185\n",
      "Iter: 265 5.820945062041283\n",
      "Iter: 266 5.489152774214745\n",
      "Iter: 267 5.236089569330216\n",
      "Iter: 268 5.098563560247421\n",
      "Iter: 269 5.135591078400612\n",
      "Iter: 270 5.350786209702491\n",
      "Iter: 271 5.514786549806594\n",
      "Iter: 272 5.529557741284371\n",
      "Iter: 273 5.529219964742661\n",
      "Iter: 274 5.576297398805618\n",
      "Iter: 275 5.546417485475541\n",
      "Iter: 276 5.53638086259365\n",
      "Iter: 277 5.554313051700593\n",
      "Iter: 278 5.533424887061119\n",
      "Iter: 279 5.400806326270104\n",
      "Iter: 280 5.254275451302529\n",
      "Iter: 281 5.054040778875351\n",
      "Iter: 282 4.934906342029572\n",
      "Iter: 283 4.9533834046125405\n",
      "Iter: 284 4.893181110024452\n",
      "Iter: 285 4.84581355035305\n",
      "Iter: 286 4.827087683081627\n",
      "Iter: 287 4.914416581392288\n",
      "Iter: 288 4.991385182142257\n",
      "Iter: 289 5.029826332926751\n",
      "Iter: 290 5.127380875349044\n",
      "Iter: 291 5.243712030649186\n",
      "Iter: 292 5.292357901334763\n",
      "Iter: 293 5.264639124870301\n",
      "Iter: 294 5.248671877384186\n"
     ]
    },
    {
     "name": "stdout",
     "output_type": "stream",
     "text": [
      "Iter: 295 5.122549914717674\n",
      "Iter: 296 5.116064112782478\n",
      "Iter: 297 5.063426078557968\n",
      "Iter: 298 5.070132024288178\n",
      "Iter: 299 5.102199027538299\n",
      "Iter: 300 5.16163240134716\n",
      "Iter: 301 5.116865597963334\n",
      "Iter: 302 5.257165207862854\n",
      "Iter: 303 5.500084355473518\n",
      "Iter: 304 5.482650549411773\n",
      "Iter: 305 5.407738534808158\n",
      "Iter: 306 5.423487115502358\n",
      "Iter: 307 5.475667032599449\n",
      "Iter: 308 5.481200413703919\n",
      "Iter: 309 5.521418715715408\n",
      "\n",
      "Stacktrace:\n",
      " [1] \u001b[1mBox\u001b[22m at \u001b[1m./boot.jl:340\u001b[22m [inlined]\n",
      " [2] \u001b[1mAutoGrad.Result\u001b[22m\u001b[1m(\u001b[22m::KnetArray{Float32,4}, ::Function, ::Tuple{typeof(max),AutoGrad.Result{KnetArray{Float32,4}},AutoGrad.Result{KnetArray{Float32,4}}}, ::Base.Iterators.Pairs{Union{},Union{},Tuple{},NamedTuple{(),Tuple{}}}\u001b[1m)\u001b[22m at \u001b[1m/home/ec2-user/.julia/packages/AutoGrad/VFrAv/src/core.jl:111\u001b[22m\n",
      " [3] \u001b[1mforw\u001b[22m\u001b[1m(\u001b[22m::Function, ::Function, ::Vararg{Any,N} where N; kwargs::Base.Iterators.Pairs{Union{},Union{},Tuple{},NamedTuple{(),Tuple{}}}\u001b[1m)\u001b[22m at \u001b[1m/home/ec2-user/.julia/packages/AutoGrad/VFrAv/src/core.jl:72\u001b[22m\n",
      " [4] \u001b[1mforw\u001b[22m at \u001b[1m/home/ec2-user/.julia/packages/AutoGrad/VFrAv/src/core.jl:65\u001b[22m [inlined]\n",
      " [5] \u001b[1mbroadcasted\u001b[22m\u001b[1m(\u001b[22m::typeof(max), ::AutoGrad.Result{KnetArray{Float32,4}}, ::AutoGrad.Result{KnetArray{Float32,4}}\u001b[1m)\u001b[22m at \u001b[1m./none:0\u001b[22m\n",
      " [6] \u001b[1m(::Main.NN.LeakyReLU)\u001b[22m\u001b[1m(\u001b[22m::AutoGrad.Result{KnetArray{Float32,4}}\u001b[1m)\u001b[22m at \u001b[1m/home/ec2-user/yolo-julia/nn.jl:82\u001b[22m\n",
      " [7] \u001b[1m(::Main.NN.Chain)\u001b[22m\u001b[1m(\u001b[22m::AutoGrad.Result{KnetArray{Float32,4}}\u001b[1m)\u001b[22m at \u001b[1m/home/ec2-user/yolo-julia/nn.jl:43\u001b[22m\n",
      " [8] \u001b[1m(::Darknet)\u001b[22m\u001b[1m(\u001b[22m::KnetArray{Float32,4}; training::Bool\u001b[1m)\u001b[22m at \u001b[1m/home/ec2-user/yolo-julia/models.jl:170\u001b[22m\n",
      " [9] \u001b[1mDarknet\u001b[22m at \u001b[1m/home/ec2-user/yolo-julia/models.jl:156\u001b[22m [inlined]\n",
      " [10] \u001b[1m(::Darknet)\u001b[22m\u001b[1m(\u001b[22m::KnetArray{Float32,4}, ::Array{Any,1}; training::Bool\u001b[1m)\u001b[22m at \u001b[1m/home/ec2-user/yolo-julia/models.jl:191\u001b[22m\n",
      " [11] \u001b[1m(::Darknet)\u001b[22m\u001b[1m(\u001b[22m::KnetArray{Float32,4}, ::Array{Any,1}\u001b[1m)\u001b[22m at \u001b[1m/home/ec2-user/yolo-julia/models.jl:191\u001b[22m\n",
      " [12] \u001b[1m(::Knet.Train20.var\"#27#28\"{Knet.Train20.Minimize{Base.Iterators.Take{Cycle{Data{Tuple{KnetArray{Float32,N} where N,Array{Any,N} where N}}}}},Tuple{KnetArray{Float32,4},Array{Any,1}}})\u001b[22m\u001b[1m(\u001b[22m\u001b[1m)\u001b[22m at \u001b[1m/home/ec2-user/.julia/packages/AutoGrad/VFrAv/src/core.jl:205\u001b[22m\n",
      " [13] \u001b[1mdifferentiate\u001b[22m\u001b[1m(\u001b[22m::Function; o::Base.Iterators.Pairs{Union{},Union{},Tuple{},NamedTuple{(),Tuple{}}}\u001b[1m)\u001b[22m at \u001b[1m/home/ec2-user/.julia/packages/AutoGrad/VFrAv/src/core.jl:144\u001b[22m\n",
      " [14] \u001b[1mdifferentiate\u001b[22m at \u001b[1m/home/ec2-user/.julia/packages/AutoGrad/VFrAv/src/core.jl:135\u001b[22m [inlined]\n",
      " [15] \u001b[1miterate\u001b[22m\u001b[1m(\u001b[22m::Knet.Train20.Minimize{Base.Iterators.Take{Cycle{Data{Tuple{KnetArray{Float32,N} where N,Array{Any,N} where N}}}}}\u001b[1m)\u001b[22m at \u001b[1m/home/ec2-user/.julia/packages/Knet/C0PoK/src/train20/train.jl:26\u001b[22m\n",
      " [16] \u001b[1madam!\u001b[22m\u001b[1m(\u001b[22m::Darknet, ::Vararg{Any,N} where N; o::Base.Iterators.Pairs{Symbol,Float64,Tuple{Symbol},NamedTuple{(:lr,),Tuple{Float64}}}\u001b[1m)\u001b[22m at \u001b[1m/home/ec2-user/.julia/packages/Knet/C0PoK/src/train20/update.jl:411\u001b[22m\n",
      " [17] \u001b[1m#train!#10\u001b[22m at \u001b[1m./In[4]:13\u001b[22m [inlined]\n",
      " [18] top-level scope at \u001b[1mIn[9]:11\u001b[22m\n",
      " [19] \u001b[1minclude_string\u001b[22m\u001b[1m(\u001b[22m::Function, ::Module, ::String, ::String\u001b[1m)\u001b[22m at \u001b[1m./loading.jl:1091\u001b[22m\n",
      " [20] \u001b[1mexecute_code\u001b[22m\u001b[1m(\u001b[22m::String, ::String\u001b[1m)\u001b[22m at \u001b[1m/home/ec2-user/.julia/packages/IJulia/rWZ9e/src/execute_request.jl:27\u001b[22m\n",
      " [21] \u001b[1mexecute_request\u001b[22m\u001b[1m(\u001b[22m::ZMQ.Socket, ::IJulia.Msg\u001b[1m)\u001b[22m at \u001b[1m/home/ec2-user/.julia/packages/IJulia/rWZ9e/src/execute_request.jl:86\u001b[22m\n",
      " [22] \u001b[1m#invokelatest#1\u001b[22m at \u001b[1m./essentials.jl:710\u001b[22m [inlined]\n",
      " [23] \u001b[1minvokelatest\u001b[22m at \u001b[1m./essentials.jl:709\u001b[22m [inlined]\n",
      " [24] \u001b[1meventloop\u001b[22m\u001b[1m(\u001b[22m::ZMQ.Socket\u001b[1m)\u001b[22m at \u001b[1m/home/ec2-user/.julia/packages/IJulia/rWZ9e/src/eventloop.jl:8\u001b[22m\n",
      " [25] \u001b[1m(::IJulia.var\"#15#18\")\u001b[22m\u001b[1m(\u001b[22m\u001b[1m)\u001b[22m at \u001b[1m./task.jl:356\u001b[22m\n"
     ]
    },
    {
     "ename": "LoadError",
     "evalue": "InterruptException:",
     "output_type": "error",
     "traceback": [
      "InterruptException:",
      "",
      "Stacktrace:",
      " [1] differentiate(::Function; o::Base.Iterators.Pairs{Union{},Union{},Tuple{},NamedTuple{(),Tuple{}}}) at /home/ec2-user/.julia/packages/AutoGrad/VFrAv/src/core.jl:148",
      " [2] differentiate at /home/ec2-user/.julia/packages/AutoGrad/VFrAv/src/core.jl:135 [inlined]",
      " [3] iterate(::Knet.Train20.Minimize{Base.Iterators.Take{Cycle{Data{Tuple{KnetArray{Float32,N} where N,Array{Any,N} where N}}}}}) at /home/ec2-user/.julia/packages/Knet/C0PoK/src/train20/train.jl:26",
      " [4] adam!(::Darknet, ::Vararg{Any,N} where N; o::Base.Iterators.Pairs{Symbol,Float64,Tuple{Symbol},NamedTuple{(:lr,),Tuple{Float64}}}) at /home/ec2-user/.julia/packages/Knet/C0PoK/src/train20/update.jl:411",
      " [5] #train!#10 at ./In[4]:13 [inlined]",
      " [6] top-level scope at In[9]:11",
      " [7] include_string(::Function, ::Module, ::String, ::String) at ./loading.jl:1091",
      " [8] execute_code(::String, ::String) at /home/ec2-user/.julia/packages/IJulia/rWZ9e/src/execute_request.jl:27",
      " [9] execute_request(::ZMQ.Socket, ::IJulia.Msg) at /home/ec2-user/.julia/packages/IJulia/rWZ9e/src/execute_request.jl:86",
      " [10] #invokelatest#1 at ./essentials.jl:710 [inlined]",
      " [11] invokelatest at ./essentials.jl:709 [inlined]",
      " [12] eventloop(::ZMQ.Socket) at /home/ec2-user/.julia/packages/IJulia/rWZ9e/src/eventloop.jl:8",
      " [13] (::IJulia.var\"#15#18\")() at ./task.jl:356"
     ]
    }
   ],
   "source": [
    "\n",
    "dtrn = minibatch(x[:, :, :, 1:6], y[1:6], 1; xsize = (416,416,3,:), xtype=Knet.atype(), shuffle=true);\n",
    "dtst = minibatch(x[:, :, :, 10:11], y[10:11], 1; xsize = (416,416,3,:), xtype=Knet.atype());\n",
    "include(\"../models.jl\")\n",
    "Random.seed!(1)\n",
    "\n",
    "darknet = Darknet(\"../yolov3.cfg\"; verbose=false);\n",
    "\n",
    "model = darknet\n",
    "\n",
    "iters, trnloss, trnacc, tstloss, tstacc = train!(\n",
    "    model, dtrn, dtst; \n",
    "    period=1, iters=520, lr=1e-2, optimizer=adam!);"
   ]
  },
  {
   "cell_type": "code",
   "execution_count": 22,
   "metadata": {},
   "outputs": [
    {
     "data": {
      "text/plain": [
       "1-element Array{Symbol,1}:\n",
       " :darknet"
      ]
     },
     "execution_count": 22,
     "metadata": {},
     "output_type": "execute_result"
    }
   ],
   "source": [
    "@load \"first.jld2\" darknet"
   ]
  },
  {
   "cell_type": "code",
   "execution_count": 23,
   "metadata": {},
   "outputs": [
    {
     "data": {
      "text/plain": [
       "T(5.974961309897038)"
      ]
     },
     "execution_count": 23,
     "metadata": {},
     "output_type": "execute_result"
    }
   ],
   "source": [
    "@diff a = darknet(x[:, :, :, 1:2], y[1:2])"
   ]
  },
  {
   "cell_type": "code",
   "execution_count": null,
   "metadata": {},
   "outputs": [],
   "source": [
    "plot(iters, trnloss, label=\"train\", xlabel=\"Iterations\", ylabel=\"Loss\")\n",
    "display(plot!(iters, tstloss, label=\"test\"))\n",
    "\n",
    "plot(iters, round.(1 .- trnacc, digits=2), label=\"train\", xlabel=\"Iterations\", ylabel=\"Misclassification error\")\n",
    "display(plot!(iters, round.(1 .- tstacc, digits=2), label=\"test\"))"
   ]
  },
  {
   "cell_type": "code",
   "execution_count": null,
   "metadata": {},
   "outputs": [],
   "source": [
    "\n",
    "include(\"../models.jl\")\n",
    "Random.seed!(1)\n",
    "\n",
    "darknet = Darknet(\"../yolov3.cfg\"; verbose=false);\n",
    "\n",
    "l = darknet(xx, yy)\n"
   ]
  },
  {
   "cell_type": "code",
   "execution_count": null,
   "metadata": {},
   "outputs": [],
   "source": [
    "sum(1.0 .- giou)"
   ]
  },
  {
   "cell_type": "code",
   "execution_count": null,
   "metadata": {},
   "outputs": [],
   "source": [
    "inter = clamp.(min.(b1_x2, b2_x2) - max.(b1_x1, b2_x1), 0, 1e10) .* \n",
    "clamp.(min.(b1_y2, b2_y2) - max.(b1_y1, b2_y1), 0, 1e10);\n"
   ]
  },
  {
   "cell_type": "code",
   "execution_count": null,
   "metadata": {},
   "outputs": [],
   "source": [
    "pbox[1, :] .- pbox[3, :] ./ 2"
   ]
  },
  {
   "cell_type": "code",
   "execution_count": null,
   "metadata": {},
   "outputs": [],
   "source": [
    "clamp.(exp.(scores), 0, 1e3)"
   ]
  },
  {
   "cell_type": "code",
   "execution_count": null,
   "metadata": {},
   "outputs": [],
   "source": [
    "\n",
    "b = Integer.(t[:, 1])\n",
    "c = Integer.(t[:, 2])\n",
    "gxy = t[:, 3:4]\n",
    "gwh = t[:, 5:6]"
   ]
  },
  {
   "cell_type": "code",
   "execution_count": null,
   "metadata": {},
   "outputs": [],
   "source": [
    "size(yolo_out[1])"
   ]
  },
  {
   "cell_type": "code",
   "execution_count": null,
   "metadata": {},
   "outputs": [],
   "source": []
  },
  {
   "cell_type": "code",
   "execution_count": null,
   "metadata": {},
   "outputs": [],
   "source": [
    "j"
   ]
  },
  {
   "cell_type": "code",
   "execution_count": null,
   "metadata": {},
   "outputs": [],
   "source": [
    "j'"
   ]
  },
  {
   "cell_type": "code",
   "execution_count": null,
   "metadata": {},
   "outputs": [],
   "source": [
    "tt[jj, :]"
   ]
  },
  {
   "cell_type": "code",
   "execution_count": null,
   "metadata": {},
   "outputs": [],
   "source": [
    "tt = repeat(t, 3)"
   ]
  },
  {
   "cell_type": "code",
   "execution_count": null,
   "metadata": {},
   "outputs": [],
   "source": [
    "tt[j]"
   ]
  },
  {
   "cell_type": "code",
   "execution_count": null,
   "metadata": {},
   "outputs": [],
   "source": [
    "at'[jj]"
   ]
  },
  {
   "cell_type": "code",
   "execution_count": null,
   "metadata": {},
   "outputs": [],
   "source": [
    "targets_reshaped .* gain"
   ]
  },
  {
   "cell_type": "code",
   "execution_count": null,
   "metadata": {},
   "outputs": [],
   "source": [
    "wh1r = reshape(wh1, (:, 1, 2))"
   ]
  },
  {
   "cell_type": "code",
   "execution_count": null,
   "metadata": {},
   "outputs": [],
   "source": [
    "wh12 = reshape(prod(wh1r, dims=3), (:, 1))"
   ]
  },
  {
   "cell_type": "code",
   "execution_count": null,
   "metadata": {},
   "outputs": [],
   "source": [
    "wh2"
   ]
  },
  {
   "cell_type": "code",
   "execution_count": null,
   "metadata": {},
   "outputs": [],
   "source": [
    "wh2r = reshape(wh2, (1, :, 2))"
   ]
  },
  {
   "cell_type": "code",
   "execution_count": null,
   "metadata": {},
   "outputs": [],
   "source": [
    "wh22 = reshape(prod(wh2r, dims=3), (1, :))"
   ]
  },
  {
   "cell_type": "code",
   "execution_count": null,
   "metadata": {},
   "outputs": [],
   "source": [
    "wh12 .+ wh22"
   ]
  },
  {
   "cell_type": "code",
   "execution_count": null,
   "metadata": {},
   "outputs": [],
   "source": [
    "reshape(prod(a, dims=3), (3, 13))"
   ]
  },
  {
   "cell_type": "code",
   "execution_count": null,
   "metadata": {},
   "outputs": [],
   "source": [
    "inter = build_targets(yolo_out, yy, darknet)\n"
   ]
  },
  {
   "cell_type": "code",
   "execution_count": null,
   "metadata": {},
   "outputs": [],
   "source": [
    "targets = nothing \n",
    "\n",
    "for (i, t) in enumerate(yy[2:end])\n",
    "    println(i)\n",
    "\n",
    "end\n",
    "gg = hcat(yy[2]...)\n",
    "# gg = vcat(ones(1, 2), gg)"
   ]
  },
  {
   "cell_type": "code",
   "execution_count": null,
   "metadata": {},
   "outputs": [],
   "source": []
  },
  {
   "cell_type": "code",
   "execution_count": null,
   "metadata": {},
   "outputs": [],
   "source": [
    "length(yy[2])\n"
   ]
  },
  {
   "cell_type": "code",
   "execution_count": null,
   "metadata": {},
   "outputs": [],
   "source": [
    "include(\"utils/utils.jl\")\n",
    "\n"
   ]
  }
 ],
 "metadata": {
  "@webio": {
   "lastCommId": null,
   "lastKernelId": null
  },
  "kernelspec": {
   "display_name": "Julia 1.5.2",
   "language": "julia",
   "name": "julia-1.5"
  },
  "language_info": {
   "file_extension": ".jl",
   "mimetype": "application/julia",
   "name": "julia",
   "version": "1.5.2"
  }
 },
 "nbformat": 4,
 "nbformat_minor": 4
}
