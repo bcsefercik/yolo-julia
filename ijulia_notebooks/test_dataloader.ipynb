{
 "cells": [
  {
   "cell_type": "code",
   "execution_count": 1,
   "metadata": {},
   "outputs": [
    {
     "name": "stderr",
     "output_type": "stream",
     "text": [
      "\u001b[32m\u001b[1m Activating\u001b[22m\u001b[39m environment at `~/Desktop/MSc/repos/yolo-julia/Project.toml`\n"
     ]
    }
   ],
   "source": [
    "using Pkg\n",
    "\n",
    "Pkg.activate(\"../Project.toml\")\n",
    "\n",
    "using Random\n",
    "using Debugger\n",
    "import .Iterators: cycle, Cycle, take\n",
    "\n",
    "using Knet\n",
    "using Knet: deconv4, conv4, unpool, pool, mat, sigm, KnetArray, nll, zeroone, progress, adam!, sgd!, param, param0, dropout, relu, minibatch, Data\n",
    "import Knet: train!\n",
    "using JLD2"
   ]
  },
  {
   "cell_type": "code",
   "execution_count": 2,
   "metadata": {},
   "outputs": [],
   "source": [
    "include(\"../coco2014.jl\")\n",
    "x, y = load_data(\n",
    "    \"/home/bcs/Desktop/MSc/repos/yolo-julia/dataset/images/overfit\",\n",
    "    \"../val_labels.json\",\n",
    "    class_file=\"../class_mappings.json\"\n",
    ");\n",
    "\n",
    "dtrn = minibatch(x[:, :, :, 1:6], y[1:6], 2; xsize = (416,416,3,:), xtype=Knet.atype(), shuffle=true);\n",
    "dtst = minibatch(x[:, :, :, 10:11], y[10:11], 2; xsize = (416,416,3,:), xtype=Knet.atype());\n",
    "\n"
   ]
  },
  {
   "cell_type": "code",
   "execution_count": 3,
   "metadata": {},
   "outputs": [
    {
     "data": {
      "text/plain": [
       "train! (generic function with 2 methods)"
      ]
     },
     "execution_count": 3,
     "metadata": {},
     "output_type": "execute_result"
    }
   ],
   "source": [
    "function train!(model, train_data::Data, test_data::Data;\n",
    "                  period::Int=4, iters::Int=100, lr=0.15, optimizer=sgd!)  # or optimizer=adam!\n",
    "    \n",
    "    train_loss = []\n",
    "    test_loss = []\n",
    "    train_acc = []\n",
    "    test_acc = []\n",
    "    \n",
    "    for i in 0:period:iters\n",
    "        push!(train_loss, model(train_data))\n",
    "        push!(test_loss, model(test_data))\n",
    "        \n",
    "        optimizer(model, take(cycle(train_data), period); lr=lr)\n",
    "        \n",
    "        \n",
    "        println(\"Iter: \", i, \" \", train_loss[end])\n",
    "    end\n",
    "    \n",
    "    return 0:period:iters, train_loss, train_acc, test_loss, test_acc\n",
    "end\n",
    "\n"
   ]
  },
  {
   "cell_type": "code",
   "execution_count": 4,
   "metadata": {},
   "outputs": [
    {
     "name": "stdout",
     "output_type": "stream",
     "text": [
      "Iter: 0 6.652527118025474\n",
      "Iter: 1 7.115229402291848\n",
      "Iter: 2 6.22386005395465\n"
     ]
    },
    {
     "ename": "LoadError",
     "evalue": "InterruptException:",
     "output_type": "error",
     "traceback": [
      "InterruptException:",
      "",
      "Stacktrace:",
      " [1] iterate(::Array{Any,1}, ::Int64) at ./array.jl:785",
      " [2] (::Main.NN.Chain)(::Array{Float32,4}) at /home/bcs/Desktop/MSc/repos/yolo-julia/nn.jl:43",
      " [3] (::Darknet)(::Array{Float32,4}; training::Bool) at /home/bcs/Desktop/MSc/repos/yolo-julia/models.jl:170",
      " [4] Darknet at /home/bcs/Desktop/MSc/repos/yolo-julia/models.jl:156 [inlined]",
      " [5] (::Darknet)(::Array{Float32,4}, ::Array{Any,1}; training::Bool) at /home/bcs/Desktop/MSc/repos/yolo-julia/models.jl:191",
      " [6] Darknet at /home/bcs/Desktop/MSc/repos/yolo-julia/models.jl:191 [inlined]",
      " [7] (::var\"#36#37\"{Darknet})(::Tuple{Array{Float32,4},Array{Any,1}}) at ./none:0",
      " [8] iterate at ./generator.jl:47 [inlined]",
      " [9] mean(::typeof(identity), ::Base.Generator{Data{Tuple{Array{Float32,N} where N,Array{Any,N} where N}},var\"#36#37\"{Darknet}}) at /buildworker/worker/package_linux64/build/usr/share/julia/stdlib/v1.5/Statistics/src/Statistics.jl:76",
      " [10] mean(::Base.Generator{Data{Tuple{Array{Float32,N} where N,Array{Any,N} where N}},var\"#36#37\"{Darknet}}) at /buildworker/worker/package_linux64/build/usr/share/julia/stdlib/v1.5/Statistics/src/Statistics.jl:44",
      " [11] Darknet at /home/bcs/Desktop/MSc/repos/yolo-julia/models.jl:240 [inlined]",
      " [12] #train!#10 at ./In[3]:10 [inlined]",
      " [13] top-level scope at In[4]:9",
      " [14] include_string(::Function, ::Module, ::String, ::String) at ./loading.jl:1091"
     ]
    }
   ],
   "source": [
    "\n",
    "include(\"../models.jl\")\n",
    "Random.seed!(1)\n",
    "\n",
    "darknet = Darknet(\"../yolov3.cfg\"; verbose=false);\n",
    "\n",
    "model = darknet\n",
    "\n",
    "iters, trnloss, trnacc, tstloss, tstacc = train!(\n",
    "    model, dtrn, dtst; \n",
    "    period=1, iters=52, lr=1e-5, optimizer=sgd!);"
   ]
  },
  {
   "cell_type": "code",
   "execution_count": 21,
   "metadata": {},
   "outputs": [
    {
     "name": "stderr",
     "output_type": "stream",
     "text": [
      "WARNING: replacing module NN.\n"
     ]
    },
    {
     "data": {
      "text/plain": [
       "T(5.514603420576425)"
      ]
     },
     "execution_count": 21,
     "metadata": {},
     "output_type": "execute_result"
    }
   ],
   "source": [
    "include(\"../models.jl\")\n",
    "\n",
    "Random.seed!(1)\n",
    "darknet = Darknet(\"../yolov3.cfg\"; verbose=false);\n",
    "\n",
    "@diff a = darknet(x[:, :, :, 1:2], y[1:2])\n"
   ]
  },
  {
   "cell_type": "code",
   "execution_count": 22,
   "metadata": {},
   "outputs": [
    {
     "data": {
      "text/plain": [
       "1-element Array{Symbol,1}:\n",
       " :darknet"
      ]
     },
     "execution_count": 22,
     "metadata": {},
     "output_type": "execute_result"
    }
   ],
   "source": [
    "@load \"first.jld2\" darknet"
   ]
  },
  {
   "cell_type": "code",
   "execution_count": 23,
   "metadata": {},
   "outputs": [
    {
     "data": {
      "text/plain": [
       "T(5.974961309897038)"
      ]
     },
     "execution_count": 23,
     "metadata": {},
     "output_type": "execute_result"
    }
   ],
   "source": [
    "@diff a = darknet(x[:, :, :, 1:2], y[1:2])"
   ]
  },
  {
   "cell_type": "code",
   "execution_count": null,
   "metadata": {},
   "outputs": [],
   "source": [
    "plot(iters, trnloss, label=\"train\", xlabel=\"Iterations\", ylabel=\"Loss\")\n",
    "display(plot!(iters, tstloss, label=\"test\"))\n",
    "\n",
    "plot(iters, round.(1 .- trnacc, digits=2), label=\"train\", xlabel=\"Iterations\", ylabel=\"Misclassification error\")\n",
    "display(plot!(iters, round.(1 .- tstacc, digits=2), label=\"test\"))"
   ]
  },
  {
   "cell_type": "code",
   "execution_count": null,
   "metadata": {},
   "outputs": [],
   "source": [
    "\n",
    "include(\"../models.jl\")\n",
    "Random.seed!(1)\n",
    "\n",
    "darknet = Darknet(\"../yolov3.cfg\"; verbose=false);\n",
    "\n",
    "l = darknet(xx, yy)\n"
   ]
  },
  {
   "cell_type": "code",
   "execution_count": null,
   "metadata": {},
   "outputs": [],
   "source": [
    "sum(1.0 .- giou)"
   ]
  },
  {
   "cell_type": "code",
   "execution_count": null,
   "metadata": {},
   "outputs": [],
   "source": [
    "inter = clamp.(min.(b1_x2, b2_x2) - max.(b1_x1, b2_x1), 0, 1e10) .* \n",
    "clamp.(min.(b1_y2, b2_y2) - max.(b1_y1, b2_y1), 0, 1e10);\n"
   ]
  },
  {
   "cell_type": "code",
   "execution_count": null,
   "metadata": {},
   "outputs": [],
   "source": [
    "pbox[1, :] .- pbox[3, :] ./ 2"
   ]
  },
  {
   "cell_type": "code",
   "execution_count": null,
   "metadata": {},
   "outputs": [],
   "source": [
    "clamp.(exp.(scores), 0, 1e3)"
   ]
  },
  {
   "cell_type": "code",
   "execution_count": null,
   "metadata": {},
   "outputs": [],
   "source": [
    "\n",
    "b = Integer.(t[:, 1])\n",
    "c = Integer.(t[:, 2])\n",
    "gxy = t[:, 3:4]\n",
    "gwh = t[:, 5:6]"
   ]
  },
  {
   "cell_type": "code",
   "execution_count": null,
   "metadata": {},
   "outputs": [],
   "source": [
    "size(yolo_out[1])"
   ]
  },
  {
   "cell_type": "code",
   "execution_count": null,
   "metadata": {},
   "outputs": [],
   "source": []
  },
  {
   "cell_type": "code",
   "execution_count": null,
   "metadata": {},
   "outputs": [],
   "source": [
    "j"
   ]
  },
  {
   "cell_type": "code",
   "execution_count": null,
   "metadata": {},
   "outputs": [],
   "source": [
    "j'"
   ]
  },
  {
   "cell_type": "code",
   "execution_count": null,
   "metadata": {},
   "outputs": [],
   "source": [
    "tt[jj, :]"
   ]
  },
  {
   "cell_type": "code",
   "execution_count": null,
   "metadata": {},
   "outputs": [],
   "source": [
    "tt = repeat(t, 3)"
   ]
  },
  {
   "cell_type": "code",
   "execution_count": null,
   "metadata": {},
   "outputs": [],
   "source": [
    "tt[j]"
   ]
  },
  {
   "cell_type": "code",
   "execution_count": null,
   "metadata": {},
   "outputs": [],
   "source": [
    "at'[jj]"
   ]
  },
  {
   "cell_type": "code",
   "execution_count": null,
   "metadata": {},
   "outputs": [],
   "source": [
    "targets_reshaped .* gain"
   ]
  },
  {
   "cell_type": "code",
   "execution_count": null,
   "metadata": {},
   "outputs": [],
   "source": [
    "wh1r = reshape(wh1, (:, 1, 2))"
   ]
  },
  {
   "cell_type": "code",
   "execution_count": null,
   "metadata": {},
   "outputs": [],
   "source": [
    "wh12 = reshape(prod(wh1r, dims=3), (:, 1))"
   ]
  },
  {
   "cell_type": "code",
   "execution_count": null,
   "metadata": {},
   "outputs": [],
   "source": [
    "wh2"
   ]
  },
  {
   "cell_type": "code",
   "execution_count": null,
   "metadata": {},
   "outputs": [],
   "source": [
    "wh2r = reshape(wh2, (1, :, 2))"
   ]
  },
  {
   "cell_type": "code",
   "execution_count": null,
   "metadata": {},
   "outputs": [],
   "source": [
    "wh22 = reshape(prod(wh2r, dims=3), (1, :))"
   ]
  },
  {
   "cell_type": "code",
   "execution_count": null,
   "metadata": {},
   "outputs": [],
   "source": [
    "wh12 .+ wh22"
   ]
  },
  {
   "cell_type": "code",
   "execution_count": null,
   "metadata": {},
   "outputs": [],
   "source": [
    "reshape(prod(a, dims=3), (3, 13))"
   ]
  },
  {
   "cell_type": "code",
   "execution_count": null,
   "metadata": {},
   "outputs": [],
   "source": [
    "inter = build_targets(yolo_out, yy, darknet)\n"
   ]
  },
  {
   "cell_type": "code",
   "execution_count": null,
   "metadata": {},
   "outputs": [],
   "source": [
    "targets = nothing \n",
    "\n",
    "for (i, t) in enumerate(yy[2:end])\n",
    "    println(i)\n",
    "\n",
    "end\n",
    "gg = hcat(yy[2]...)\n",
    "# gg = vcat(ones(1, 2), gg)"
   ]
  },
  {
   "cell_type": "code",
   "execution_count": null,
   "metadata": {},
   "outputs": [],
   "source": []
  },
  {
   "cell_type": "code",
   "execution_count": null,
   "metadata": {},
   "outputs": [],
   "source": [
    "length(yy[2])\n"
   ]
  },
  {
   "cell_type": "code",
   "execution_count": null,
   "metadata": {},
   "outputs": [],
   "source": [
    "include(\"utils/utils.jl\")\n",
    "\n"
   ]
  }
 ],
 "metadata": {
  "kernelspec": {
   "display_name": "Julia 1.5.2",
   "language": "julia",
   "name": "julia-1.5"
  },
  "language_info": {
   "file_extension": ".jl",
   "mimetype": "application/julia",
   "name": "julia",
   "version": "1.5.2"
  }
 },
 "nbformat": 4,
 "nbformat_minor": 4
}
