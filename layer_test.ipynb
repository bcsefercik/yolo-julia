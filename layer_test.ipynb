{
 "cells": [
  {
   "cell_type": "code",
   "execution_count": 37,
   "metadata": {},
   "outputs": [],
   "source": [
    "import Pkg\n",
    "using CUDA\n",
    "using Statistics\n",
    "using Random\n",
    "using Test\n",
    "import Base: length, size, iterate, eltype, IteratorSize, IteratorEltype, haslength, @propagate_inbounds, repeat, rand, tail\n",
    "import .Iterators: cycle, Cycle, take\n",
    "using Plots; default(fmt=:png,ls=:auto)\n",
    "\n",
    "import Knet\n",
    "using Knet: conv4, pool, mat, sigm, KnetArray, nll, zeroone, progress, adam!, sgd!, param, param0, dropout, relu, minibatch, Data\n",
    "import Knet: train!\n",
    "\n",
    "using MLDatasets: MNIST"
   ]
  },
  {
   "cell_type": "code",
   "execution_count": 20,
   "metadata": {},
   "outputs": [],
   "source": [
    "# Load data\n",
    "xtrn, ytrn = MNIST.traindata(Float32); ytrn[ytrn.==0] .= 10;\n",
    "xtst, ytst = MNIST.testdata(Float32);  ytst[ytst.==0] .= 10;"
   ]
  },
  {
   "cell_type": "code",
   "execution_count": 24,
   "metadata": {},
   "outputs": [
    {
     "data": {
      "text/plain": [
       "Array{Float32,N} where N"
      ]
     },
     "execution_count": 24,
     "metadata": {},
     "output_type": "execute_result"
    }
   ],
   "source": [
    "Knet.atype()"
   ]
  },
  {
   "cell_type": "code",
   "execution_count": 129,
   "metadata": {},
   "outputs": [
    {
     "name": "stderr",
     "output_type": "stream",
     "text": [
      "WARNING: replacing module NN.\n"
     ]
    }
   ],
   "source": [
    "include(\"utils/nn.jl\")\n",
    "\n",
    "import .NN"
   ]
  },
  {
   "cell_type": "code",
   "execution_count": 130,
   "metadata": {},
   "outputs": [
    {
     "data": {
      "text/plain": [
       "train! (generic function with 20 methods)"
      ]
     },
     "execution_count": 130,
     "metadata": {},
     "output_type": "execute_result"
    }
   ],
   "source": [
    "function train!(model::NN.Chain, train_data::Data, test_data::Data;\n",
    "                  period::Int=4, iters::Int=100, lr=0.15, optimizer=sgd!)  # or optimizer=adam!\n",
    "    \n",
    "    train_loss = []\n",
    "    test_loss = []\n",
    "    train_acc = []\n",
    "    test_acc = []\n",
    "    \n",
    "    for i in 0:period:iters\n",
    "    \n",
    "        push!(train_loss, model(train_data))\n",
    "        push!(test_loss, model(test_data))\n",
    "    \n",
    "        push!(train_acc, model(train_data; accuracy=true))\n",
    "        push!(test_acc, model(test_data; accuracy=true))\n",
    "        \n",
    "        optimizer(model, take(cycle(train_data), period); lr=lr)\n",
    "        \n",
    "    end\n",
    "    \n",
    "    return 0:period:iters, train_loss, train_acc, test_loss, test_acc\n",
    "end"
   ]
  },
  {
   "cell_type": "code",
   "execution_count": 132,
   "metadata": {},
   "outputs": [
    {
     "name": "stdout",
     "output_type": "stream",
     "text": [
      "Iter: 0\n"
     ]
    },
    {
     "ename": "LoadError",
     "evalue": "MethodError: no method matching reluback(::Float64, ::Float32)\nClosest candidates are:\n  reluback(!Matched::AutoGrad.Value{var\"##782\"}, ::var\"##783\") where {var\"##782\", var\"##783\"} at none:0\n  reluback(::var\"##782\", !Matched::AutoGrad.Value{var\"##783\"}) where {var\"##782\", var\"##783\"} at none:0\n  reluback(::T, !Matched::T) where T at /home/bcs/.julia/packages/Knet/LdQyF/src/ops20/activation.jl:27",
     "output_type": "error",
     "traceback": [
      "MethodError: no method matching reluback(::Float64, ::Float32)\nClosest candidates are:\n  reluback(!Matched::AutoGrad.Value{var\"##782\"}, ::var\"##783\") where {var\"##782\", var\"##783\"} at none:0\n  reluback(::var\"##782\", !Matched::AutoGrad.Value{var\"##783\"}) where {var\"##782\", var\"##783\"} at none:0\n  reluback(::T, !Matched::T) where T at /home/bcs/.julia/packages/Knet/LdQyF/src/ops20/activation.jl:27",
      "",
      "Stacktrace:",
      " [1] _broadcast_getindex_evalf at ./broadcast.jl:648 [inlined]",
      " [2] _broadcast_getindex at ./broadcast.jl:621 [inlined]",
      " [3] getindex at ./broadcast.jl:575 [inlined]",
      " [4] copy at ./broadcast.jl:876 [inlined]",
      " [5] materialize(::Base.Broadcast.Broadcasted{Base.Broadcast.DefaultArrayStyle{2},Nothing,typeof(Knet.Ops20.reluback),Tuple{Array{Float64,2},Array{Float32,2}}}) at ./broadcast.jl:837",
      " [6] back(::typeof(Base.Broadcast.broadcasted), ::Type{AutoGrad.Arg{2}}, ::Array{Float64,2}, ::AutoGrad.Result{Array{Float32,2}}, ::typeof(relu), ::AutoGrad.Result{Array{Float32,2}}) at ./none:0",
      " [7] differentiate(::Function; o::Base.Iterators.Pairs{Union{},Union{},Tuple{},NamedTuple{(),Tuple{}}}) at /home/bcs/.julia/packages/AutoGrad/VFrAv/src/core.jl:165",
      " [8] differentiate at /home/bcs/.julia/packages/AutoGrad/VFrAv/src/core.jl:135 [inlined]",
      " [9] iterate(::Knet.Train20.Minimize{Base.Iterators.Take{Cycle{Data{Tuple{Array{Float32,N} where N,Array{Int64,N} where N}}}}}) at /home/bcs/.julia/packages/Knet/LdQyF/src/train20/train.jl:26",
      " [10] sgd!(::Main.NN.Chain, ::Vararg{Any,N} where N; o::Base.Iterators.Pairs{Symbol,Float64,Tuple{Symbol},NamedTuple{(:lr,),Tuple{Float64}}}) at /home/bcs/.julia/packages/Knet/LdQyF/src/train20/update.jl:134",
      " [11] #train!#32 at ./In[130]:19 [inlined]",
      " [12] top-level scope at In[132]:22",
      " [13] include_string(::Function, ::Module, ::String, ::String) at ./loading.jl:1091"
     ]
    }
   ],
   "source": [
    "Random.seed!(13)\n",
    "function leaky_relu(x; alpha=0.1)\n",
    "    return max(x, alpha * x)\n",
    "end\n",
    "\n",
    "function leaky_relu2(x, alpha=0.1)\n",
    "    pos = relu(x)\n",
    "    neg = relu(-x)\n",
    "    return pos - alpha * neg\n",
    "end\n",
    "\n",
    "model = NN.Chain(\n",
    "    NN.Dense(784,30, leaky_relu2),\n",
    "    NN.LeakyReLU(),\n",
    "    NN.Dense(30,10,identity),\n",
    ")\n",
    "\n",
    "# Minibatches\n",
    "dtrn = minibatch(xtrn, ytrn, 100; xsize = (28,28,1,:), xtype=Knet.atype(), shuffle=true);\n",
    "dtst = minibatch(xtst, ytst, 100; xsize = (28,28,1,:), xtype=Knet.atype());\n",
    "\n",
    "iters, trnloss, trnacc, tstloss, tstacc = train!(\n",
    "    model, dtrn, dtst; \n",
    "    period=1, iters=50, lr=0.15, optimizer=sgd!);\n",
    "\n",
    "println(\"Train loss: $(round(trnloss[end], digits=2)), Best train accuracy: $(ceil(maximum(trnacc), digits=2))\")\n",
    "println(\"Test loss: $(round(tstloss[end], digits=2)), Best test accuracy: $(ceil(maximum(tstacc), digits=2))\")\n",
    "\n",
    "plot(iters, trnloss, label=\"train\", xlabel=\"Iterations\", ylabel=\"Loss\")\n",
    "display(plot!(iters, tstloss, label=\"test\"))\n",
    "\n",
    "plot(iters, round.(1 .- trnacc, digits=2), label=\"train\", xlabel=\"Iterations\", ylabel=\"Misclassification error\")\n",
    "display(plot!(iters, round.(1 .- tstacc, digits=2), label=\"test\"))"
   ]
  },
  {
   "cell_type": "code",
   "execution_count": 126,
   "metadata": {},
   "outputs": [
    {
     "data": {
      "image/png": "[encoded data removed]"
     },
     "metadata": {},
     "output_type": "display_data"
    },
    {
     "data": {
      "image/png": "[encoded data removed]"
     },
     "metadata": {},
     "output_type": "display_data"
    }
   ],
   "source": [
    "function leaky_relu(x; alpha=0.1)\n",
    "    return max(x, alpha * x)\n",
    "end\n",
    "\n",
    "function leaky_relu2(x, alpha=0.1)\n",
    "    pos = relu(x)\n",
    "    neg = relu(-x)\n",
    "    return pos + alpha * neg\n",
    "end\n",
    "\n",
    "xx = -10:0.01:10\n",
    "yy = leaky_relu.(xx)\n",
    "display(plot(xx, yy))\n",
    "\n",
    "yy2 = leaky_relu2.(xx)\n",
    "display(plot(xx, yy2))"
   ]
  },
  {
   "cell_type": "code",
   "execution_count": null,
   "metadata": {},
   "outputs": [],
   "source": []
  },
  {
   "cell_type": "code",
   "execution_count": null,
   "metadata": {},
   "outputs": [],
   "source": []
  }
 ],
 "metadata": {
  "kernelspec": {
   "display_name": "Julia 1.5.2",
   "language": "julia",
   "name": "julia-1.5"
  },
  "language_info": {
   "file_extension": ".jl",
   "mimetype": "application/julia",
   "name": "julia",
   "version": "1.5.2"
  }
 },
 "nbformat": 4,
 "nbformat_minor": 4
}
