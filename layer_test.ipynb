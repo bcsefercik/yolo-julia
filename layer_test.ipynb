{
 "cells": [
  {
   "cell_type": "code",
   "execution_count": 2,
   "metadata": {},
   "outputs": [
    {
     "name": "stderr",
     "output_type": "stream",
     "text": [
      "\u001b[32m\u001b[1m Activating\u001b[22m\u001b[39m environment at `~/Desktop/MSc/repos/yolo-julia/Project.toml`\n"
     ]
    }
   ],
   "source": [
    "import Pkg\n",
    "\n",
    "Pkg.activate(\"Project.toml\")\n",
    "\n",
    "using CUDA\n",
    "using Statistics\n",
    "using Random\n",
    "using Test\n",
    "import Base: length, size, iterate, eltype, IteratorSize, IteratorEltype, haslength, @propagate_inbounds, repeat, rand, tail\n",
    "import .Iterators: cycle, Cycle, take\n",
    "using Plots; default(fmt=:png,ls=:auto)\n",
    "\n",
    "import Knet\n",
    "using Knet: deconv4, conv4, unpool, pool, mat, sigm, KnetArray, nll, zeroone, progress, adam!, sgd!, param, param0, dropout, relu, minibatch, Data\n",
    "import Knet: train!\n",
    "\n",
    "using MLDatasets: MNIST"
   ]
  },
  {
   "cell_type": "code",
   "execution_count": 132,
   "metadata": {},
   "outputs": [],
   "source": [
    "# Load data\n",
    "xtrn, ytrn = MNIST.traindata(Float32); ytrn[ytrn.==0] .= 10;\n",
    "xtst, ytst = MNIST.testdata(Float32);  ytst[ytst.==0] .= 10;"
   ]
  },
  {
   "cell_type": "code",
   "execution_count": 3,
   "metadata": {},
   "outputs": [
    {
     "name": "stdout",
     "output_type": "stream",
     "text": [
      "(5, 5, 1, 1)\n",
      "Main.NN.Chain\n"
     ]
    },
    {
     "data": {
      "text/plain": [
       "1-element Array{Any,1}:\n",
       " Main.NN.Conv2d(P(Array{Float32,4}(5,5,1,1)), nothing, 1, 0)"
      ]
     },
     "execution_count": 3,
     "metadata": {},
     "output_type": "execute_result"
    }
   ],
   "source": [
    "include(\"nn.jl\")\n",
    "\n",
    "import .NN\n",
    "\n",
    "dtrn = minibatch(xtrn, ytrn, 2; xsize = (28,28,1,:), xtype=Knet.atype(), shuffle=true);\n",
    "dtst = minibatch(xtst, ytst, 2; xsize = (28,28,1,:), xtype=Knet.atype());\n",
    "x, y = first(dtst)\n",
    "\n",
    "\n",
    "dl2 = NN.Conv2d(5, 1, 1)\n",
    "println(size(dl2.w))\n",
    "cc = NN.Chain()\n",
    "println(typeof(cc))\n",
    "push!(cc.layers, dl2)\n",
    "cc.layers"
   ]
  },
  {
   "cell_type": "code",
   "execution_count": 129,
   "metadata": {},
   "outputs": [
    {
     "name": "stdout",
     "output_type": "stream",
     "text": [
      "yolo\n",
      "yolo\n"
     ]
    },
    {
     "name": "stderr",
     "output_type": "stream",
     "text": [
      "WARNING: replacing module NN.\n"
     ]
    },
    {
     "name": "stdout",
     "output_type": "stream",
     "text": [
      "yolo\n",
      "0 (416, 416, 3, 2)\n",
      "1 /107 Main.NN.Chain (416, 416, 32, 2)\n",
      "2 /107 Main.NN.Chain (208, 208, 64, 2)\n",
      "3 /107 Main.NN.Chain (208, 208, 32, 2)\n",
      "4 /107 Main.NN.Chain (208, 208, 64, 2)\n",
      "[-2] [2]\n",
      "5 /107 Main.NN.WeightedFeatureFusion (208, 208, 64, 2)\n",
      "6 /107 Main.NN.Chain (104, 104, 128, 2)\n",
      "7 /107 Main.NN.Chain (104, 104, 64, 2)\n",
      "8 /107 Main.NN.Chain (104, 104, 128, 2)\n",
      "[-2] [6]\n",
      "9 /107 Main.NN.WeightedFeatureFusion (104, 104, 128, 2)\n",
      "10 /107 Main.NN.Chain (104, 104, 64, 2)\n",
      "11 /107 Main.NN.Chain (104, 104, 128, 2)\n",
      "[-2] [9]\n",
      "12 /107 Main.NN.WeightedFeatureFusion (104, 104, 128, 2)\n",
      "13 /107 Main.NN.Chain (52, 52, 256, 2)\n",
      "14 /107 Main.NN.Chain (52, 52, 128, 2)\n",
      "15 /107 Main.NN.Chain (52, 52, 256, 2)\n",
      "[-2] [13]\n",
      "16 /107 Main.NN.WeightedFeatureFusion (52, 52, 256, 2)\n",
      "17 /107 Main.NN.Chain (52, 52, 128, 2)\n",
      "18 /107 Main.NN.Chain (52, 52, 256, 2)\n",
      "[-2] [16]\n",
      "19 /107 Main.NN.WeightedFeatureFusion (52, 52, 256, 2)\n",
      "20 /107 Main.NN.Chain (52, 52, 128, 2)\n",
      "21 /107 Main.NN.Chain (52, 52, 256, 2)\n",
      "[-2] [19]\n",
      "22 /107 Main.NN.WeightedFeatureFusion (52, 52, 256, 2)\n",
      "23 /107 Main.NN.Chain (52, 52, 128, 2)\n",
      "24 /107 Main.NN.Chain (52, 52, 256, 2)\n",
      "[-2] [22]\n",
      "25 /107 Main.NN.WeightedFeatureFusion (52, 52, 256, 2)\n",
      "26 /107 Main.NN.Chain (52, 52, 128, 2)\n",
      "27 /107 Main.NN.Chain (52, 52, 256, 2)\n",
      "[-2] [25]\n",
      "28 /107 Main.NN.WeightedFeatureFusion (52, 52, 256, 2)\n",
      "29 /107 Main.NN.Chain (52, 52, 128, 2)\n",
      "30 /107 Main.NN.Chain (52, 52, 256, 2)\n",
      "[-2] [28]\n",
      "31 /107 Main.NN.WeightedFeatureFusion (52, 52, 256, 2)\n",
      "32 /107 Main.NN.Chain (52, 52, 128, 2)\n",
      "33 /107 Main.NN.Chain (52, 52, 256, 2)\n",
      "[-2] [31]\n",
      "34 /107 Main.NN.WeightedFeatureFusion (52, 52, 256, 2)\n",
      "35 /107 Main.NN.Chain (52, 52, 128, 2)\n",
      "36 /107 Main.NN.Chain (52, 52, 256, 2)\n",
      "[-2] [34]\n",
      "37 /107 Main.NN.WeightedFeatureFusion (52, 52, 256, 2)\n",
      "38 /107 Main.NN.Chain (26, 26, 512, 2)\n",
      "39 /107 Main.NN.Chain (26, 26, 256, 2)\n",
      "40 /107 Main.NN.Chain (26, 26, 512, 2)\n",
      "[-2] [38]\n",
      "41 /107 Main.NN.WeightedFeatureFusion (26, 26, 512, 2)\n",
      "42 /107 Main.NN.Chain (26, 26, 256, 2)\n",
      "43 /107 Main.NN.Chain (26, 26, 512, 2)\n",
      "[-2] [41]\n",
      "44 /107 Main.NN.WeightedFeatureFusion (26, 26, 512, 2)\n",
      "45 /107 Main.NN.Chain (26, 26, 256, 2)\n",
      "46 /107 Main.NN.Chain (26, 26, 512, 2)\n",
      "[-2] [44]\n",
      "47 /107 Main.NN.WeightedFeatureFusion (26, 26, 512, 2)\n",
      "48 /107 Main.NN.Chain (26, 26, 256, 2)\n",
      "49 /107 Main.NN.Chain (26, 26, 512, 2)\n",
      "[-2] [47]\n",
      "50 /107 Main.NN.WeightedFeatureFusion (26, 26, 512, 2)\n",
      "51 /107 Main.NN.Chain (26, 26, 256, 2)\n",
      "52 /107 Main.NN.Chain (26, 26, 512, 2)\n",
      "[-2] [50]\n",
      "53 /107 Main.NN.WeightedFeatureFusion (26, 26, 512, 2)\n",
      "54 /107 Main.NN.Chain (26, 26, 256, 2)\n",
      "55 /107 Main.NN.Chain (26, 26, 512, 2)\n",
      "[-2] [53]\n",
      "56 /107 Main.NN.WeightedFeatureFusion (26, 26, 512, 2)\n",
      "57 /107 Main.NN.Chain (26, 26, 256, 2)\n",
      "58 /107 Main.NN.Chain (26, 26, 512, 2)\n",
      "[-2] [56]\n",
      "59 /107 Main.NN.WeightedFeatureFusion (26, 26, 512, 2)\n",
      "60 /107 Main.NN.Chain (26, 26, 256, 2)\n",
      "61 /107 Main.NN.Chain (26, 26, 512, 2)\n",
      "[-2] [59]\n",
      "62 /107 Main.NN.WeightedFeatureFusion (26, 26, 512, 2)\n",
      "63 /107 Main.NN.Chain (13, 13, 1024, 2)\n",
      "64 /107 Main.NN.Chain (13, 13, 512, 2)\n",
      "65 /107 Main.NN.Chain (13, 13, 1024, 2)\n",
      "[-2] [63]\n",
      "66 /107 Main.NN.WeightedFeatureFusion (13, 13, 1024, 2)\n",
      "67 /107 Main.NN.Chain (13, 13, 512, 2)\n",
      "68 /107 Main.NN.Chain (13, 13, 1024, 2)\n",
      "[-2] [66]\n",
      "69 /107 Main.NN.WeightedFeatureFusion (13, 13, 1024, 2)\n",
      "70 /107 Main.NN.Chain (13, 13, 512, 2)\n",
      "71 /107 Main.NN.Chain (13, 13, 1024, 2)\n",
      "[-2] [69]\n",
      "72 /107 Main.NN.WeightedFeatureFusion (13, 13, 1024, 2)\n",
      "73 /107 Main.NN.Chain (13, 13, 512, 2)\n",
      "74 /107 Main.NN.Chain (13, 13, 1024, 2)\n",
      "[-2] [72]\n",
      "75 /107 Main.NN.WeightedFeatureFusion (13, 13, 1024, 2)\n",
      "76 /107 Main.NN.Chain (13, 13, 512, 2)\n",
      "77 /107 Main.NN.Chain (13, 13, 1024, 2)\n",
      "78 /107 Main.NN.Chain (13, 13, 512, 2)\n",
      "79 /107 Main.NN.Chain (13, 13, 1024, 2)\n",
      "80 /107 Main.NN.Chain (13, 13, 512, 2)\n",
      "81 /107 Main.NN.Chain (13, 13, 1024, 2)\n",
      "82 /107 Main.NN.Chain (13, 13, 255, 2)\n",
      "83 /107 Main.NN.Chain (13, 13, 255, 2)\n",
      "84 /107 Main.NN.FeatureConcat (13, 13, 512, 2)\n",
      "85 /107 Main.NN.Chain (13, 13, 256, 2)\n",
      "86 /107 Main.NN.Upsample2d (26, 26, 256, 2)\n",
      "87 /107 Main.NN.FeatureConcat (26, 26, 768, 2)\n",
      "88 /107 Main.NN.Chain (26, 26, 256, 2)\n",
      "89 /107 Main.NN.Chain (26, 26, 512, 2)\n",
      "90 /107 Main.NN.Chain (26, 26, 256, 2)\n",
      "91 /107 Main.NN.Chain (26, 26, 512, 2)\n",
      "92 /107 Main.NN.Chain (26, 26, 256, 2)\n",
      "93 /107 Main.NN.Chain (26, 26, 512, 2)\n",
      "94 /107 Main.NN.Chain (26, 26, 255, 2)\n",
      "95 /107 Main.NN.Chain (26, 26, 255, 2)\n",
      "96 /107 Main.NN.FeatureConcat (26, 26, 256, 2)\n",
      "97 /107 Main.NN.Chain (26, 26, 128, 2)\n",
      "98 /107 Main.NN.Upsample2d (52, 52, 128, 2)\n",
      "99 /107 Main.NN.FeatureConcat (52, 52, 384, 2)\n",
      "100 /107 Main.NN.Chain (52, 52, 128, 2)\n",
      "101 /107 Main.NN.Chain (52, 52, 256, 2)\n",
      "102 /107 Main.NN.Chain (52, 52, 128, 2)\n",
      "103 /107 Main.NN.Chain (52, 52, 256, 2)\n",
      "104 /107 Main.NN.Chain (52, 52, 128, 2)\n",
      "105 /107 Main.NN.Chain (52, 52, 256, 2)\n",
      "106 /107 Main.NN.Chain (52, 52, 255, 2)\n",
      "107 /107 Main.NN.Chain (52, 52, 255, 2)\n"
     ]
    }
   ],
   "source": [
    "include(\"utils/parse_config.jl\")\n",
    "include(\"models.jl\")\n",
    "\n",
    "# mdefs = parse_model_cfg(\"yolov3.cfg\")\n",
    "# module_list, routes = create_modules(mdefs, 416);\n",
    "x = convert(Knet.atype(), randn(416,416,3,2))\n",
    "y = [1,2]\n",
    "\n",
    "size(x)[1:2]\n",
    "darknet = Darknet(\"yolov3.cfg\")\n",
    "darknet(x; verbose=true)"
   ]
  },
  {
   "cell_type": "code",
   "execution_count": 46,
   "metadata": {},
   "outputs": [
    {
     "data": {
      "text/plain": [
       "true"
      ]
     },
     "execution_count": 46,
     "metadata": {},
     "output_type": "execute_result"
    }
   ],
   "source": [
    "nn = enumerate(darknet.module_list)\n",
    "\n",
    "x, y = first(nn)\n",
    "\n",
    "isa(darknet.module_list[87], NN.FeatureConcat)"
   ]
  },
  {
   "cell_type": "code",
   "execution_count": 127,
   "metadata": {},
   "outputs": [
    {
     "data": {
      "text/plain": [
       "2-element Array{Array{Float64,4},1}:\n",
       " [1.0 1.0 … 1.0 1.0; 1.0 1.0 … 1.0 1.0; … ; 1.0 1.0 … 1.0 1.0; 1.0 1.0 … 1.0 1.0]\n",
       "\n",
       "[1.0 1.0 … 1.0 1.0; 1.0 1.0 … 1.0 1.0; … ; 1.0 1.0 … 1.0 1.0; 1.0 1.0 … 1.0 1.0]\n",
       "\n",
       "[1.0 1.0 … 1.0 1.0; 1.0 1.0 … 1.0 1.0; … ; 1.0 1.0 … 1.0 1.0; 1.0 1.0 … 1.0 1.0]\n",
       "\n",
       "...\n",
       "\n",
       "[1.0 1.0 … 1.0 1.0; 1.0 1.0 … 1.0 1.0; … ; 1.0 1.0 … 1.0 1.0; 1.0 1.0 … 1.0 1.0]\n",
       "\n",
       "[1.0 1.0 … 1.0 1.0; 1.0 1.0 … 1.0 1.0; … ; 1.0 1.0 … 1.0 1.0; 1.0 1.0 … 1.0 1.0]\n",
       "\n",
       "[1.0 1.0 … 1.0 1.0; 1.0 1.0 … 1.0 1.0; … ; 1.0 1.0 … 1.0 1.0; 1.0 1.0 … 1.0 1.0]\n",
       "\n",
       "[1.0 1.0 … 1.0 1.0; 1.0 1.0 … 1.0 1.0; … ; 1.0 1.0 … 1.0 1.0; 1.0 1.0 … 1.0 1.0]\n",
       "\n",
       "[1.0 1.0 … 1.0 1.0; 1.0 1.0 … 1.0 1.0; … ; 1.0 1.0 … 1.0 1.0; 1.0 1.0 … 1.0 1.0]\n",
       "\n",
       "[1.0 1.0 … 1.0 1.0; 1.0 1.0 … 1.0 1.0; … ; 1.0 1.0 … 1.0 1.0; 1.0 1.0 … 1.0 1.0]\n",
       "\n",
       "...\n",
       "\n",
       "[1.0 1.0 … 1.0 1.0; 1.0 1.0 … 1.0 1.0; … ; 1.0 1.0 … 1.0 1.0; 1.0 1.0 … 1.0 1.0]\n",
       "\n",
       "[1.0 1.0 … 1.0 1.0; 1.0 1.0 … 1.0 1.0; … ; 1.0 1.0 … 1.0 1.0; 1.0 1.0 … 1.0 1.0]\n",
       "\n",
       "[1.0 1.0 … 1.0 1.0; 1.0 1.0 … 1.0 1.0; … ; 1.0 1.0 … 1.0 1.0; 1.0 1.0 … 1.0 1.0]\n",
       "\n",
       "[1.0 1.0 … 1.0 1.0; 1.0 1.0 … 1.0 1.0; … ; 1.0 1.0 … 1.0 1.0; 1.0 1.0 … 1.0 1.0]\n",
       "\n",
       "[1.0 1.0 … 1.0 1.0; 1.0 1.0 … 1.0 1.0; … ; 1.0 1.0 … 1.0 1.0; 1.0 1.0 … 1.0 1.0]\n",
       "\n",
       "[1.0 1.0 … 1.0 1.0; 1.0 1.0 … 1.0 1.0; … ; 1.0 1.0 … 1.0 1.0; 1.0 1.0 … 1.0 1.0]\n",
       "\n",
       "...\n",
       "\n",
       "[1.0 1.0 … 1.0 1.0; 1.0 1.0 … 1.0 1.0; … ; 1.0 1.0 … 1.0 1.0; 1.0 1.0 … 1.0 1.0]\n",
       "\n",
       "[1.0 1.0 … 1.0 1.0; 1.0 1.0 … 1.0 1.0; … ; 1.0 1.0 … 1.0 1.0; 1.0 1.0 … 1.0 1.0]\n",
       "\n",
       "[1.0 1.0 … 1.0 1.0; 1.0 1.0 … 1.0 1.0; … ; 1.0 1.0 … 1.0 1.0; 1.0 1.0 … 1.0 1.0]\n",
       "\n",
       "...\n",
       "\n",
       "[1.0 1.0 … 1.0 1.0; 1.0 1.0 … 1.0 1.0; … ; 1.0 1.0 … 1.0 1.0; 1.0 1.0 … 1.0 1.0]\n",
       "\n",
       "[1.0 1.0 … 1.0 1.0; 1.0 1.0 … 1.0 1.0; … ; 1.0 1.0 … 1.0 1.0; 1.0 1.0 … 1.0 1.0]\n",
       "\n",
       "[1.0 1.0 … 1.0 1.0; 1.0 1.0 … 1.0 1.0; … ; 1.0 1.0 … 1.0 1.0; 1.0 1.0 … 1.0 1.0]\n",
       "\n",
       "...\n",
       "\n",
       "[1.0 1.0 … 1.0 1.0; 1.0 1.0 … 1.0 1.0; … ; 1.0 1.0 … 1.0 1.0; 1.0 1.0 … 1.0 1.0]\n",
       "\n",
       "[1.0 1.0 … 1.0 1.0; 1.0 1.0 … 1.0 1.0; … ; 1.0 1.0 … 1.0 1.0; 1.0 1.0 … 1.0 1.0]\n",
       "\n",
       "[1.0 1.0 … 1.0 1.0; 1.0 1.0 … 1.0 1.0; … ; 1.0 1.0 … 1.0 1.0; 1.0 1.0 … 1.0 1.0]\n",
       "\n",
       "[1.0 1.0 … 1.0 1.0; 1.0 1.0 … 1.0 1.0; … ; 1.0 1.0 … 1.0 1.0; 1.0 1.0 … 1.0 1.0]\n",
       "\n",
       "[1.0 1.0 … 1.0 1.0; 1.0 1.0 … 1.0 1.0; … ; 1.0 1.0 … 1.0 1.0; 1.0 1.0 … 1.0 1.0]\n",
       "\n",
       "[1.0 1.0 … 1.0 1.0; 1.0 1.0 … 1.0 1.0; … ; 1.0 1.0 … 1.0 1.0; 1.0 1.0 … 1.0 1.0]\n",
       "\n",
       "...\n",
       "\n",
       "[1.0 1.0 … 1.0 1.0; 1.0 1.0 … 1.0 1.0; … ; 1.0 1.0 … 1.0 1.0; 1.0 1.0 … 1.0 1.0]\n",
       "\n",
       "[1.0 1.0 … 1.0 1.0; 1.0 1.0 … 1.0 1.0; … ; 1.0 1.0 … 1.0 1.0; 1.0 1.0 … 1.0 1.0]\n",
       "\n",
       "[1.0 1.0 … 1.0 1.0; 1.0 1.0 … 1.0 1.0; … ; 1.0 1.0 … 1.0 1.0; 1.0 1.0 … 1.0 1.0]\n",
       "\n",
       "[1.0 1.0 … 1.0 1.0; 1.0 1.0 … 1.0 1.0; … ; 1.0 1.0 … 1.0 1.0; 1.0 1.0 … 1.0 1.0]\n",
       "\n",
       "[1.0 1.0 … 1.0 1.0; 1.0 1.0 … 1.0 1.0; … ; 1.0 1.0 … 1.0 1.0; 1.0 1.0 … 1.0 1.0]\n",
       "\n",
       "[1.0 1.0 … 1.0 1.0; 1.0 1.0 … 1.0 1.0; … ; 1.0 1.0 … 1.0 1.0; 1.0 1.0 … 1.0 1.0]\n",
       "\n",
       "...\n",
       "\n",
       "[1.0 1.0 … 1.0 1.0; 1.0 1.0 … 1.0 1.0; … ; 1.0 1.0 … 1.0 1.0; 1.0 1.0 … 1.0 1.0]\n",
       "\n",
       "[1.0 1.0 … 1.0 1.0; 1.0 1.0 … 1.0 1.0; … ; 1.0 1.0 … 1.0 1.0; 1.0 1.0 … 1.0 1.0]\n",
       "\n",
       "[1.0 1.0 … 1.0 1.0; 1.0 1.0 … 1.0 1.0; … ; 1.0 1.0 … 1.0 1.0; 1.0 1.0 … 1.0 1.0]\n",
       " [1.0 1.0 … 1.0 1.0; 1.0 1.0 … 1.0 1.0; … ; 1.0 1.0 … 1.0 1.0; 1.0 1.0 … 1.0 1.0]\n",
       "\n",
       "[1.0 1.0 … 1.0 1.0; 1.0 1.0 … 1.0 1.0; … ; 1.0 1.0 … 1.0 1.0; 1.0 1.0 … 1.0 1.0]\n",
       "\n",
       "[1.0 1.0 … 1.0 1.0; 1.0 1.0 … 1.0 1.0; … ; 1.0 1.0 … 1.0 1.0; 1.0 1.0 … 1.0 1.0]\n",
       "\n",
       "...\n",
       "\n",
       "[1.0 1.0 … 1.0 1.0; 1.0 1.0 … 1.0 1.0; … ; 1.0 1.0 … 1.0 1.0; 1.0 1.0 … 1.0 1.0]\n",
       "\n",
       "[1.0 1.0 … 1.0 1.0; 1.0 1.0 … 1.0 1.0; … ; 1.0 1.0 … 1.0 1.0; 1.0 1.0 … 1.0 1.0]\n",
       "\n",
       "[1.0 1.0 … 1.0 1.0; 1.0 1.0 … 1.0 1.0; … ; 1.0 1.0 … 1.0 1.0; 1.0 1.0 … 1.0 1.0]\n",
       "\n",
       "[1.0 1.0 … 1.0 1.0; 1.0 1.0 … 1.0 1.0; … ; 1.0 1.0 … 1.0 1.0; 1.0 1.0 … 1.0 1.0]\n",
       "\n",
       "[1.0 1.0 … 1.0 1.0; 1.0 1.0 … 1.0 1.0; … ; 1.0 1.0 … 1.0 1.0; 1.0 1.0 … 1.0 1.0]\n",
       "\n",
       "[1.0 1.0 … 1.0 1.0; 1.0 1.0 … 1.0 1.0; … ; 1.0 1.0 … 1.0 1.0; 1.0 1.0 … 1.0 1.0]\n",
       "\n",
       "...\n",
       "\n",
       "[1.0 1.0 … 1.0 1.0; 1.0 1.0 … 1.0 1.0; … ; 1.0 1.0 … 1.0 1.0; 1.0 1.0 … 1.0 1.0]\n",
       "\n",
       "[1.0 1.0 … 1.0 1.0; 1.0 1.0 … 1.0 1.0; … ; 1.0 1.0 … 1.0 1.0; 1.0 1.0 … 1.0 1.0]\n",
       "\n",
       "[1.0 1.0 … 1.0 1.0; 1.0 1.0 … 1.0 1.0; … ; 1.0 1.0 … 1.0 1.0; 1.0 1.0 … 1.0 1.0]\n",
       "\n",
       "[1.0 1.0 … 1.0 1.0; 1.0 1.0 … 1.0 1.0; … ; 1.0 1.0 … 1.0 1.0; 1.0 1.0 … 1.0 1.0]\n",
       "\n",
       "[1.0 1.0 … 1.0 1.0; 1.0 1.0 … 1.0 1.0; … ; 1.0 1.0 … 1.0 1.0; 1.0 1.0 … 1.0 1.0]\n",
       "\n",
       "[1.0 1.0 … 1.0 1.0; 1.0 1.0 … 1.0 1.0; … ; 1.0 1.0 … 1.0 1.0; 1.0 1.0 … 1.0 1.0]\n",
       "\n",
       "...\n",
       "\n",
       "[1.0 1.0 … 1.0 1.0; 1.0 1.0 … 1.0 1.0; … ; 1.0 1.0 … 1.0 1.0; 1.0 1.0 … 1.0 1.0]\n",
       "\n",
       "[1.0 1.0 … 1.0 1.0; 1.0 1.0 … 1.0 1.0; … ; 1.0 1.0 … 1.0 1.0; 1.0 1.0 … 1.0 1.0]\n",
       "\n",
       "[1.0 1.0 … 1.0 1.0; 1.0 1.0 … 1.0 1.0; … ; 1.0 1.0 … 1.0 1.0; 1.0 1.0 … 1.0 1.0]\n",
       "\n",
       "...\n",
       "\n",
       "[1.0 1.0 … 1.0 1.0; 1.0 1.0 … 1.0 1.0; … ; 1.0 1.0 … 1.0 1.0; 1.0 1.0 … 1.0 1.0]\n",
       "\n",
       "[1.0 1.0 … 1.0 1.0; 1.0 1.0 … 1.0 1.0; … ; 1.0 1.0 … 1.0 1.0; 1.0 1.0 … 1.0 1.0]\n",
       "\n",
       "[1.0 1.0 … 1.0 1.0; 1.0 1.0 … 1.0 1.0; … ; 1.0 1.0 … 1.0 1.0; 1.0 1.0 … 1.0 1.0]\n",
       "\n",
       "...\n",
       "\n",
       "[1.0 1.0 … 1.0 1.0; 1.0 1.0 … 1.0 1.0; … ; 1.0 1.0 … 1.0 1.0; 1.0 1.0 … 1.0 1.0]\n",
       "\n",
       "[1.0 1.0 … 1.0 1.0; 1.0 1.0 … 1.0 1.0; … ; 1.0 1.0 … 1.0 1.0; 1.0 1.0 … 1.0 1.0]\n",
       "\n",
       "[1.0 1.0 … 1.0 1.0; 1.0 1.0 … 1.0 1.0; … ; 1.0 1.0 … 1.0 1.0; 1.0 1.0 … 1.0 1.0]\n",
       "\n",
       "[1.0 1.0 … 1.0 1.0; 1.0 1.0 … 1.0 1.0; … ; 1.0 1.0 … 1.0 1.0; 1.0 1.0 … 1.0 1.0]\n",
       "\n",
       "[1.0 1.0 … 1.0 1.0; 1.0 1.0 … 1.0 1.0; … ; 1.0 1.0 … 1.0 1.0; 1.0 1.0 … 1.0 1.0]\n",
       "\n",
       "[1.0 1.0 … 1.0 1.0; 1.0 1.0 … 1.0 1.0; … ; 1.0 1.0 … 1.0 1.0; 1.0 1.0 … 1.0 1.0]\n",
       "\n",
       "...\n",
       "\n",
       "[1.0 1.0 … 1.0 1.0; 1.0 1.0 … 1.0 1.0; … ; 1.0 1.0 … 1.0 1.0; 1.0 1.0 … 1.0 1.0]\n",
       "\n",
       "[1.0 1.0 … 1.0 1.0; 1.0 1.0 … 1.0 1.0; … ; 1.0 1.0 … 1.0 1.0; 1.0 1.0 … 1.0 1.0]\n",
       "\n",
       "[1.0 1.0 … 1.0 1.0; 1.0 1.0 … 1.0 1.0; … ; 1.0 1.0 … 1.0 1.0; 1.0 1.0 … 1.0 1.0]\n",
       "\n",
       "[1.0 1.0 … 1.0 1.0; 1.0 1.0 … 1.0 1.0; … ; 1.0 1.0 … 1.0 1.0; 1.0 1.0 … 1.0 1.0]\n",
       "\n",
       "[1.0 1.0 … 1.0 1.0; 1.0 1.0 … 1.0 1.0; … ; 1.0 1.0 … 1.0 1.0; 1.0 1.0 … 1.0 1.0]\n",
       "\n",
       "[1.0 1.0 … 1.0 1.0; 1.0 1.0 … 1.0 1.0; … ; 1.0 1.0 … 1.0 1.0; 1.0 1.0 … 1.0 1.0]\n",
       "\n",
       "...\n",
       "\n",
       "[1.0 1.0 … 1.0 1.0; 1.0 1.0 … 1.0 1.0; … ; 1.0 1.0 … 1.0 1.0; 1.0 1.0 … 1.0 1.0]\n",
       "\n",
       "[1.0 1.0 … 1.0 1.0; 1.0 1.0 … 1.0 1.0; … ; 1.0 1.0 … 1.0 1.0; 1.0 1.0 … 1.0 1.0]\n",
       "\n",
       "[1.0 1.0 … 1.0 1.0; 1.0 1.0 … 1.0 1.0; … ; 1.0 1.0 … 1.0 1.0; 1.0 1.0 … 1.0 1.0]"
      ]
     },
     "execution_count": 127,
     "metadata": {},
     "output_type": "execute_result"
    }
   ],
   "source": [
    "a = ones(26,26,512,16)\n",
    "b = ones(26,26,512,16)\n",
    "c = ones(26,26,512,16)\n",
    "ab = [a,b]\n",
    "l = [2, 1]\n",
    "y = sum(ab[l], dims=4)\n",
    "size(y)\n",
    "ab[l]\n",
    "y"
   ]
  },
  {
   "cell_type": "code",
   "execution_count": 71,
   "metadata": {},
   "outputs": [
    {
     "name": "stderr",
     "output_type": "stream",
     "text": [
      "WARNING: replacing module NN.\n"
     ]
    }
   ],
   "source": [
    "include(\"nn.jl\")\n",
    "\n",
    "import .NN"
   ]
  },
  {
   "cell_type": "code",
   "execution_count": 72,
   "metadata": {},
   "outputs": [],
   "source": [
    "function dtype(); CUDA.functional() ? KnetArray{Float32} : Array{Float32}; end;\n",
    "\n",
    "# Define dense layer:\n",
    "struct Dense\n",
    "    w; b; f; p; \n",
    "    \n",
    "    function Dense(inputsize::Int, outputsize::Int, f=relu; \n",
    "            pdrop=0, atype=dtype())\n",
    "        \n",
    "        return new(\n",
    "            param(outputsize, inputsize; atype=atype),\n",
    "            param0(outputsize; atype=atype),\n",
    "            f,\n",
    "            pdrop\n",
    "        )\n",
    "    end\n",
    "end\n",
    "\n",
    "(d::Dense)(x) = d.f.(d.w * mat(dropout(x, d.p)) .+ d.b)\n",
    "\n",
    "\n",
    "# Define convolutional layer:\n",
    "struct Conv \n",
    "    w; b; f; p; \n",
    "    \n",
    "    function Conv(w1::Int, w2::Int, cx::Int, cy::Int, f=relu;\n",
    "            pdrop=0, atype=dtype())\n",
    "        \n",
    "        return new(\n",
    "            param(w1,w2,cx,cy; atype=atype), \n",
    "            param0(1,1,cy,1; atype=atype),\n",
    "            f,\n",
    "            pdrop\n",
    "        )\n",
    "    end\n",
    "end\n",
    "\n",
    "(c::Conv)(x) = c.f.(conv4(c.w, dropout(x, c.p)) .+ c.b)\n",
    "\n",
    "\n",
    "# Define chain of layers\n",
    "struct Chain\n",
    "    layers\n",
    "    Chain(layers...) = new(layers)\n",
    "end\n",
    "\n",
    "(c::Chain)(x) = (for l in c.layers; x = l(x); end; x)  # Forward pass\n",
    "\n",
    "# Loss and accuracy\n",
    "function (c::Chain)(x, y; accuracy::Bool=false)\n",
    "    y_pred = c(x)\n",
    "    \n",
    "    if accuracy\n",
    "        correct = 0.0\n",
    "        \n",
    "        for i=1:length(y)\n",
    "            correct += y[i] == findmax(y_pred[:, i]; dims=1)[2][1] ? 1.0 : 0.0\n",
    "        end\n",
    "        \n",
    "        return correct / length(y)\n",
    "    else\n",
    "        return nll(y_pred, y)\n",
    "    end\n",
    "end\n",
    "\n",
    "(c::Chain)(d::Data; accuracy::Bool=false) = mean(c(x,y; accuracy=accuracy) for (x,y) in d)  # Batch loss"
   ]
  },
  {
   "cell_type": "code",
   "execution_count": 74,
   "metadata": {},
   "outputs": [
    {
     "name": "stdout",
     "output_type": "stream",
     "text": [
      "yolo\n"
     ]
    },
    {
     "name": "stderr",
     "output_type": "stream",
     "text": [
      "WARNING: replacing module NN.\n"
     ]
    },
    {
     "name": "stdout",
     "output_type": "stream",
     "text": [
      "yolo\n",
      "yolo\n"
     ]
    }
   ],
   "source": [
    "# Load data\n",
    "xtrn, ytrn = MNIST.traindata(Float32); ytrn[ytrn.==0] .= 10;\n",
    "xtst, ytst = MNIST.testdata(Float32);  ytst[ytst.==0] .= 10;\n",
    "xtrn = reshape(xtrn, (28, 28, 1, :))\n",
    "xtrn = xtrn[:,:,:,1:250]\n",
    "xtrn = unpool(xtrn; stride=14)\n",
    "xtst = reshape(xtst, (28, 28, 1, :))\n",
    "xtst = xtst[:,:,:,1:50]\n",
    "xtst = unpool(xtst; stride=14)\n",
    "dtrn = minibatch(xtrn, ytrn[1:250], 4; xsize = (380,380,1,:), xtype=Knet.atype(), shuffle=true);\n",
    "dtst = minibatch(xtst, ytst[1:50], 4; xsize = (380,380,1,:), xtype=Knet.atype());\n",
    "\n",
    "include(\"utils/parse_config.jl\")\n",
    "include(\"models.jl\")\n",
    "\n",
    "darknet = Darknet(\"mnist.cfg\"; verbose=true);\n"
   ]
  },
  {
   "cell_type": "code",
   "execution_count": 5,
   "metadata": {},
   "outputs": [
    {
     "data": {
      "text/plain": [
       "train! (generic function with 2 methods)"
      ]
     },
     "execution_count": 5,
     "metadata": {},
     "output_type": "execute_result"
    }
   ],
   "source": [
    "include(\"nn.jl\")\n",
    "\n",
    "import .NN\n",
    "\n",
    "function train!(model::NN.Chain, train_data::Data, test_data::Data;\n",
    "                  period::Int=4, iters::Int=100, lr=0.15, optimizer=sgd!)  # or optimizer=adam!\n",
    "    \n",
    "    train_loss = []\n",
    "    test_loss = []\n",
    "    train_acc = []\n",
    "    test_acc = []\n",
    "    \n",
    "    for i in 0:period:iters\n",
    "        push!(train_loss, model(train_data))\n",
    "        push!(test_loss, model(test_data))\n",
    "    \n",
    "        push!(train_acc, model(train_data; accuracy=true))\n",
    "        push!(test_acc, model(test_data; accuracy=true))\n",
    "        \n",
    "        optimizer(model, take(cycle(train_data), period); lr=lr)\n",
    "        \n",
    "        \n",
    "            println(\"Iter: \", i)\n",
    "    end\n",
    "    \n",
    "    return 0:period:iters, train_loss, train_acc, test_loss, test_acc\n",
    "end"
   ]
  },
  {
   "cell_type": "code",
   "execution_count": 6,
   "metadata": {},
   "outputs": [
    {
     "name": "stdout",
     "output_type": "stream",
     "text": [
      "Iter: 0\n",
      "Iter: 1\n",
      "Iter: 2\n",
      "Iter: 3\n",
      "Iter: 4\n",
      "Iter: 5\n",
      "Iter: 6\n",
      "Iter: 7\n",
      "Iter: 8\n",
      "Iter: 9\n",
      "Iter: 10\n",
      "Iter: 11\n",
      "Iter: 12\n",
      "Iter: 13\n",
      "Iter: 14\n",
      "Iter: 15\n",
      "Iter: 16\n",
      "Train loss: 1.48, Best train accuracy: 0.65"
     ]
    },
    {
     "data": {
      "image/png": "[encoded data removed]"
     },
     "metadata": {},
     "output_type": "display_data"
    },
    {
     "data": {
      "image/png": "[encoded data removed]"
     },
     "metadata": {},
     "output_type": "display_data"
    },
    {
     "name": "stdout",
     "output_type": "stream",
     "text": [
      "\n",
      "Test loss: 2.11, Best test accuracy: 0.38\n"
     ]
    }
   ],
   "source": [
    "\n",
    "\n",
    "Random.seed!(1)\n",
    "\n",
    "model = NN.Chain(\n",
    "    NN.Conv2d(1, 1, 5),\n",
    "    NN.LeakyReLU(),\n",
    "    NN.Upsample2d(2),\n",
    "    NN.Dense(2888000,10,identity),\n",
    ")\n",
    "\n",
    "\n",
    "model = NN.Chain(\n",
    "    darknet,\n",
    "    NN.Dense(587520,10,identity)\n",
    ")\n",
    "\n",
    "xtrn, ytrn = MNIST.traindata(Float32); ytrn[ytrn.==0] .= 10;\n",
    "xtst, ytst = MNIST.testdata(Float32);  ytst[ytst.==0] .= 10;\n",
    "xtrn = reshape(xtrn, (28, 28, 1, :))\n",
    "xtrn = xtrn[:,:,:,1:20]\n",
    "xtrn = unpool(xtrn; stride=14)\n",
    "xtst = reshape(xtst, (28, 28, 1, :))\n",
    "xtst = xtst[:,:,:,1:8]\n",
    "xtst = unpool(xtst; stride=14)\n",
    "dtrn = minibatch(xtrn, ytrn[1:20], 4; xsize = (380,380,1,:), xtype=Knet.atype(), shuffle=true);\n",
    "dtst = minibatch(xtst, ytst[1:8], 4; xsize = (380,380,1,:), xtype=Knet.atype());\n",
    "\n",
    "\n",
    "iters, trnloss, trnacc, tstloss, tstacc = train!(\n",
    "    model, dtrn, dtst; \n",
    "    period=1, iters=16, lr=0.15, optimizer=sgd!);\n",
    "\n",
    "# @time train!(\n",
    "#     model, dtrn, dtst; \n",
    "#     period=1, iters=10, lr=0.15, optimizer=sgd!);\n",
    "\n",
    "println(\"Train loss: $(round(trnloss[end], digits=2)), Best train accuracy: $(ceil(maximum(trnacc), digits=2))\")\n",
    "println(\"Test loss: $(round(tstloss[end], digits=2)), Best test accuracy: $(ceil(maximum(tstacc), digits=2))\")\n",
    "\n",
    "plot(iters, trnloss, label=\"train\", xlabel=\"Iterations\", ylabel=\"Loss\")\n",
    "display(plot!(iters, tstloss, label=\"test\"))\n",
    "\n",
    "plot(iters, round.(1 .- trnacc, digits=2), label=\"train\", xlabel=\"Iterations\", ylabel=\"Misclassification error\")\n",
    "display(plot!(iters, round.(1 .- tstacc, digits=2), label=\"test\"))"
   ]
  },
  {
   "cell_type": "code",
   "execution_count": 90,
   "metadata": {},
   "outputs": [
    {
     "data": {
      "text/plain": [
       "20-element Array{Int64,1}:\n",
       "  7\n",
       "  2\n",
       "  1\n",
       " 10\n",
       "  4\n",
       "  1\n",
       "  4\n",
       "  9\n",
       "  5\n",
       "  9\n",
       " 10\n",
       "  6\n",
       "  9\n",
       " 10\n",
       "  1\n",
       "  5\n",
       "  9\n",
       "  7\n",
       "  3\n",
       "  4"
      ]
     },
     "execution_count": 90,
     "metadata": {},
     "output_type": "execute_result"
    }
   ],
   "source": [
    "ytst[1:20]"
   ]
  },
  {
   "cell_type": "code",
   "execution_count": 81,
   "metadata": {},
   "outputs": [
    {
     "data": {
      "text/plain": [
       "6×6×1×1 Array{Float32,4}:\n",
       "[:, :, 1, 1] =\n",
       " 1.0   7.0  13.0  19.0  25.0  31.0\n",
       " 2.0   8.0  14.0  20.0  26.0  32.0\n",
       " 3.0   9.0  15.0  21.0  27.0  33.0\n",
       " 4.0  10.0  16.0  22.0  28.0  34.0\n",
       " 5.0  11.0  17.0  23.0  29.0  35.0\n",
       " 6.0  12.0  18.0  24.0  30.0  36.0"
      ]
     },
     "execution_count": 81,
     "metadata": {},
     "output_type": "execute_result"
    }
   ],
   "source": [
    "xx = convert(Knet.atype(), reshape(1:36, (6, 6, 1, 1)))\n",
    "# y = dl2(xx)"
   ]
  },
  {
   "cell_type": "code",
   "execution_count": 79,
   "metadata": {},
   "outputs": [
    {
     "data": {
      "text/plain": [
       "24×24×1×1 Array{Float32,4}:\n",
       "[:, :, 1, 1] =\n",
       " 1.0  1.0  1.0  1.0   7.0   7.0   7.0  …  25.0  25.0  31.0  31.0  31.0  31.0\n",
       " 1.0  1.0  1.0  1.0   7.0   7.0   7.0     25.0  25.0  31.0  31.0  31.0  31.0\n",
       " 1.0  1.0  1.0  1.0   7.0   7.0   7.0     25.0  25.0  31.0  31.0  31.0  31.0\n",
       " 1.0  1.0  1.0  1.0   7.0   7.0   7.0     25.0  25.0  31.0  31.0  31.0  31.0\n",
       " 2.0  2.0  2.0  2.0   8.0   8.0   8.0     26.0  26.0  32.0  32.0  32.0  32.0\n",
       " 2.0  2.0  2.0  2.0   8.0   8.0   8.0  …  26.0  26.0  32.0  32.0  32.0  32.0\n",
       " 2.0  2.0  2.0  2.0   8.0   8.0   8.0     26.0  26.0  32.0  32.0  32.0  32.0\n",
       " 2.0  2.0  2.0  2.0   8.0   8.0   8.0     26.0  26.0  32.0  32.0  32.0  32.0\n",
       " 3.0  3.0  3.0  3.0   9.0   9.0   9.0     27.0  27.0  33.0  33.0  33.0  33.0\n",
       " 3.0  3.0  3.0  3.0   9.0   9.0   9.0     27.0  27.0  33.0  33.0  33.0  33.0\n",
       " 3.0  3.0  3.0  3.0   9.0   9.0   9.0  …  27.0  27.0  33.0  33.0  33.0  33.0\n",
       " 3.0  3.0  3.0  3.0   9.0   9.0   9.0     27.0  27.0  33.0  33.0  33.0  33.0\n",
       " 4.0  4.0  4.0  4.0  10.0  10.0  10.0     28.0  28.0  34.0  34.0  34.0  34.0\n",
       " 4.0  4.0  4.0  4.0  10.0  10.0  10.0     28.0  28.0  34.0  34.0  34.0  34.0\n",
       " 4.0  4.0  4.0  4.0  10.0  10.0  10.0     28.0  28.0  34.0  34.0  34.0  34.0\n",
       " 4.0  4.0  4.0  4.0  10.0  10.0  10.0  …  28.0  28.0  34.0  34.0  34.0  34.0\n",
       " 5.0  5.0  5.0  5.0  11.0  11.0  11.0     29.0  29.0  35.0  35.0  35.0  35.0\n",
       " 5.0  5.0  5.0  5.0  11.0  11.0  11.0     29.0  29.0  35.0  35.0  35.0  35.0\n",
       " 5.0  5.0  5.0  5.0  11.0  11.0  11.0     29.0  29.0  35.0  35.0  35.0  35.0\n",
       " 5.0  5.0  5.0  5.0  11.0  11.0  11.0     29.0  29.0  35.0  35.0  35.0  35.0\n",
       " 6.0  6.0  6.0  6.0  12.0  12.0  12.0  …  30.0  30.0  36.0  36.0  36.0  36.0\n",
       " 6.0  6.0  6.0  6.0  12.0  12.0  12.0     30.0  30.0  36.0  36.0  36.0  36.0\n",
       " 6.0  6.0  6.0  6.0  12.0  12.0  12.0     30.0  30.0  36.0  36.0  36.0  36.0\n",
       " 6.0  6.0  6.0  6.0  12.0  12.0  12.0     30.0  30.0  36.0  36.0  36.0  36.0"
      ]
     },
     "execution_count": 79,
     "metadata": {},
     "output_type": "execute_result"
    }
   ],
   "source": [
    "unpool(xx; window=4)"
   ]
  },
  {
   "cell_type": "code",
   "execution_count": null,
   "metadata": {},
   "outputs": [],
   "source": [
    " "
   ]
  }
 ],
 "metadata": {
  "kernelspec": {
   "display_name": "Julia 1.5.2",
   "language": "julia",
   "name": "julia-1.5"
  },
  "language_info": {
   "file_extension": ".jl",
   "mimetype": "application/julia",
   "name": "julia",
   "version": "1.5.2"
  }
 },
 "nbformat": 4,
 "nbformat_minor": 4
}
